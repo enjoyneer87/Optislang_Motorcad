{
 "cells": [
  {
   "cell_type": "code",
   "execution_count": null,
   "metadata": {},
   "outputs": [],
   "source": [
    "import win32com.client\n",
    "import os\n",
    "import numpy as np\n",
    "import time\n",
    "from os import getcwd\n",
    "from os.path import join, dirname, exists\n",
    "from math import pi, sqrt\n",
    "from scipy.io import loadmat"
   ]
  },
  {
   "cell_type": "code",
   "execution_count": null,
   "metadata": {},
   "outputs": [],
   "source": [
    "# from MotorCAD_Methods import MotorCAD, AddRemoteNachine, RemoteMachine\n",
    "\n",
    "# mc=MotorCAD()"
   ]
  },
  {
   "cell_type": "markdown",
   "metadata": {},
   "source": [
    " # 1.Running Mode & Working directories "
   ]
  },
  {
   "cell_type": "code",
   "execution_count": null,
   "metadata": {},
   "outputs": [],
   "source": [
    "refdir=\"D:\\KDH\\Thesis\\Rotem_HDEV\\MCAD\"\n",
    "wdir=\"D:\\KDH\\Thesis\\Rotem_HDEV\\MCADNEW\"\n",
    "Design_Name = \"Rotem_220413\""
   ]
  },
  {
   "cell_type": "code",
   "execution_count": null,
   "metadata": {},
   "outputs": [],
   "source": [
    "# Modes\n",
    "#    * OSL-runtime mode : in optiSLang environment, when running a parametric, sensitivity or optimisation study\n",
    "#    * OSL-setup mode   : in optiSlang environment, when initialising the script and i/o (Python integration node)\n",
    "#    * IDE-run          : in IDE console, for testing purpose only\n",
    "\n",
    "# Mode detection\n",
    "if 'OSL_PROJECT_DIR' in locals():                       # Working in optiSLang \n",
    "    within_OSL = True\n",
    "else:\n",
    "    within_OSL = False                                  # Working in IDE console \n",
    "    OSL_REGULAR_EXECUTION = False\n",
    "    OSL_DESIGN_NAME = 'Design0001'   \n",
    "    OSL_DESIGN_NO   = 1.0    \n",
    "\n",
    "\n",
    "if within_OSL:                                          # Working in optiSLang\n",
    "    if OSL_REGULAR_EXECUTION:\n",
    "        run_mode = 'OSL_run'                            # OSL-runtime mode\n",
    "    else:\n",
    "        run_mode = 'OSL_setup'                          # OSL-setup mode\n",
    "    from pyvariant import list_list_2_variant_signal\n",
    "else:                                                   # Working in IDE\n",
    "    run_mode = 'IDE_run'                                # IDE-run mode\n",
    "\n",
    "# Directories\n",
    "if run_mode.startswith('OSL'):                                 # Working in optiSLang \n",
    "    print('[INFO] Running in OSL environment')\n",
    "    wdir = OSL_DESIGN_DIR\n",
    "    refdir = join(dirname(dirname(OSL_PROJECT_DIR)), 'MCAD')\n",
    "    print('[INFO] Working directory: ', wdir)\n",
    "    print('[INFO] Reference MCAD directory: ', refdir)\n",
    "else:                                                          # Working in IDE console\n",
    "    print('[INFO] Running in IDE console')\n",
    "    #refdir = join(dirname(dirname('Rotem_HDEV.ipynb')), 'MCAD')\n",
    "    refdir=\"D:\\KDH\\Thesis\\Rotem_HDEV\\MCAD\"\n",
    "    wdir = join(getcwd(), 'test_run')\n",
    "    if not exists(wdir):\n",
    "        os.mkdir(wdir)\n",
    "    print('[INFO] Working directory: ', wdir)\n",
    "    print('[INFO] Reference MCAD directory: ', refdir)\n",
    "    "
   ]
  },
  {
   "cell_type": "code",
   "execution_count": null,
   "metadata": {},
   "outputs": [],
   "source": [
    "dirname('Rotem_HDEV.ipynb')"
   ]
  },
  {
   "cell_type": "markdown",
   "metadata": {},
   "source": [
    "# 2.모터캐드 모델 정의 "
   ]
  },
  {
   "cell_type": "markdown",
   "metadata": {},
   "source": [
    "## 형상"
   ]
  },
  {
   "cell_type": "code",
   "execution_count": null,
   "metadata": {},
   "outputs": [],
   "source": [
    "# Machine length\n",
    "def fun_Machine_Length(p_EndSpace_Height, p_Wdg_Overhang, i_Active_Length):\n",
    "    res = i_Active_Length + 2*(p_EndSpace_Height + p_Wdg_Overhang)\n",
    "    return res\n",
    "\n",
    "# Active volume\n",
    "def fun_Active_Volume(Stator_OD, Active_Length):  \n",
    "    res = pi*Stator_OD**2/4*Active_Length*1e-9\n",
    "    return res\n",
    "\n",
    "# Air pocket\n",
    "def fun_Air_Pocket(Mag_Thick, Mag_Clear):\n",
    "    res = (Mag_Thick + Mag_Clear)/2 \n",
    "    return res\n",
    "\n",
    "### Performances\n",
    "\n",
    "# Torque density\n",
    "def fun_Torque_Density(Torque, Volume):           \n",
    "    res = Torque/Volume*1e-3\n",
    "    return res\n",
    " \n",
    "# Stress safety factor\n",
    "def fun_Stress_Safety(Rotor_Yield, Stress_Max):            \n",
    "    res = Rotor_Yield/Stress_Max\n",
    "    return res"
   ]
  },
  {
   "cell_type": "markdown",
   "metadata": {},
   "source": [
    "##  Inputs"
   ]
  },
  {
   "cell_type": "code",
   "execution_count": null,
   "metadata": {},
   "outputs": [],
   "source": [
    "### Motor-CAD options\n",
    "\n",
    "Design_Name = \"Rotem_220413\"   # Reference Motor-CAD design\n",
    "\n",
    "Visible_Opt     = 1.           # Set Motor-CAD visible\n",
    "Message_Display = 2.           # Display all pop-up messages \n",
    "Save_Prompt     = 1.           # Never prompt to save file\n",
    "\n"
   ]
  },
  {
   "cell_type": "markdown",
   "metadata": {},
   "source": []
  },
  {
   "cell_type": "code",
   "execution_count": null,
   "metadata": {},
   "outputs": [],
   "source": [
    "### Geometry\n",
    "\n",
    "p_Pole_Pair            = 8.    # Number of rotor poles\n",
    "p_Stator_Slots         = 48.   # Number of stator slots\n",
    "p_Tooth_Tip_Depth      = 1.    # Tooth tip depth\n",
    "p_Tooth_Tip_Angle      = 30.   # Tooth tip angle\n",
    "p_Stator_OD            = 300.  # Stator outer diameter\n",
    "p_EndSpace_Height      = 15.   # Space between winding ends and caps\n",
    "p_Wdg_Overhang         = 20.   # Winding overhang height\n",
    "p_Airgap_Mecha         = 1.    # Mechanical airgap\n",
    "p_Mag_Clear            = 0.5   # Magnet clearance\n",
    "p_Shaft_OD_Ratio       = 0.7   # Ratio of shaft diameter\n",
    "p_Mag_Width_Ratio      = 1.0   # Ratio of magnet width\n",
    "p_Mag_Separation_Min   = 2.0    # Minimum separation between magnet poles\n",
    "p_Shaft_Separation_Min = 5.0   # Minimum separation between shaft and magnets\n",
    "p_Mag_AspectRatio_Min  = 0.5   # Minimum magnet aspect ratio\n",
    "\n",
    "### Winding\n",
    "p_Coils_Slot    = 2.    # Number of coils going through each slot\n",
    "p_Turns_Coil    = 40.   # Number of turns per coil\n",
    "p_Parallel_Path = 8.    # Number of parallel paths per phase\n",
    "p_Slot_Fill     = 0.4   # Copper slot fill factor\n",
    "\n",
    "### Materials\n",
    "p_Yield_Rotor  = 460.   # Rotor core yield strength\n",
    "p_Temp_Wdg_Max = 180.   # Maximum winding temperature\n",
    "p_Temp_Mag_Max = 140.   # Maximum magnet temperature\n",
    "\n",
    "### Performance\n",
    "p_Speed_Max        = 7000.   # Maximum operating speed\n",
    "p_Line_Current_RMS = 500.    # Maximum RMS line current\n",
    "\n",
    "### Calculation settings\n",
    "p_Speed_Lab_Step    = 100.                              # Speed step used in Lab\n",
    "p_Speed_Peak_Array  = np.array([500., 3000., 6000.])    # Speeds for peak performance calculation \n",
    "p_Speed_Cont_Array  = np.array([1000., 5000.])          # Speeds for continuous performance calculation\n",
    "p_Torque_Pts        = 90         \n",
    "\n",
    "### Post-processing \n",
    "Pic_Export = 1      # Export geometry snapshots (0: No  1: Yes)\n",
    "\n",
    " ### Dependent parameters   \n",
    "Speed_Max_Rad = pi*p_Speed_Max/30                                               # Maximum speed in radians\n",
    "Speed_Lab     = np.arange(0, p_Speed_Max + p_Speed_Lab_Step, p_Speed_Lab_Step)  # Speed vector in Lab\n",
    "Speed_Lab     = Speed_Lab.tolist()                                              # Required for signal generation\n",
    "Speed_Lab_Len = len(Speed_Lab)     "
   ]
  },
  {
   "cell_type": "markdown",
   "metadata": {},
   "source": [
    "### Input parameters for testing in IDE or initialisation in OSL Python node"
   ]
  },
  {
   "cell_type": "code",
   "execution_count": null,
   "metadata": {},
   "outputs": [],
   "source": [
    "if run_mode in ['OSL_setup', 'IDE_run']:\n",
    "\n",
    "    i_Active_Length     = 110.   # Active length\n",
    "    i_Mag_Thick         = 5.5    # Magnet thickness\n",
    "    i_Mag_Post          = 2.0    # Magnet post\n",
    "    i_Bridge_Thick      = 1.0    # Bridge thickness\n",
    "    i_Pole_V_Angle      = 110.   # V-angle in mech. degrees\n",
    "    i_Split_Ratio       = 0.6    # Ratio of stator bore\n",
    "    i_Tooth_Width_Ratio = 0.5    # Ratio of tooth width\n",
    "    i_Slot_Depth_Ratio  = 0.6    # Ratio of slot depth\n",
    "    i_Slot_Op_Ratio     = 0.7    # Ratio of slot opening\n",
    "    i_Pole_Arc_Ratio    = 0.8    # Ratio of pole arc or magnet V width\n",
    "\n",
    "\n",
    "### Real solver run: 'IDE_run' mode or 'OSL_run' mode\n",
    "#if run_mode.endswith('run'):   "
   ]
  },
  {
   "cell_type": "markdown",
   "metadata": {},
   "source": [
    "# 3.CALCULATIONS       \n"
   ]
  },
  {
   "cell_type": "markdown",
   "metadata": {},
   "source": [
    "### pre-calculations in PYTHON   \n",
    "\n"
   ]
  },
  {
   "cell_type": "code",
   "execution_count": null,
   "metadata": {},
   "outputs": [],
   "source": [
    "### Geometry parameters\n",
    "Machine_Length = fun_Machine_Length(p_EndSpace_Height, p_Wdg_Overhang, i_Active_Length)\n",
    "Air_Pocket     = fun_Air_Pocket(i_Mag_Thick, p_Mag_Clear)\n",
    "Active_Volume  = fun_Active_Volume(p_Stator_OD, i_Active_Length)     # In [m3]"
   ]
  },
  {
   "cell_type": "markdown",
   "metadata": {},
   "source": [
    "###    MOTOR-CAD   \n"
   ]
  },
  {
   "cell_type": "code",
   "execution_count": null,
   "metadata": {},
   "outputs": [],
   "source": [
    "### Load reference Motor-CAD file\n",
    "mcApp = win32com.client.Dispatch(\"MotorCAD.AppAutomation\")  # Launch Motor-CAD application\n",
    "#mcApp.Visible = Visible_Opt                                 # Set Motor-CAD visible or not\n",
    "mcApp.SetVariable('MessageDisplayState', Message_Display)   # Set state of message display \n",
    "mcApp.SetVariable(\"SavePrompt\", Save_Prompt)                # Remove autosave function or not\n",
    "myPID = os.getpid()\t\t\t\t\t\t\t\t\t\t\t# Pass this process id to Motor-CAD so that Motor-CAD will \n",
    "print(myPID)                                                # close when this process completes\n",
    "mcApp.SetVariable(\"OwnerProcessID\", myPID)\n",
    "mcApp.ShowMessage(myPID)      \n",
    "mot_file_ref_path = join(refdir, Design_Name + \".mot\")                       # Path to the reference *.mot file\n",
    "mot_file_new_path = join(wdir, Design_Name + '_' + OSL_DESIGN_NAME + \".mot\") # Path to the new *.mot file\n",
    "print(\"[INFO] Load reference MCAD file from: \", mot_file_ref_path)                                    \n",
    "mcApp.LoadFromFile(mot_file_ref_path)                                        # Load reference Motor-CAD file\n",
    "print(\"[INFO] Design file saved as: \", mot_file_new_path)                                    \n",
    "mcApp.SaveToFile(mot_file_new_path)                                          # Save in new location\n",
    "mot_file_dir = join(wdir, Design_Name + '_' + OSL_DESIGN_NAME)\n"
   ]
  },
  {
   "attachments": {},
   "cell_type": "markdown",
   "metadata": {},
   "source": [
    "# Test"
   ]
  },
  {
   "cell_type": "code",
   "execution_count": null,
   "metadata": {},
   "outputs": [],
   "source": [
    "mcApp = win32com.client.Dispatch(\"MotorCAD.AppAutomation\")  # Launch Motor-CAD application"
   ]
  },
  {
   "attachments": {},
   "cell_type": "markdown",
   "metadata": {},
   "source": [
    "## Stator "
   ]
  },
  {
   "attachments": {},
   "cell_type": "markdown",
   "metadata": {},
   "source": [
    "### Absoulute Input (left table)"
   ]
  },
  {
   "cell_type": "code",
   "execution_count": null,
   "metadata": {},
   "outputs": [],
   "source": [
    "# Predefine Variable\n",
    "i_Slot_Corner_Radius    = 1.4     \n",
    "p_Tooth_Tip_Depth       = 1       \n",
    "p_Tooth_Tip_Angle       = 20      \n",
    "i_Stator_OD             = 400                            \n",
    "# Set Variable\n",
    "mcApp.SetVariable('Slot_Corner_Radius', i_Slot_Corner_Radius)               # Slot_Corner_Radius      \n",
    "mcApp.SetVariable('Tooth_Tip_Depth', p_Tooth_Tip_Depth)                     # Tooth tip depth\n",
    "mcApp.SetVariable('Tooth_Tip_Angle', p_Tooth_Tip_Angle)                     # Tooth tip angle\n",
    "mcApp.SetVariable('Stator_Lam_Dia', i_Stator_OD)                            # Stator OD "
   ]
  },
  {
   "attachments": {},
   "cell_type": "markdown",
   "metadata": {},
   "source": [
    "### Ratio  (Stator w Hierachy)"
   ]
  },
  {
   "cell_type": "code",
   "execution_count": null,
   "metadata": {},
   "outputs": [],
   "source": [
    "# Predefine Variable\n",
    "i_Split_Ratio                       =0.77                                          #Ratio of stator bore\n",
    "p_Slot_Depth_Ratio                  =1                                             #Ratio_SlotDepth_ParallelTooth\" )   ## Fixed\n",
    "#i_MinBackIronThickness                                                    #Abosolute be user-defined with Y to T ratio\n",
    "i_Tooth_Width_Ratio                 =0.6                                           #Ratio_ToothWidth\" ) \n",
    "u_YtoT                              =2.5                                           #ratio user defined YtoT \n",
    "#[success,i_Tooth_Width]             =invoke(mcad,'GetVariable',\"Tooth_Width\" )  \n",
    "ex, i_Tooth_Width                   = mcApp.GetVariable(\"Tooth_Width\")        # Absolute Tooth_Width\n",
    "\n",
    "i_Tooth_Width                                                                      #get absolute value from ratio\n",
    "i_MinBackIronThickness             =u_YtoT*i_Tooth_Width                           \n",
    "i_Slot_Op_Ratio                    =0.8                                                     #Ratio_SlotOpening_ParallelTooth\" ) \n",
    "    \n",
    "# Set Variable\n",
    "mcApp.SetVariable('Ratio_Bore'                              , i_Split_Ratio          )        #Ratio of stator bore     \n",
    "mcApp.SetVariable(\"Ratio_SlotDepth_ParallelTooth\"           , p_Slot_Depth_Ratio     )        #Ratio_SlotDepth_ParallelTooth\" )   ## Fixed     \n",
    "mcApp.SetVariable('MinBackIronThickness'                    , i_MinBackIronThickness )        #Abosolute be user-defined with Y to T ratio     \n",
    "mcApp.SetVariable(\"Ratio_ToothWidth\"                        , i_Tooth_Width_Ratio    )        #Ratio_ToothWidth\" )      \n",
    "mcApp.SetVariable(\"Ratio_SlotOpening_ParallelTooth\"         , i_Slot_Op_Ratio        )        #Ratio_SlotOpening_ParallelTooth\" )      \n",
    "       "
   ]
  },
  {
   "attachments": {},
   "cell_type": "markdown",
   "metadata": {},
   "source": [
    "## Rotor"
   ]
  },
  {
   "attachments": {},
   "cell_type": "markdown",
   "metadata": {},
   "source": [
    "### Absoulute Input (left table)"
   ]
  },
  {
   "cell_type": "code",
   "execution_count": null,
   "metadata": {},
   "outputs": [],
   "source": [
    " # Predefine Variable\n",
    "\n",
    " # Notch_Depth=0;\n",
    "Magnet_Layers=2;\n",
    "\n",
    " # # Layer 1 - insider\n",
    "L1_Magnet_Thickness     =5.2;\n",
    "L1_Bridge_Thickness     =1.8;\n",
    "L1_Pole_V_angle         =112;\n",
    "L1_Magnet_Post          =1.5;\n",
    "L1_Magnet_Separation    =6.2;\n",
    "L1_Magnet_Segments      =1;\n",
    " # L1 Mag Gap Inner\n",
    " # L1 Mag Gap Outer\n",
    "\n",
    " # # Layer 2\n",
    "L2_Magnet_Thickness      =5.4;\n",
    "L2_Bridge_Thickness      =1.5;\n",
    "L2_Pole_V_angle          =180;\n",
    "L2_Magnet_Post           =0;\n",
    "L2_Magnet_Separation     =0;\n",
    "L2_Magnet_Segments       =1;\n",
    "\n",
    "# Set Variable\n",
    "\n",
    "mcApp.SetArrayVariable(\"MagnetThickness_Array\"                , 0, L1_Magnet_Thickness)            # Layer 1 Magnet thickness\n",
    "mcApp.SetArrayVariable(\"MagnetThickness_Array\"                , 1, L2_Magnet_Thickness)            # Layer 2 Magnet thickness\n",
    "                \n",
    "mcApp.SetArrayVariable('BridgeThickness_Array'                , 0, L1_Bridge_Thickness)            # Layer 1 Bridge thickness \n",
    "mcApp.SetArrayVariable('BridgeThickness_Array'                , 1, L2_Bridge_Thickness)            # Layer 2 Bridge thickness \n",
    "    \n",
    "mcApp.SetArrayVariable(\"PoleVAngle_Array\"                     , 0, L1_Pole_V_angle)                # Layer 1 V-shape layer angle\n",
    "mcApp.SetArrayVariable(\"PoleVAngle_Array\"                     , 1, L2_Pole_V_angle)                # Layer 2 V-shape layer angle\n",
    "\n",
    "mcApp.SetArrayVariable(\"VShapeMagnetPost_Array\"               , 0, L1_Magnet_Post)                 # Layer 1 Magnet post\n",
    "mcApp.SetArrayVariable(\"VShapeMagnetPost_Array\"               , 1, L2_Magnet_Post)                 # Layer 2 Magnet post\n",
    "\n",
    "mcApp.SetArrayVariable(\"MagnetSeparation_Array\"               , 0, L1_Magnet_Separation)           # Layer 1 Magnet_Separation\n",
    "mcApp.SetArrayVariable(\"MagnetSeparation_Array\"               , 1, L2_Magnet_Separation)           # Layer 2 Magnet_Separation\n",
    "\n",
    "mcApp.SetArrayVariable(\"VShapeMagnetSegments_Array\"           , 0, L1_Magnet_Segments)             # Layer 1 Magnet_Segments\n",
    "mcApp.SetArrayVariable(\"VShapeMagnetSegments_Array\"           , 1, L2_Magnet_Segments)             # Layer 2 Magnet_Segments"
   ]
  },
  {
   "attachments": {},
   "cell_type": "markdown",
   "metadata": {},
   "source": [
    "### Ratio  (Rotor w Hierachy)\n"
   ]
  },
  {
   "cell_type": "code",
   "execution_count": null,
   "metadata": {},
   "outputs": [],
   "source": [
    "# Predefine Variable\n",
    "\n",
    "L1_Pole_Arc                            = 0.90       ;   \n",
    "L1_Web_Thickness                   = 0.15       ;   \n",
    "L1_Magnet_Bar_Width            = 0.92       ;   \n",
    "L1_Web_Length              = 0.104      ;   \n",
    "L2_Pole_Arc                        = 0.25       ;   \n",
    "L2_Web_Thickness               = 0.69       ;   \n",
    "L2_Magnet_Bar_Width        = 0.8        ;    \n",
    "L2_Web_Length          = 0.064      ;\n",
    "\n",
    "# Set Variable\n",
    "\n",
    "mcApp.SetArrayVariable(    'RatioArray_PoleArc'                    ,0,L1_Pole_Arc            )         # #Layer 1     RatioArray_PoleArc\n",
    "mcApp.SetArrayVariable(    'RatioArray_PoleArc'                    ,1,L2_Pole_Arc            )         # #Layer 2     RatioArray_PoleArc\n",
    "\n",
    "mcApp.SetArrayVariable(    'RatioArray_WebThickness'               ,0,L1_Pole_Arc            )         # #Layer 1     RatioArray_WebThickness\n",
    "mcApp.SetArrayVariable(    'RatioArray_WebThickness'               ,1,L2_Pole_Arc            )         # #Layer 2     RatioArray_WebThickness\n",
    "\n",
    "mcApp.SetArrayVariable(    'RatioArray_VWebBarWidth'               ,0,L1_Magnet_Bar_Width    )         # #Layer 1     RatioArray_VWebBarWidth\n",
    "mcApp.SetArrayVariable(    'RatioArray_VWebBarWidth'               ,1,L2_Magnet_Bar_Width    )         # #Layer 2     RatioArray_VWebBarWidth\n",
    "\n",
    "mcApp.SetArrayVariable(    'RatioArray_WebLength'                  ,0,L1_Web_Length          )         # #Layer 1     RatioArray_WebLength\n",
    "mcApp.SetArrayVariable(    'RatioArray_WebLength'                  ,1,L2_Web_Length          )         # #Layer 2     RatioArray_WebLength            \n",
    "\n"
   ]
  },
  {
   "attachments": {},
   "cell_type": "markdown",
   "metadata": {},
   "source": [
    "## Array Test"
   ]
  },
  {
   "cell_type": "code",
   "execution_count": null,
   "metadata": {},
   "outputs": [],
   "source": [
    "\n",
    "\n",
    "mcApp.DoWeightCalculation()                                            # Weight calculation\n",
    "ex, o_Weight_Mag       = mcApp.GetVariable(\"Weight_Calc_Magnet\")       # Magnet's mass \n",
    "ex, o_Weight_Wdg       = mcApp.GetVariable(\"Weight_Calc_Copper_Total\") # Winding's mass \n",
    "ex, o_Weight_Stat_Core = mcApp.GetVariable(\"Weight_Calc_Stator_Lam\")   # Stator core's mass  \n",
    "ex, o_Weight_Rot_Core  = mcApp.GetVariable(\"Weight_Calc_Rotor_Lam\")    # Rotor core's mass\n",
    "ex, Weight_Shaft       = mcApp.GetVariable(\"Weight_Shaft_Active\")      # Shaft's mass  \n",
    "ex, Weight_Act         = mcApp.GetVariable(\"Weight_Calc_Total\")        # Active mass\n",
    "\n",
    "# mcApp.SetVariable('Slot_Number', p_Stator_Slots)                           # Stator slots\n",
    "# mcApp.SetVariable('Stator_Lam_Dia', p_Stator_OD)                           # Stator OD\n",
    "# mcApp.SetVariable('Ratio_Bore', i_Split_Ratio)                             # Split ratio\n",
    "mag_array= np.array([500., 5000.])          # Speeds for continuous performance calculation\n",
    "i_Mag_Thick=5.2\n",
    "mcApp.SetArrayVariable(\"MagnetThickness_Array\", 0, i_Mag_Thick)            # Layer 1 Magnet thickness\n",
    "mcApp.SetArrayVariable(\"MagnetThickness_Array\", 1, i_Mag_Thick)            # Layer 2 Magnet thickness\n",
    "\n",
    "\n",
    "ex, i_Mag_Thick         = mcApp.GetVariable(\"MagnetThickness_Array\")        # Active mass\n",
    "\n",
    "# mcApp.SetVariable(\"SpeedDemand_MotorLAB\", p_Speed_Cont_Array[i])# Set operating speed\n",
    "ex, p_Speed_Cont_Array         = mcApp.GetVariable(\"SpeedDemand_MotorLAB\")        # Active mass\n"
   ]
  },
  {
   "cell_type": "markdown",
   "metadata": {},
   "source": [
    "\n",
    "### 1)EMag context"
   ]
  },
  {
   "cell_type": "code",
   "execution_count": null,
   "metadata": {},
   "outputs": [],
   "source": [
    "mcApp.ShowMagneticContext()          \n",
    "mcApp.DisplayScreen('Scripting')     # Switch to a tab where no parameter is adjusted \n",
    "\n",
    "### Change to ratio mode to edit the geometry\n",
    "mcApp.SetVariable('GeometryParameterisation', 1)   # Ratio mode in Motor-CAD \n",
    "\n",
    "### Assign geometry parameters\n",
    "#i_Tooth_Width_Ratio = 0.6\n",
    "#i_Slot_Depth_Ratio=0.56\n",
    "#p_Parallel_Path=4\n",
    "#p_Turns_Coil=5\n",
    "\n",
    "### Assign geometry parameters\n",
    "mcApp.SetVariable('Slot_Number', p_Stator_Slots)                           # Stator slots\n",
    "mcApp.SetVariable('Stator_Lam_Dia', p_Stator_OD)                           # Stator OD\n",
    "mcApp.SetVariable('Ratio_Bore', i_Split_Ratio)                             # Split ratio\n",
    "mcApp.SetVariable('Ratio_ToothWidth', i_Tooth_Width_Ratio)                 # Tooth width ratio\n",
    "mcApp.SetVariable('Ratio_SlotDepth_ParallelTooth', i_Slot_Depth_Ratio)     # Slot depth ratio\n",
    "mcApp.SetVariable('Ratio_SlotDepth_ParallelSlot', i_Slot_Depth_Ratio)     # Slot depth ratio\n",
    "\n",
    "mcApp.SetVariable('Tooth_Tip_Depth', p_Tooth_Tip_Depth)                    # Tooth tip depth\n",
    "mcApp.SetVariable('Ratio_SlotOpening_ParallelTooth', i_Slot_Op_Ratio)      # Slot opening width ratio \n",
    "mcApp.SetVariable('Tooth_Tip_Angle', p_Tooth_Tip_Angle)                    # Tooth tip angle\n",
    "mcApp.SetVariable('Pole_Number', 2*p_Pole_Pair)                            # Rotor poles\n",
    "mcApp.SetVariable('Airgap', p_Airgap_Mecha)                                # Mechanical airgap\n",
    "mcApp.SetArrayVariable(\"RatioArray_MagnetVWidth\", 0, i_Pole_Arc_Ratio)     # Pole arc ratio\n",
    "mcApp.SetArrayVariable(\"RatioArray_MagnetBarWidth\", 0, p_Mag_Width_Ratio)  # Magnet width ratio\n",
    "mcApp.SetArrayVariable('BridgeThickness_Array', 0, i_Bridge_Thick)         # Bridge thickness \n",
    "mcApp.SetArrayVariable(\"VShapeMagnetClearance_Array\", 0, p_Mag_Clear)      # Magnet clearance\n",
    "mcApp.SetArrayVariable(\"MagnetThickness_Array\", 0, i_Mag_Thick)            # Magnet thickness\n",
    "mcApp.SetArrayVariable(\"PoleVAngle_Array\", 0, i_Pole_V_Angle)              # V-shape layer angle\n",
    "mcApp.SetArrayVariable(\"VSimpleMagnetPost_Array\", 0, i_Mag_Post)           # Magnet post  \n",
    "mcApp.SetArrayVariable(\"VSimpleEndRegion_Outer_Array\", 0, Air_Pocket)      # Air pocket extensions (outer)\n",
    "mcApp.SetArrayVariable(\"VSimpleEndRegion_Inner_Array\", 0, Air_Pocket)      #                       (inner)\n",
    "mcApp.SetVariable('MinVMagnetAspectRatio', p_Mag_AspectRatio_Min)          # Minimum magnet aspect ratio\n",
    "mcApp.SetVariable('MinMagnetSeparation', p_Mag_Separation_Min)             # Minimum separation between magnet poles  \n",
    "mcApp.SetVariable('MinShaftSeparation', p_Shaft_Separation_Min)            # Minimum separation between shaft and magnets\n",
    "mcApp.SetVariable(\"Ratio_ShaftD\", p_Shaft_OD_Ratio)                        # Shaft OD ratio\n",
    "mcApp.SetVariable('Motor_Length', Machine_Length)                          # Machine length\n",
    "mcApp.SetVariable('Stator_Lam_Length', i_Active_Length)                    # Stator lamination pack length\n",
    "mcApp.SetVariable('Rotor_Lam_Length', i_Active_Length)                     # Rotor lamination pack length\n",
    "mcApp.SetVariable('Magnet_Length', i_Active_Length)                        # Magnet length\n",
    "mcApp.SetVariable('EWdg_Overhang_[R]', p_Wdg_Overhang)                     # End winding overhang (rear)\n",
    "mcApp.SetVariable('EWdg_Overhang_[F]', p_Wdg_Overhang)                     #                      (front)\n",
    "\n",
    "### Check the geometry is valid\n",
    "success = mcApp.CheckIfGeometryIsValid(0)\n",
    "\n",
    "if success == 0:\n",
    "    # If not valid, generate zero outputs instead of getting an error message in optiSLang\n",
    "    o_Cont_Torque_1krpm  = 0.  \n",
    "    o_Cont_Torque_5krpm  = 0.\n",
    "    o_Peak_Power_3krpm   = 0.\n",
    "    o_Peak_Power_6rpm    = 0.\n",
    "    o_Peak_Torque_500rpm = 0.\n",
    "    o_WLTP3_Eff          = 0.\n",
    "    o_Current_Density    = 0.\n",
    "    o_Torque_Density     = 0.\n",
    "    o_Torque_Ripples     = 0.\n",
    "    o_Weight_Act         = 0.\n",
    "    o_Weight_Mag         = 0.\n",
    "    o_Weight_Rot_Core    = 0.\n",
    "    o_Weight_Stat_Core   = 0.\n",
    "    o_Weight_Wdg         = 0.\n",
    "    o_Stress_Safety      = 0.\n",
    "    if run_mode in ['OSL_run']:\n",
    "        o_Sig_Peak_Torque    = list_list_2_variant_signal([[0]*Speed_Lab_Len], Speed_Lab) \n",
    "        o_Sig_Peak_Power     = list_list_2_variant_signal([[0]*Speed_Lab_Len], Speed_Lab) \n",
    "        o_Sig_Torque_Ripples = list_list_2_variant_signal([[0]*(p_Torque_Pts+1)], [0]*(p_Torque_Pts+1)) \n",
    "    mcApp.SaveToFile(mot_file_new_path)  # Save design   \n",
    "    mcApp.Quit()                         # Close Motor-CAD\n",
    "    mcApp = 0                            # Reset mcApp variable  \n",
    "    time.sleep(0.5)                      # Frozen for 0.5s\n",
    "    raise Exception('[ERROR] {}: geometry not valid'.format(OSL_DESIGN_NAME))\n",
    "    \n",
    "### Assign winding parameters\n",
    "mcApp.SetVariable('WindingLayers', p_Coils_Slot)                # Coils passing through a slot\n",
    "mcApp.SetVariable('MagTurnsConductor', p_Turns_Coil)            # Turns per coil\n",
    "mcApp.SetVariable('ParallelPaths', p_Parallel_Path)             # Parallel paths per phase\n",
    "mcApp.SetVariable('RequestedGrossSlotFillFactor', p_Slot_Fill)  # Slot fill factor\n",
    "\n",
    "### Assign initial calculation settings\n",
    "mcApp.SetVariable(\"BackEMFCalculation\", False)               # OC calculations deactivated\n",
    "mcApp.SetVariable(\"CoggingTorqueCalculation\", False)         # Cogging torque calculation deactivated\n",
    "mcApp.SetVariable(\"TorqueCalculation\", False)                # Torque calculations deactivated\n",
    "mcApp.SetVariable(\"TorqueSpeedCalculation\", False)           # Torque speed curve calculation deactivated\n",
    "mcApp.SetVariable(\"DemagnetizationCalc\", False)              # Demagnetisation test deactivated\n",
    "mcApp.SetVariable(\"InductanceCalc\", False)                   # Inductance calculation deactivated\n",
    "mcApp.SetVariable(\"BPMShortCircuitCalc\", False)              # Transient short circuit calculation deactivated\n",
    "mcApp.SetVariable(\"ElectromagneticForcesCalc_OC\", False)     # Maxwell forces calculation deactivated (OC)\n",
    "mcApp.SetVariable(\"ElectromagneticForcesCalc_Load\", False)   # Maxwell forces calculation deactivated (OL)\n",
    "mcApp.SetVariable(\"MagneticSolver\", 0)                       # Transient calculation enabled\n",
    "mcApp.SetVariable(\"Lab_Threads_Enabled\", True)      \n",
    "\n",
    "### Extract active weights\n",
    "mcApp.DoWeightCalculation()                                            # Weight calculation\n",
    "ex, o_Weight_Mag       = mcApp.GetVariable(\"Weight_Calc_Magnet\")       # Magnet's mass \n",
    "ex, o_Weight_Wdg       = mcApp.GetVariable(\"Weight_Calc_Copper_Total\") # Winding's mass \n",
    "ex, o_Weight_Stat_Core = mcApp.GetVariable(\"Weight_Calc_Stator_Lam\")   # Stator core's mass  \n",
    "ex, o_Weight_Rot_Core  = mcApp.GetVariable(\"Weight_Calc_Rotor_Lam\")    # Rotor core's mass\n",
    "ex, Weight_Shaft       = mcApp.GetVariable(\"Weight_Shaft_Active\")      # Shaft's mass  \n",
    "ex, Weight_Act         = mcApp.GetVariable(\"Weight_Calc_Total\")        # Active mass\n",
    "o_Weight_Act           = Weight_Act - Weight_Shaft                     # Shaft's mass retrieved\n"
   ]
  },
  {
   "cell_type": "markdown",
   "metadata": {},
   "source": [
    "#### Export Snapshots"
   ]
  },
  {
   "cell_type": "code",
   "execution_count": null,
   "metadata": {},
   "outputs": [],
   "source": [
    "### Export snapshots\n",
    "if Pic_Export:\n",
    "    for screenname in ['Radial', 'Axial', 'StatorWinding']:\n",
    "        mcApp.SaveScreenToFile(screenname, join(wdir, Design_Name + '_' + OSL_DESIGN_NAME + '_Pic_' + screenname + '.png'))\n",
    "mcApp.DisplayScreen('Scripting')   \n"
   ]
  },
  {
   "cell_type": "code",
   "execution_count": null,
   "metadata": {},
   "outputs": [],
   "source": [
    "### Save design\n",
    "mcApp.SaveToFile(mot_file_new_path)"
   ]
  },
  {
   "cell_type": "markdown",
   "metadata": {},
   "source": [
    "### 2)Lab: model Build tab  319\n",
    "Shows automatically after assigning options for the saturation & loss models)\n",
    "\n"
   ]
  },
  {
   "cell_type": "code",
   "execution_count": null,
   "metadata": {},
   "outputs": [],
   "source": [
    "### Lab: model Build tab \n",
    "mcApp.ClearModelBuild_Lab()  # Clear existing models\n",
    "if run_mode in ['IDE_run']:\n",
    "    mcApp.SetVariable(\"ModelType_MotorLAB\", 2)       # Saturation model type: Full Cycle\n",
    "    mcApp.SetVariable(\"SatModelPoints_MotorLAB\", 0)  # Saturation model: coarse resolution (15 points)    \n",
    "    mcApp.SetVariable(\"LossModel_LAB\", 0)            # Loss model type: neglect\n",
    "    mcApp.SetMotorLABContext()                       # Lab context\n",
    "    mcApp.SetVariable(\"BuildSatModel_MotorLAB\", 1)   # Activate saturation model   \n",
    "else: \n",
    "    mcApp.SetVariable(\"ModelType_MotorLAB\", 2)       # Saturation model type: Full Cycle\n",
    "    mcApp.SetVariable(\"SatModelPoints_MotorLAB\", 1)  # Saturation model: fine resolution (30 points)  \n",
    "    mcApp.SetVariable(\"LossModel_Lab\", 1)            # Loss model type: FEA\n",
    "    mcApp.SetMotorLABContext()                       # Lab context\n",
    "    mcApp.SetVariable(\"BuildSatModel_MotorLAB\", 1)   # Activate saturation model  \n",
    "    mcApp.SetVariable(\"BuildLossModel_MotorLAB\", 1)  # Activate loss model  \n",
    "\n",
    "mcApp.SetVariable(\"MaxModelCurrent_RMS_MotorLAB\", p_Line_Current_RMS)       # Max line current (rms)\n",
    "mcApp.SetVariable(\"MaxModelCurrent_MotorLAB\", p_Line_Current_RMS*sqrt(2))   # Max line current (peak)\n",
    "mcApp.SetVariable('ModelBuildSpeed_MotorLAB', p_Speed_Max)                  # Maximum operating speed\n",
    "mcApp.BuildModel_Lab()                                                      # Build activated models\n",
    "            "
   ]
  },
  {
   "cell_type": "markdown",
   "metadata": {},
   "source": [
    "#### Lab: peak performance"
   ]
  },
  {
   "cell_type": "code",
   "execution_count": null,
   "metadata": {},
   "outputs": [],
   "source": [
    "# Settings\n",
    "mcApp.SetVariable(\"OperatingMode_Lab\", 0)                      # Motoring mode\n",
    "mcApp.SetVariable(\"EmagneticCalcType_Lab\", 0)                  # Peak performance\n",
    "mcApp.SetVariable('SpeedMax_MotorLAB', p_Speed_Max)            # Maximum speed\n",
    "mcApp.SetVariable('Speedinc_MotorLAB', p_Speed_Lab_Step)       # Speed step\n",
    "mcApp.SetVariable('Imax_RMS_MotorLAB', p_Line_Current_RMS)     # Max line current (rms)\n",
    "mcApp.SetVariable('Imax_MotorLAB', p_Line_Current_RMS*sqrt(2)) # Max line current (peak) \n",
    "\n",
    "# Calculation & Data management\n",
    "mcApp.CalculateMagnetic_Lab()                                 # Run calculation\n",
    "Mat_File_Name     = 'MotorLAB_elecdata.mat'                   # *.mat file automatically generated by Motor-CAD\n",
    "Mat_File_Path     = join(mot_file_dir, 'Lab', Mat_File_Name)  # Point to the *.mat file\n",
    "Mat_File_Data     = loadmat(Mat_File_Path)                    # Load data from the *.mat file\n",
    "Mat_File_Speed    = Mat_File_Data['Speed']                    # Load speed data\n",
    "Mat_File_Torque   = Mat_File_Data['Shaft_Torque']             # Load shaft torque data    \n",
    "Mat_File_Power    = Mat_File_Data['Shaft_Power']              # Load shaft power data\n",
    "Mat_File_Torque   = Mat_File_Torque.flatten()                 # Necessary to be read by list_2_list_variant()\n",
    "Mat_File_Power    = Mat_File_Power.flatten()  \n",
    "Mat_File_Speed    = Mat_File_Speed.flatten()\n",
    "\n",
    "# Extract specific values\n",
    "Peak_Power_Array = np.zeros(len(p_Speed_Peak_Array))   # Peak power array initialisation\n",
    "Peak_Torque_Array = np.zeros(len(p_Speed_Peak_Array))  # Peak power array initialisation\n",
    "for i in range(len(p_Speed_Peak_Array)):\n",
    "    Ind_Speed = (np.abs(Mat_File_Speed - p_Speed_Peak_Array[i])).argmin()   # Index corresponding to the required speed\n",
    "    Peak_Power_Array[i]  = Mat_File_Power[Ind_Speed]                        # Peak power at the required speed \n",
    "    Peak_Torque_Array[i] = Mat_File_Torque[Ind_Speed]                       # Peak torque at the required speed \n",
    "o_Peak_Torque_500rpm    = Peak_Torque_Array[0]      # In [Nm] \n",
    "o_Peak_Power_3krpm      = Peak_Power_Array[1]       # In [kW]    \n",
    "o_Peak_Power_6rpm       = Peak_Power_Array[2]       # In [kW]\n",
    "\n",
    "# Raise exception if wrong performance data\n",
    "if (o_Peak_Torque_500rpm or o_Peak_Power_3krpm or o_Peak_Power_6rpm) < 0:\n",
    "    mcApp.SaveToFile(mot_file_new_path)  # Save design   \n",
    "    mcApp.Quit()                         # Close Motor-CAD\n",
    "    mcApp = 0                            # Reset mcApp variable  \n",
    "    time.sleep(0.5)                      # Frozen for 0.5s\n",
    "    raise Exception('[ERROR] {}: peak performance calculation failed'.format(OSL_DESIGN_NAME))\n"
   ]
  },
  {
   "cell_type": "markdown",
   "metadata": {},
   "source": [
    "  ##### Key performance indicators"
   ]
  },
  {
   "cell_type": "code",
   "execution_count": null,
   "metadata": {},
   "outputs": [],
   "source": [
    "\n",
    "o_Torque_Density = fun_Torque_Density(o_Peak_Torque_500rpm, Active_Volume)  # Torque density [Nm/L]"
   ]
  },
  {
   "cell_type": "markdown",
   "metadata": {},
   "source": [
    "  ##### Signals to be read in OSL "
   ]
  },
  {
   "cell_type": "code",
   "execution_count": null,
   "metadata": {},
   "outputs": [],
   "source": [
    "##Exract\n",
    "    if run_mode in ['OSL_run']:\n",
    "        List_Speed        = Mat_File_Speed.tolist()     # Convert to list \n",
    "        List_Peak_Torque  = Mat_File_Torque.tolist()\n",
    "        List_Peak_Power   = Mat_File_Power.tolist()\n",
    "        o_Sig_Peak_Torque = list_list_2_variant_signal([List_Peak_Torque], List_Speed)\n",
    "        o_Sig_Peak_Power  = list_list_2_variant_signal([List_Peak_Power], List_Speed)\n",
    "  "
   ]
  },
  {
   "cell_type": "markdown",
   "metadata": {},
   "source": [
    "#### Lab: efficiency over WLTP-3 drive cycle"
   ]
  },
  {
   "cell_type": "code",
   "execution_count": null,
   "metadata": {},
   "outputs": [],
   "source": [
    "# Settings\n",
    "mcApp.SetVariable(\"DutyCycleType_Lab\", 1)                 # Automotive drive cycle\n",
    "mcApp.SetVariable(\"DrivCycle_MotorLAB\", \"WLTP Class 3\")   # WLTP3 drive cycle\n",
    "mcApp.SetVariable(\"LabThermalCoupling_DutyCycle\", 0)      # No coupling with Thermal\n"
   ]
  },
  {
   "cell_type": "code",
   "execution_count": null,
   "metadata": {},
   "outputs": [],
   "source": [
    "# Calculation & Post processing ##Exract\n",
    "\n",
    "mcApp.CalculateDutyCycle_Lab()                                                # Run calculation\n",
    "ex, o_WLTP3_Eff = mcApp.GetVariable(\"DutyCycleAverageEfficiency_EnergyUse\")   # Get efficiency value \n",
    "    "
   ]
  },
  {
   "cell_type": "code",
   "execution_count": null,
   "metadata": {},
   "outputs": [],
   "source": [
    "print(o_WLTP3_Eff)"
   ]
  },
  {
   "cell_type": "code",
   "execution_count": null,
   "metadata": {},
   "outputs": [],
   "source": [
    "# Raise exception if wrong performance data\n",
    "if o_WLTP3_Eff < 0:\n",
    "    mcApp.SaveToFile(mot_file_new_path)  # Save design   \n",
    "    mcApp.Quit()                         # Close Motor-CAD\n",
    "    mcApp = 0                            # Reset mcApp variable  \n",
    "    time.sleep(0.5)                      # Frozen for 0.5s\n",
    "    raise Exception('[ERROR] {}: drive cycle performance calculation failed'.format(OSL_DESIGN_NAME))\n"
   ]
  },
  {
   "cell_type": "markdown",
   "metadata": {},
   "source": [
    "#### Lab: continuous performance\n"
   ]
  },
  {
   "cell_type": "code",
   "execution_count": null,
   "metadata": {},
   "outputs": [],
   "source": [
    "# Settings\n",
    "mcApp.SetVariable(\"LabThermalCoupling\", 1)                         # Coupling with Thermal\n",
    "mcApp.SetVariable(\"OpPointSpec_MotorLAB\", 2)                       # Max temperature definition\n",
    "mcApp.SetVariable(\"StatorTempDemand_Lab\", p_Temp_Wdg_Max)          # Max winding temperature\n",
    "mcApp.SetVariable(\"RotorTempDemand_Lab\", p_Temp_Mag_Max)           # Max magnet temperature\n",
    "mcApp.SetVariable(\"ThermMaxCurrentLim_MotorLAB\", 0)                # Useful?\n",
    "mcApp.SetVariable(\"Iest_MotorLAB\", p_Line_Current_RMS*sqrt(2)*0.3) # Initial line current (rms)\n",
    "mcApp.SetVariable(\"Iest_RMS_MotorLAB\", p_Line_Current_RMS*0.3)     # Initial line current (peak)        \n"
   ]
  },
  {
   "cell_type": "code",
   "execution_count": null,
   "metadata": {},
   "outputs": [],
   "source": [
    "# Calculation & Post processing ##Exract\n",
    "\n",
    "Cont_Torque_Array  = np.zeros(len(p_Speed_Cont_Array))              # Contiuous torque array initialisation\n",
    "for i in range(len(p_Speed_Cont_Array)):                            # Calculation between Lab and Thermal\n",
    "    mcApp.SetVariable(\"SpeedDemand_MotorLAB\", p_Speed_Cont_Array[i])# Set operating speed\n",
    "    mcApp.CalculateOperatingPoint_Lab()                             # Operating point calculation          \n",
    "    ex, ContTorque = mcApp.GetVariable(\"LabOpPoint_ShaftTorque\")    # Get shaft torque value\n",
    "    Cont_Torque_Array[i] = ContTorque\n",
    "o_Cont_Torque_1krpm = Cont_Torque_Array[0]                          # Assigning array variables\n",
    "o_Cont_Torque_5krpm = Cont_Torque_Array[1]\n"
   ]
  },
  {
   "cell_type": "markdown",
   "metadata": {},
   "source": [
    "### 3)Mech after Lab(Force Calculation) \n",
    " SCREENSHOTS"
   ]
  },
  {
   "cell_type": "code",
   "execution_count": null,
   "metadata": {},
   "outputs": [],
   "source": [
    "### Extract operating point for Force calculation in Mecha\n",
    "# Settings\n",
    "mcApp.SetVariable(\"OpPointSpec_MotorLAB\", 1)                             # Max Current definition    \n",
    "mcApp.SetVariable(\"StatorCurrentDemand_Lab\", p_Line_Current_RMS*sqrt(2)) # Line current (rms)\n",
    "mcApp.SetVariable(\"StatorCurrentDemand_RMS_Lab\", p_Line_Current_RMS)     # Line current (peak)\n",
    "mcApp.SetVariable(\"SpeedDemand_MotorLAB\", 500)                           # Operating speed        \n",
    "mcApp.SetVariable(\"LabThermalCoupling\", 0)                               # No coupling with Thermal\n",
    "mcApp.SetVariable(\"LabMagneticCoupling\", 1)                              # Coupling with EMag\n",
    "mcApp.CalculateOperatingPoint_Lab()                                      # Export to EMag\n",
    "# Calculation & Post processing\n",
    "mcApp.DoMechanicalCalculation()\n",
    "mcApp.CalculateTorqueEnvelope()\n",
    "mcApp.CalculateTorquePoints()\n",
    "mcApp.DoMultiForceCalculation()\n",
    "\n",
    "## Force 후처리코드 \n",
    "mcApp.UpdateForceAnalysisResults(FFTDataType)\n",
    "mcApp.LoadMultiForceLoadPointToAnalyse()\n",
    "mcApp.ExportNVHResultsData(filename)\n",
    "MultiForceLoadPointDefinition=20\n",
    "mcApp.ExportMultiForceData('D:\\KDH\\Thesis\\Rotem_HDEV\\Rotem_Design0001.txt')\n",
    "# mcApp.ExportNVHResultsData('D:\\KDH\\Thesis\\Rotem_HDEV\\Rotem_Design0001.csv')\n",
    "\n",
    "Export\n",
    "# Signal\n",
    "List_Pos = []\n",
    "List_TorqueVW_500rpm = []\n",
    "for i in range(p_Torque_Pts+1):\n",
    "    ex, Pos, Torque = mcApp.GetMagneticGraphPoint('TorqueVW', i)\n",
    "    List_Pos.append(Pos)\n",
    "    List_TorqueVW_500rpm.append(Torque)\n",
    "if run_mode in ['OSL_run']:\n",
    "    Pos_List_Len = len(List_Pos)\n",
    "    o_Sig_Torque_Ripples = list_list_2_variant_signal([List_TorqueVW_500rpm], List_Pos)\n",
    "\n",
    "##- force campbell diagram 추출코드가 필요함\n",
    "\n",
    "### Current density\n",
    "    o_Current_Density = mcApp.GetVariable('ArmatureConductorCurrentDensity')\n",
    "    o_Current_Density = o_Current_Density[1]\n"
   ]
  },
  {
   "cell_type": "markdown",
   "metadata": {},
   "source": [
    "### 4)Mech: centrifugal stress calculation\n"
   ]
  },
  {
   "cell_type": "code",
   "execution_count": null,
   "metadata": {},
   "outputs": [],
   "source": [
    "### Mechanical context\n",
    "\n",
    "mcApp.ShowMechanicalContext()\n",
    "mcApp.DisplayScreen('Scripting')\n",
    "\n",
    "\n",
    "# Settings\n",
    "mcApp.SetVariable(\"MechanicalOption_Magnets\", 1)              # Magnets included\n",
    "mcApp.SetVariable(\"MechanicalMeshLength_RotorLam\", 0.25)      # Rotor lamination mesh size\n",
    "mcApp.SetVariable(\"MechanicalMeshLength_Magnets\", 0.5)        # Mesh size for magnets\n",
    "mcApp.SetVariable(\"MechanicalMeshLength_RotorVoids\", 0.2)     # Mesh size for flux barriers   \n",
    "mcApp.SetVariable(\"Current_Shaft_Speed_RPM\", 1.2*p_Speed_Max) # Rotational speed\n",
    "mcApp.SetVariable(\"Shaft_Speed_[RPM]\", 1.2*p_Speed_Max) \n",
    "    \n",
    "# Calculation\n",
    "mcApp.DoMechanicalCalculation()\n",
    "ex, Stress_Max  = mcApp.GetVariable('MaxStress_RotorLam')        # Peak stress\n",
    "o_Stress_Safety = fun_Stress_Safety(p_Yield_Rotor, Stress_Max)   # Safety factor\n",
    "\n",
    "### Close Motor-CAD (necessary when running designs in parallel)\n",
    "mcApp.SaveToFile(mot_file_new_path)  # Save model\n",
    "#mcApp.Quit()                         # Close Motor-CAD\n",
    "#mcApp = 0                            # Reset mcApp variable  \n",
    "#time.sleep(0.5)                      # Freeze for 0.5s"
   ]
  },
  {
   "cell_type": "markdown",
   "metadata": {},
   "source": [
    " #  Responses to be drag and drop during 'OSL_setup' mode  INITIALISATION (END) "
   ]
  },
  {
   "cell_type": "code",
   "execution_count": null,
   "metadata": {},
   "outputs": [],
   "source": [
    " ----------------------------------------------         ------------------------------------------------\n",
    "\n",
    "### \n",
    "else:\n",
    "    \n",
    "  # Scalars\n",
    "    o_Cont_Torque_1krpm  = 0.\n",
    "    o_Cont_Torque_5krpm  = 0.\n",
    "    o_Peak_Power_3krpm   = 0.\n",
    "    o_Peak_Power_6rpm    = 0.\n",
    "    o_Peak_Torque_500rpm = 0.\n",
    "    o_WLTP3_Eff          = 0.\n",
    "    o_Current_Density    = 0.\n",
    "    o_Torque_Density     = 0.\n",
    "    o_Torque_Ripples     = 0.\n",
    "    o_Weight_Act         = 0.\n",
    "    o_Weight_Mag         = 0.\n",
    "    o_Weight_Rot_Core    = 0.\n",
    "    o_Weight_Stat_Core   = 0.\n",
    "    o_Weight_Wdg         = 0.\n",
    "    o_Stress_Safety      = 0.\n",
    "\n",
    "  # Signals\n",
    "    o_Sig_Peak_Torque    = list_list_2_variant_signal([[0]*Speed_Lab_Len], Speed_Lab) \n",
    "    o_Sig_Peak_Power     = list_list_2_variant_signal([[0]*Speed_Lab_Len], Speed_Lab) \n",
    "    o_Sig_Torque_Ripples = list_list_2_variant_signal([[0]*(p_Torque_Pts+1)], [0]*(p_Torque_Pts+1))\n"
   ]
  }
 ],
 "metadata": {
  "kernelspec": {
   "display_name": "py38_motor",
   "language": "python",
   "name": "python3"
  },
  "language_info": {
   "codemirror_mode": {
    "name": "ipython",
    "version": 3
   },
   "file_extension": ".py",
   "mimetype": "text/x-python",
   "name": "python",
   "nbconvert_exporter": "python",
   "pygments_lexer": "ipython3",
   "version": "3.8.0"
  },
  "orig_nbformat": 4,
  "vscode": {
   "interpreter": {
    "hash": "8fc4f609211f58521b6abc9d098b298a540faddf63db97e6e44f063b7b8eb2c6"
   }
  }
 },
 "nbformat": 4,
 "nbformat_minor": 2
}
