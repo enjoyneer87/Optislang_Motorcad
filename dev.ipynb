{
 "cells": [
  {
   "cell_type": "code",
   "execution_count": 1,
   "metadata": {},
   "outputs": [],
   "source": [
    "import win32com.client\n",
    "import os\n",
    "import numpy as np\n",
    "import time\n",
    "from os import getcwd\n",
    "from os.path import join, dirname, exists\n",
    "from math import pi, sqrt\n",
    "from scipy.io import loadmat\n",
    "path='D:/KangDH/Optislang_Motorcad/IPM_HDEV_2/MCAD/HDEV_Thesis2/DutyCycleData/'\n",
    "ext_Duty_Cycle='OP1_temp_rise'\n",
    "ext_Duty_Cycle_full=join(path,ext_Duty_Cycle)+'.dat'\n",
    "ext_Duty_Cycle_full\n",
    "\n",
    "power_filename=ext_Duty_Cycle+'_power.csv'\n",
    "power_filename\n",
    "from MotorCAD_Methods import MotorCAD\n",
    "# mcApp = win32com.client.Dispatch(\"MotorCAD.AppAutomation\")  # Launch Motor-CAD application\n",
    "\n",
    "mc=MotorCAD()"
   ]
  },
  {
   "cell_type": "code",
   "execution_count": null,
   "metadata": {},
   "outputs": [],
   "source": []
  },
  {
   "attachments": {},
   "cell_type": "markdown",
   "metadata": {},
   "source": [
    "Duty Cycle Coupled Transient 해석 결과로 나오는 mat파일 이름 변경\n"
   ]
  },
  {
   "cell_type": "code",
   "execution_count": null,
   "metadata": {},
   "outputs": [],
   "source": [
    "def fun_lab_duty_temp_rise_2matfile(ext_Duty_Cycle):\n",
    "    ex, motpath=mcApp.GetVariable(\"CurrentMotFilePath_MotorLAB\")\n",
    "    motpath=re.sub(\".mot\",\"\",motpath)\n",
    "    Lab_path=motpath+'/Lab/'\n",
    "    os.chdir(Lab_path)\n",
    "    rename_matfile=ext_Duty_Cycle+'_lab_result.mat'\n",
    "    os.rename('MotorLAB_drivecycledata.mat',rename_matfile)\n",
    "   return rename_matfile\n",
    "\n",
    "fun_lab_duty_temp_rise_2matfile('OP1_temp_rise')\n",
    "ext_Duty_Cycle='OP1_temp_rise'\n",
    "\n",
    "MotorLAB_drivecycledata"
   ]
  },
  {
   "attachments": {},
   "cell_type": "markdown",
   "metadata": {},
   "source": [
    "mat 파일에서 온도에 해당하는 정보 뽑아오기"
   ]
  },
  {
   "cell_type": "code",
   "execution_count": null,
   "metadata": {},
   "outputs": [],
   "source": []
  },
  {
   "attachments": {},
   "cell_type": "markdown",
   "metadata": {},
   "source": [
    "Save CSV filed Manually"
   ]
  },
  {
   "cell_type": "code",
   "execution_count": null,
   "metadata": {},
   "outputs": [],
   "source": [
    "\n",
    "\n",
    "def fun_load_temp_rise_2csvfile(lab_transient_fullpath_w_filename):\n",
    "    mcApp.ExportResults('Transient', power_filename)\n",
    "    Temp_filename=ext_Duty_Cycle+'_temp.csv'\n",
    "    power_filename=ext_Duty_Cycle+'_power.csv'\n",
    "\n",
    "def fun_load_temp_rise_from_MCgraph()\n",
    "    temp_rise=open(Temp_filename,'r')\n",
    "\n"
   ]
  }
 ],
 "metadata": {
  "kernelspec": {
   "display_name": "Python 3",
   "language": "python",
   "name": "python3"
  },
  "language_info": {
   "codemirror_mode": {
    "name": "ipython",
    "version": 3
   },
   "file_extension": ".py",
   "mimetype": "text/x-python",
   "name": "python",
   "nbconvert_exporter": "python",
   "pygments_lexer": "ipython3",
   "version": "3.8.10 (tags/v3.8.10:3d8993a, May  3 2021, 11:48:03) [MSC v.1928 64 bit (AMD64)]"
  },
  "orig_nbformat": 4,
  "vscode": {
   "interpreter": {
    "hash": "570feb405e2e27c949193ac68f46852414290d515b0ba6e5d90d076ed2284471"
   }
  }
 },
 "nbformat": 4,
 "nbformat_minor": 2
}
