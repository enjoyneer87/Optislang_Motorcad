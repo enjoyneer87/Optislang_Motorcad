{
 "cells": [
  {
   "cell_type": "code",
   "execution_count": null,
   "metadata": {},
   "outputs": [],
   "source": [
    "import win32com.client\n",
    "import os\n",
    "import numpy as np\n",
    "import time\n",
    "from os import getcwd\n",
    "from os.path import join, dirname, exists\n",
    "from math import pi, sqrt\n",
    "from scipy.io import loadmat\n",
    "import re\n",
    "import matplotlib.pyplot as plt\n",
    "# # path='D:/KangDH/Optislang_Motorcad/IPM_HDEV_2/MCAD/HDEV_Thesis2/DutyCycleData/'\n",
    "# # ext_Duty_Cycle='OP1_temp_rise'\n",
    "# # ext_Duty_Cycle_full=join(path,ext_Duty_Cycle)+'.dat'\n",
    "# # ext_Duty_Cycle_full\n",
    "\n",
    "# # power_filename=ext_Duty_Cycle+'_power.csv'\n",
    "# # power_filename\n",
    "# # from MotorCAD_Methods import MotorCAD\n",
    "mcApp = win32com.client.Dispatch(\"MotorCAD.AppAutomation\")  # Launch Motor-CAD application\n",
    "\n",
    "# # mc=MotorCAD()\n",
    "# ext_Duty_Cycle='OP1_temp_rise'\n",
    "# %reset_selective -f ^(?!mcApp).*$"
   ]
  },
  {
   "attachments": {},
   "cell_type": "markdown",
   "metadata": {},
   "source": []
  },
  {
   "cell_type": "code",
   "execution_count": 325,
   "metadata": {},
   "outputs": [],
   "source": [
    "def fun_Turn_byAmpT(i_AmpT,i_Line_Current_RMS):\n",
    "    res = i_AmpT/i_Line_Current_RMS\n",
    "    return res"
   ]
  },
  {
   "cell_type": "code",
   "execution_count": null,
   "metadata": {},
   "outputs": [],
   "source": [
    "### Lab: peak performance\n",
    "    i_Turns_Coil    = fun_Turn_byAmpT(i_AmpT_rms,i_Line_Current_RMS)*p_Parallel_Path   # Number of turns per coil\n",
    "    mcApp.SetVariable('TurnsCalc_MotorLAB', i_Turns_Coil)            # Turns per coil\n",
    "    mcApp.SetVariable(\"LabThermalCoupling\", 0)                         # Coupling with Thermal\n",
    "    mcApp.SetVariable(\"OpPointSpec_MotorLAB\", 0)                       # 0- Torque 4-Max temperature definition\n",
    "    mcApp.SetVariable(\"SpeedDemand_MotorLAB\", p_Speed_Peak_Array[0])                       # 0- Torque 4-Max temperature definition\n",
    "    mcApp.SetVariable(\"TorqueDemand_MotorLAB\", OP1[2])                       # 0- Torque 4-Max temperature definition  \n",
    "    mcApp.CalculateOperatingPoint_Lab()                             # Operating point calculation\n",
    "\n",
    "    o_LabPeak_IPeak, OLabPeak_beta=fun_Ipk_beta_by_Trq()\n"
   ]
  },
  {
   "cell_type": "code",
   "execution_count": null,
   "metadata": {},
   "outputs": [],
   "source": [
    "def fun_Ipk_beta_by_Trq():\n",
    "    ex, ipk = mcApp.GetVariable(\"LabOpPoint_StatorCurrent_Line_Peak\")    # Get shaft torque value\n",
    "    ex, beta = mcApp.GetVariable(\"LabOpPoint_PhaseAdvance\")    # Get shaft torque value\n",
    "    return ipk, beta"
   ]
  },
  {
   "attachments": {},
   "cell_type": "markdown",
   "metadata": {},
   "source": [
    "# Lab fun_find_current & remake DutyCycle on OSL_Device"
   ]
  },
  {
   "cell_type": "code",
   "execution_count": null,
   "metadata": {},
   "outputs": [],
   "source": [
    "OP1=['OP1_temp_rise',1700,1300]\n",
    "OP2=['OP2_temp_rise',1700,900]\n",
    "OP3=['OP3_temp_rise',4000,380]\n"
   ]
  },
  {
   "cell_type": "code",
   "execution_count": 284,
   "metadata": {},
   "outputs": [],
   "source": [
    "OP_list=[]\n",
    "    # mcApp.CalculateDutyCycle_Lab()\n",
    "    \n",
    "def fun_Find_Ipk_4Trq65C_mk_dat(ext_Duty_Cycle,i_Turns_Coil):\n",
    "    mcApp.SetVariable('TurnsCalc_MotorLAB', i_Turns_Coil)            # Turns per coil\n",
    "    mcApp.SetVariable(\"LabThermalCoupling\", 0)                         # Coupling with Thermal\n",
    "    mcApp.SetVariable(\"OpPointSpec_MotorLAB\", 0)                       # 0- Torque 4-Max temperature definition\n",
    "    mcApp.SetVariable(\"SpeedDemand_MotorLAB\", ext_Duty_Cycle[1])                       # 0- Torque 4-Max temperature definition\n",
    "    mcApp.SetVariable(\"TorqueDemand_MotorLAB\", ext_Duty_Cycle[2])                       # 0- Torque 4-Max temperature definition  \n",
    "    mcApp.CalculateOperatingPoint_Lab()                             # Operating point calculation\n",
    "    ex, ipk = mcApp.GetVariable(\"LabOpPoint_StatorCurrent_Line_Peak\")    # Get shaft torque value\n",
    "    ex, beta = mcApp.GetVariable(\"LabOpPoint_PhaseAdvance\")    # Get shaft torque value\n",
    "    before,after =fun_Save_Duty_Cycle_Change_I(ext_Duty_Cycle,ipk)\n",
    "    return ipk, beta, after\n",
    "\n",
    "# Op1_i,OP1_beta,Op1_after=fun_Find_Ipk_4Trq65C_mk_dat(OP1,11)\n",
    "# Op2_i,OP2_beta,Op2_after=fun_Find_Ipk_4Trq65C_mk_dat(OP2,11)\n",
    "# Op3_i,OP3_beta,Op3_after=fun_Find_Ipk_4Trq65C_mk_dat(OP3,11)\n",
    "\n"
   ]
  },
  {
   "attachments": {},
   "cell_type": "markdown",
   "metadata": {},
   "source": [
    "Make external DutyCycle"
   ]
  },
  {
   "cell_type": "code",
   "execution_count": 283,
   "metadata": {},
   "outputs": [],
   "source": [
    "# cur.split()\n",
    "# mcApp.SetArrayVariable(\"Duty_Cycle_Current_Start\"           , 0, 600)             # Layer 1 Magnet_Segments\n",
    "\n",
    "# ex, cur=mcApp.GetArrayVariable('Duty_Cycle_Current_Start',6 )\n",
    "\n",
    "## SetArrayVariable loop\n",
    "\n",
    "def fun_Save_Duty_Cycle_Change_I(ext_Duty_Cycle,Ipk):\n",
    "    ## Load reference Duty Cycle with ext_Duty_Cycle_name\n",
    "    ref_Duty_Cycle=join(dirname(dirname(OSL_PROJECT_DIR)), 'DutyCycleData',ext_Duty_Cycle[0])+'.dat'\n",
    "    mcApp.loadDutyCycle(ref_Duty_Cycle)\n",
    "\n",
    "    ## change current\n",
    "    ex, Duty_Cycle_Num=mcApp.GetVariable('Duty_Cycle_Num_Periods')\n",
    "    ex, Duty_Cycle_Current_before=mcApp.GetVariable('Duty_Cycle_Current_Start')\n",
    "    for i in range(0,Duty_Cycle_Num):   \n",
    "        mcApp.SetArrayVariable('Duty_Cycle_Current_Start',i,Ipk/sqrt(2))\n",
    "    ex, Duty_Cycle_Current_After=mcApp.GetVariable('Duty_Cycle_Current_Start')\n",
    "    \n",
    "    ## Save Duty Cycle current    \n",
    "    ext_Duty_Cycle_new=join(mot_file_dir,'DutyCycleData',ext_Duty_Cycle[0])+'_new.dat'\n",
    "    mcApp.SaveDutyCycle(ext_Duty_Cycle_new)\n",
    "    return Duty_Cycle_Current_before,Duty_Cycle_Current_After\n",
    "\n"
   ]
  },
  {
   "attachments": {},
   "cell_type": "markdown",
   "metadata": {},
   "source": [
    "# fun_Calc_Temp_ext_duty_rename"
   ]
  },
  {
   "cell_type": "code",
   "execution_count": 296,
   "metadata": {},
   "outputs": [],
   "source": [
    "def fun_Calc_Temp_ext_duty_rename(ext_Duty_Cycle):\n",
    "    ext_Duty_Cycle_new=join(mot_file_dir,'DutyCycleData',ext_Duty_Cycle[0])+'_new.dat'\n",
    "    mcApp.LoadDutyCycle(ext_Duty_Cycle_new)\n",
    "    mcApp.SetVariable('InitialTransientTemperatureOption',3)\n",
    "    mcApp.CalculateDutyCycle_Lab()\n",
    "    fun_Rename_Matfile_Lab_Duty(ext_Duty_Cycle)\n",
    "    "
   ]
  },
  {
   "attachments": {},
   "cell_type": "markdown",
   "metadata": {},
   "source": [
    "Duty Cycle Coupled Transient 해석 결과로 나오는 mat파일&csv folder 이름 변경\n"
   ]
  },
  {
   "cell_type": "code",
   "execution_count": 295,
   "metadata": {},
   "outputs": [],
   "source": [
    "def fun_Rename_Matfile_Lab_Duty(ext_Duty_Cycle):\n",
    "    ex, motpath=mcApp.GetVariable(\"CurrentMotFilePath_MotorLAB\")\n",
    "    motpath=re.sub(\".mot\",\"\",motpath)\n",
    "    Lab_path=motpath+'/Lab/'\n",
    "    os.chdir(Lab_path)\n",
    "    # mat rename\n",
    "    rename_matfile=ext_Duty_Cycle[0]+'_lab_result.mat'\n",
    "    if os.path.exists('MotorLAB_drivecycledata.mat'):\n",
    "        os.rename('MotorLAB_drivecycledata.mat',rename_matfile)\n",
    "    rename_csvpath=ext_Duty_Cycle[0]+'_lab_result_csv'\n",
    "    # csv rename\n",
    "    if os.path.exists('MotorLAB_drivecycledata'):\n",
    "        os.rename('MotorLAB_drivecycledata',rename_csvpath)\n",
    "    \n",
    "    # temp rise rename\n",
    "    os.chdir(motpath+'/Thermal/')\n",
    "    if os.path.exists('transient.txt'):\n",
    "        os.rename('transient.txt',ext_Duty_Cycle[0]+'_transient.txt')\n",
    "\n",
    "# fun_Rename_Matfile_Lab_Duty('OP1_temp_rise')\n",
    "\n",
    "# ext_Duty_Cycle='OP1_temp_rise'\n",
    "\n",
    "# MotorLAB_drivecycledata\n",
    "\n",
    "\n"
   ]
  },
  {
   "attachments": {},
   "cell_type": "markdown",
   "metadata": {},
   "source": [
    "fun_Load_Temp_Rise_2csvfile"
   ]
  },
  {
   "cell_type": "code",
   "execution_count": null,
   "metadata": {},
   "outputs": [],
   "source": [
    "\n",
    "\n",
    "# ext_Duty_Cycle='OP1_temp_rise'\n",
    "\n",
    "# def fun_Load_Temp_Rise_2csvfile(lab_transient_fullpath_w_filename):\n",
    "#     Temp_filename=lab_transient_fullpath_w_filename+'_temp.csv'\n",
    "#     power_filename=lab_transient_fullpath_w_filename+'_power.csv'\n",
    "#     mcApp.ExportResults('Transient', power_filename)\n",
    "#     mcApp.ExportResults('Transient', Temp_filename)\n",
    "    \n",
    "# # fun_Load_Temp_Rise_2csvfile(ext_Duty_Cycle)"
   ]
  },
  {
   "attachments": {},
   "cell_type": "markdown",
   "metadata": {},
   "source": [
    "# fun_load_matfile - mat 파일에서 온도에 해당하는 정보 뽑아오기"
   ]
  },
  {
   "cell_type": "code",
   "execution_count": 304,
   "metadata": {},
   "outputs": [
    {
     "data": {
      "text/plain": [
       "'OP1_temp_rise'"
      ]
     },
     "execution_count": 304,
     "metadata": {},
     "output_type": "execute_result"
    }
   ],
   "source": [
    "OP1[0]"
   ]
  },
  {
   "cell_type": "code",
   "execution_count": 306,
   "metadata": {},
   "outputs": [],
   "source": [
    "def fun_load_matfile_by_OP(ext_Duty_Cycle):\n",
    "        ## This mat file consisted of Ndarray when we are using loadmat function\n",
    "    ex, motpath=mcApp.GetVariable(\"CurrentMotFilePath_MotorLAB\")\n",
    "    motpath=re.sub(\".mot\",\"\",motpath)\n",
    "    Lab_path=motpath+'/Lab/'\n",
    "    os.chdir(Lab_path)\n",
    "    name_matfile=ext_Duty_Cycle[0]+'_lab_result.mat'\n",
    "    Mat_File_Data=loadmat(name_matfile)\n",
    "    return Mat_File_Data\n",
    "\n",
    "OP1_temp_rise_mat=fun_load_matfile_by_OP(OP1)\n",
    "AG_Temp=OP1_temp_rise_mat['Airgap_Temp']\n",
    "AG_Temp=AG_Temp.flatten().tolist()"
   ]
  },
  {
   "attachments": {},
   "cell_type": "markdown",
   "metadata": {},
   "source": [
    "fun_check_temp_rise_allcomponent"
   ]
  },
  {
   "cell_type": "code",
   "execution_count": 318,
   "metadata": {},
   "outputs": [],
   "source": [
    "def fun_Check_Temp_Rise_allComponent(ext_Duty_Cycle):\n",
    "    ## init\n",
    "    init_final_temp=[]\n",
    "    ## change name of mat file\n",
    "    fun_rename_matfile_lab_duty(ext_Duty_Cycle[0])\n",
    "    ## load mat file\n",
    "    list_from_mat=fun_load_matfile(ext_Duty_Cycle[0])\n",
    "    \n",
    "    ## \n",
    "    mat_temp=[list_from_mat.get(key) for key in list_from_mat.keys() if 'Temp' in key]\n",
    "    mat_temp_key=[key for key in list_from_mat.keys() if 'Temp' in key]\n",
    "\n",
    "    ## check temp rise\n",
    "    for i in range(len(mat_temp)):\n",
    "        temp=mat_temp[i].ravel().tolist()\n",
    "        init_final_temp.append((temp[0],temp[-1]))\n",
    "        check_temp=max(max(init_final_temp))\n",
    "    \n",
    "    ## \n",
    "    max_temp_key=[key for key in mat_temp_key if max(list_from_mat.get(key))==check_temp]\n",
    "    dic_init_final_temp=dict(zip(mat_temp_key,init_final_temp))\n",
    "    \n",
    "    return check_temp, max_temp_key, dic_init_final_temp\n",
    "\n",
    "a, b,c =fun_Check_Temp_Rise_allComponent(OP1)"
   ]
  },
  {
   "cell_type": "code",
   "execution_count": null,
   "metadata": {},
   "outputs": [],
   "source": [
    "## Dict to list (which is array)\n",
    "\n",
    "mat_temp=[OP1_temp_rise_mat.get(key) for key in OP1_temp_rise_mat.keys() if 'Temp' in key]\n",
    "mat_time=[OP1_temp_rise_mat.get(key) for key in OP1_temp_rise_mat.keys() if 'Time' in key]\n",
    "mat_temp_key=[key for key in OP1_temp_rise_mat.keys() if 'Temp' in key]\n",
    "mat_torque=[OP1_temp_rise_mat.get(key) for key in OP1_temp_rise_mat.keys() if 'Shaft_Torque' in key]\n",
    "mat_emtorque=[OP1_temp_rise_mat.get(key) for key in OP1_temp_rise_mat.keys() if 'Electromagnetic_Torque' in key]\n",
    "mat_current=[OP1_temp_rise_mat.get(key) for key in OP1_temp_rise_mat.keys() if 'Stator_Current_Line_Peak' in key]\n",
    "mat_voltage=[OP1_temp_rise_mat.get(key) for key in OP1_temp_rise_mat.keys() if 'Voltage_Phase_Peak' in key]\n",
    "mat_Terminal_Power=[OP1_temp_rise_mat.get(key) for key in OP1_temp_rise_mat.keys() if 'Terminal_Power' in key]\n",
    "mat_Perror=[OP1_temp_rise_mat.get(key) for key in OP1_temp_rise_mat.keys() if 'Power_Error' in key]\n"
   ]
  },
  {
   "cell_type": "code",
   "execution_count": null,
   "metadata": {},
   "outputs": [],
   "source": [
    "# OP1_temp_rise_temp_dic=dict(zip(OP1_temp_rise_temp_key,OP1_temp_rise_temp))\n",
    "# key=OP1_temp_rise_temp_dic.keys()\n",
    "# max(OP1_temp_rise_temp_dic.get('Magnet_Temp'))"
   ]
  },
  {
   "attachments": {},
   "cell_type": "markdown",
   "metadata": {},
   "source": [
    "# Trf file에서 온도 상승량 확인"
   ]
  },
  {
   "cell_type": "code",
   "execution_count": null,
   "metadata": {},
   "outputs": [],
   "source": []
  },
  {
   "attachments": {},
   "cell_type": "markdown",
   "metadata": {},
   "source": [
    "# [Plot]온도시험 결과값 확인, 입력, 출력, 온도 - with list data (which is ndarray type)\n"
   ]
  },
  {
   "cell_type": "code",
   "execution_count": 309,
   "metadata": {},
   "outputs": [
    {
     "ename": "NameError",
     "evalue": "name 'mat_time' is not defined",
     "output_type": "error",
     "traceback": [
      "\u001b[1;31m---------------------------------------------------------------------------\u001b[0m",
      "\u001b[1;31mNameError\u001b[0m                                 Traceback (most recent call last)",
      "Cell \u001b[1;32mIn[309], line 4\u001b[0m\n\u001b[0;32m      1\u001b[0m \u001b[39mfrom\u001b[39;00m \u001b[39mmatplotlib\u001b[39;00m \u001b[39mimport\u001b[39;00m legend\n\u001b[0;32m      3\u001b[0m fig\u001b[39m=\u001b[39mplt\u001b[39m.\u001b[39mfigure(figsize\u001b[39m=\u001b[39m(\u001b[39m10\u001b[39m,\u001b[39m20\u001b[39m))\n\u001b[1;32m----> 4\u001b[0m time\u001b[39m=\u001b[39mmat_time[\u001b[39m0\u001b[39m]\u001b[39m.\u001b[39mravel()\u001b[39m.\u001b[39mtolist()\n\u001b[0;32m      5\u001b[0m \u001b[39mfor\u001b[39;00m i \u001b[39min\u001b[39;00m \u001b[39mrange\u001b[39m(\u001b[39mlen\u001b[39m(mat_temp)):\n\u001b[0;32m      6\u001b[0m     temp\u001b[39m=\u001b[39mmat_temp[i]\u001b[39m.\u001b[39mravel()\u001b[39m.\u001b[39mtolist()\n",
      "\u001b[1;31mNameError\u001b[0m: name 'mat_time' is not defined"
     ]
    },
    {
     "data": {
      "text/plain": [
       "<Figure size 1000x2000 with 0 Axes>"
      ]
     },
     "metadata": {},
     "output_type": "display_data"
    }
   ],
   "source": [
    "\n",
    "from matplotlib import legend\n",
    "\n",
    "fig=plt.figure(figsize=(10,20))\n",
    "time=mat_time[0].ravel().tolist()\n",
    "for i in range(len(mat_temp)):\n",
    "    temp=mat_temp[i].ravel().tolist()\n",
    "    label=mat_temp_key[i]\n",
    "    plt.subplot(4,1,1)\n",
    "    plt.annotate(label+str(round(max(temp),2))+'degC',xy=(time[-1],temp[-1]))\n",
    "    plt.plot(time,temp,label=label)\n",
    "    plt.title('Temp Rise')\n",
    "    plt.xlabel('Time(sec)')\n",
    "    plt.ylabel('Temperature(degC)')\n",
    "    \n",
    "\n",
    "plt.legend()\n",
    "plt.subplot(4,1,2)\n",
    "plt.plot(time,mat_torque[0].ravel().tolist(), label='Shaft_Torque')\n",
    "plt.plot(time,mat_emtorque[0].ravel().tolist(),label='Electromagnetic_Torque')\n",
    "plt.legend()\n",
    "\n",
    "plt.subplot(4,1,3)\n",
    "plt.plot(time,mat_current[0].ravel().tolist(),label='Stator_Current_Line_Peak',)\n",
    "plt.ylim(750,800)\n",
    "plt.legend()\n",
    "\n",
    "plt.subplot(4,1,4)\n",
    "plt.plot(time,mat_voltage[0].ravel().tolist(),label='Voltage_Phase_Peak',)\n",
    "plt.legend()\n",
    "# plt.plot(OP1_temp_rise_time[0],OP1_temp_rise_temp[0][1])\n",
    "fig.savefig(join(ext_Duty_Cycle+'png'))"
   ]
  },
  {
   "cell_type": "code",
   "execution_count": null,
   "metadata": {},
   "outputs": [],
   "source": [
    "init_temp=temp[0]\n",
    "final_temp=temp[-1]"
   ]
  },
  {
   "cell_type": "code",
   "execution_count": 299,
   "metadata": {},
   "outputs": [
    {
     "ename": "NameError",
     "evalue": "name 'fun_load_matfile_by_OP' is not defined",
     "output_type": "error",
     "traceback": [
      "\u001b[1;31m---------------------------------------------------------------------------\u001b[0m",
      "\u001b[1;31mNameError\u001b[0m                                 Traceback (most recent call last)",
      "Cell \u001b[1;32mIn[299], line 1\u001b[0m\n\u001b[1;32m----> 1\u001b[0m list_from_mat\u001b[39m=\u001b[39mfun_load_matfile_by_OP(OP[\u001b[39m1\u001b[39m])\n",
      "\u001b[1;31mNameError\u001b[0m: name 'fun_load_matfile_by_OP' is not defined"
     ]
    }
   ],
   "source": [
    "list_from_mat=fun_load_matfile_by_OP(OP[1])\n"
   ]
  },
  {
   "cell_type": "code",
   "execution_count": null,
   "metadata": {},
   "outputs": [],
   "source": [
    "# mat_temp=[OP1_temp_rise_mat.get(key) for key in OP1_temp_rise_mat.keys() if 'Temp' in key]\n",
    "\n",
    "# def check_temp_rise_allcomponent(ext_Duty_Cycle):\n",
    "#     ## init\n",
    "#     init_final_temp=[]\n",
    "    \n",
    "#     ## load mat file\n",
    "#     list_from_mat=fun_load_matfile(ext_Duty_Cycle)\n",
    "#     ## check temp rise\n",
    "#     for i in range(len(list_from_mat)):\n",
    "#         temp=list_from_mat[i].ravel().tolist()\n",
    "#         init_final_temp.append((temp[0],temp[-1]))\n",
    "#         check_temp=max(max(init_final_temp))\n",
    "#     return init_final_temp, check_temp\n",
    "\n",
    "# init_final_temp, check_temp=check_temp_rise_allcomponent(mat_temp)\n",
    "\n",
    "\n",
    "        \n",
    "    "
   ]
  },
  {
   "cell_type": "code",
   "execution_count": null,
   "metadata": {},
   "outputs": [],
   "source": [
    "# def fun_check_init_final_temp(ext_Duty_Cycle):\n",
    "#     Mat_File_Data=fun_load_matfile(ext_Duty_Cycle)\n",
    "#     mat_temp=[Mat_File_Data.get(key) for key in OP1_temp_rise_mat.keys() if 'Temp' in key]\n",
    "#     mat_temp_key=[key for key in OP1_temp_rise_mat.keys() if 'Temp' in key]\n",
    "\n",
    "#     Mat_File_temp_key=Mat_File_Data.keys()\n",
    "\n",
    "#     max_temp=max(Mat_File_temp)\n",
    "#     min_temp=min(Mat_File_temp)\n",
    "#     return max_temp, min_temp\n",
    "\n",
    "# fun_check_init_final_temp('OP1_temp_rise')"
   ]
  },
  {
   "cell_type": "code",
   "execution_count": null,
   "metadata": {},
   "outputs": [],
   "source": [
    "\n",
    "# # Data for plotting\n",
    "# OSL_DESIGN_NAME = 'Design0001'\n",
    "# fig, ax = plt.subplots()\n",
    "# ax.plot(RotorPosition, CoggingTorqueVW)\n",
    "# screenname='CoggingTorqueVW'\n",
    "# ax.set(xlabel='Rotor Position (Mdeg)', ylabel='CoggingTorqueVW [Nm]',\n",
    "#        title='CoggingTorqueVW')\n",
    "# ax.grid()\n",
    "# wdir='Z:/Thesis/Motorcad_Optislang/IPM_HDEV_1/OPD\\HDEV_Thesis1.opd/HDEV__Thesis1/'\n",
    "# savedir=join(wdir, 'Design0001' + '/' +  '_Pic_' + screenname )\n",
    "# fig.savefig(join(savedir+'png'))\n",
    "# plt.show()\n",
    "# data_array=[np.transpose(RotorPosition), np.transpose(CoggingTorqueVW)]\n",
    "# io.savemat(join(savedir+'.mat'),{\"CoggingTorqueVW\":data_array})\n",
    "# # OP1_temp_rise_mat.keys()"
   ]
  },
  {
   "attachments": {},
   "cell_type": "markdown",
   "metadata": {},
   "source": [
    "Save CSV filed Manually"
   ]
  },
  {
   "cell_type": "code",
   "execution_count": null,
   "metadata": {},
   "outputs": [],
   "source": [
    "\n",
    "\n",
    "# def fun_load_temp_rise_2csvfile(lab_transient_fullpath_w_filename):\n",
    "#     mcApp.ExportResults('Transient', power_filename)\n",
    "#     Temp_filename=ext_Duty_Cycle+'_temp.csv'\n",
    "#     power_filename=ext_Duty_Cycle+'_power.csv'\n",
    "\n",
    "# def fun_load_temp_rise_from_MCgraph()\n",
    "#     temp_rise=open(Temp_filename,'r')\n",
    "\n"
   ]
  },
  {
   "attachments": {},
   "cell_type": "markdown",
   "metadata": {},
   "source": [
    "OSL Path allocation\n",
    "\n",
    " File \n",
    " $$\\$$\n",
    "    - ef.MOT\n",
    "    - refDutyCycle.mat : OP1_Temprise_DutyCycle.mat\n",
    "\n",
    "    \n",
    "Python\n",
    "$$\\$$\n",
    "Result\n",
    "$$\\$$\n",
    "    Lab/dutycycledata.mat -> \n",
    "    - Lab/elecdata.mat        %efficiency map\n",
    "    - CoggingTorqueData.mat   %Cogging \n",
    "    - ForceData.mat           %Force\n",
    "\n",
    "\n"
   ]
  },
  {
   "cell_type": "code",
   "execution_count": 269,
   "metadata": {},
   "outputs": [],
   "source": [
    "# Dir\n",
    "OSL_PROJECT_DIR = 'Z:/Thesis/Optislang_Motorcad/HDEV_Code2/OPD/HDEV_Pjt1.opd' # OSL\n",
    "OSL_DESIGN_DIR = join(OSL_PROJECT_DIR, 'Sensitivity1')  #OSL\n",
    "refdir = join(dirname(dirname(OSL_PROJECT_DIR)), 'MCAD')\n",
    "\n",
    "#Name\n",
    "OSL_DESIGN_NAME= 'Design001'\n",
    "Design_Name     = \"HDEV_Model2\"   # Reference Motor-CAD design\n",
    "\n",
    "# os.makedirs(OSL_PROJECT_DIR)\n",
    "# os.makedirs(OSL_DESIGN_DIR)\n",
    "# os.makedirs(refdir)"
   ]
  },
  {
   "cell_type": "code",
   "execution_count": 279,
   "metadata": {},
   "outputs": [],
   "source": []
  },
  {
   "cell_type": "code",
   "execution_count": 275,
   "metadata": {},
   "outputs": [],
   "source": [
    "\n",
    "wdir = OSL_DESIGN_DIR\n",
    "mot_file_new_path = join(wdir, Design_Name + '_' + OSL_DESIGN_NAME + \".mot\") # Path to the new *.mot file\n",
    "mot_file_dir = join(wdir, Design_Name + '_' + OSL_DESIGN_NAME)\n",
    "# ref_Duty_Cycle=join(dirname(dirname(OSL_PROJECT_DIR)), 'DutyCycleData',ext_Duty_Cycle_name)+'.dat'\n",
    "# os.makedirs(mot_file_dir)\n",
    "os.makedirs(join(mot_file_dir,'DutyCycleData'))\n"
   ]
  },
  {
   "attachments": {},
   "cell_type": "markdown",
   "metadata": {},
   "source": [
    "# Test executing OSL\n",
    "\n"
   ]
  },
  {
   "attachments": {},
   "cell_type": "markdown",
   "metadata": {},
   "source": [
    "Build Lab Time :"
   ]
  },
  {
   "attachments": {},
   "cell_type": "markdown",
   "metadata": {},
   "source": [
    "1. Prework"
   ]
  },
  {
   "cell_type": "code",
   "execution_count": null,
   "metadata": {},
   "outputs": [],
   "source": [
    "Op1_i,OP1_beta,Op1_after=fun_Find_Ipk_4Trq65C_mk_dat(OP1,11)\n",
    "Op2_i,OP2_beta,Op2_after=fun_Find_Ipk_4Trq65C_mk_dat(OP2,11)\n",
    "Op3_i,OP3_beta,Op3_after=fun_Find_Ipk_4Trq65C_mk_dat(OP3,11)\n"
   ]
  },
  {
   "attachments": {},
   "cell_type": "markdown",
   "metadata": {},
   "source": [
    "2. Temp Rise Duty Cycle Data Calc Time :"
   ]
  },
  {
   "cell_type": "code",
   "execution_count": null,
   "metadata": {},
   "outputs": [],
   "source": [
    "fun_Calc_Temp_ext_duty_rename(OP1)"
   ]
  },
  {
   "cell_type": "code",
   "execution_count": 297,
   "metadata": {},
   "outputs": [],
   "source": [
    "fun_Calc_Temp_ext_duty_rename(OP2)"
   ]
  },
  {
   "cell_type": "code",
   "execution_count": 298,
   "metadata": {},
   "outputs": [],
   "source": [
    "fun_Calc_Temp_ext_duty_rename(OP3)"
   ]
  },
  {
   "cell_type": "code",
   "execution_count": null,
   "metadata": {},
   "outputs": [],
   "source": [
    "o_OP1_max_temp,OP1_max_pos,OP1_temp_dic=fun_Check_Temp_Rise_allComponent(OP1)\n",
    "o_OP2_max_temp,OP2_max_pos,OP2_temp_dic=fun_Check_Temp_Rise_allComponent(OP2)\n",
    "o_OP3_max_temp,OP3_max_pos,OP3_temp_dic=fun_Check_Temp_Rise_allComponent(OP3)\n",
    "print(o_OP1_max_temp,o_OP2_max_temp,o_OP3_max_temp,OP3_max_pos,OP2_max_pos)\n",
    "\n",
    "OP3_temp_dic['Stator_Winding_Temp_Average'][1]"
   ]
  },
  {
   "cell_type": "code",
   "execution_count": null,
   "metadata": {},
   "outputs": [],
   "source": [
    "def fun_OP_temp_contraints(ext_Duty_Cycle,i_Turns_Coil):\n",
    "    Op_i,OP_beta,Op_after=fun_Find_Ipk_4Trq65C_mk_dat(ext_Duty_Cycle,i_Turns_Coil)\n",
    "    fun_Calc_Temp_ext_duty_rename(ext_Duty_Cycle)\n",
    "    o_max_temp,max_pos,temp_dic=fun_Check_Temp_Rise_allComponent(ext_Duty_Cycle)\n",
    "    return o_max_temp,max_pos,temp_dic, Op_i,OP_beta,Op_after\n",
    "\n",
    "\n",
    "\n"
   ]
  },
  {
   "attachments": {},
   "cell_type": "markdown",
   "metadata": {},
   "source": [
    "\n",
    "커플드 해석\n",
    "    OP1 - 6:36s\n",
    "    OP2 - 11.39.7\n",
    "    OP3 - 14:17.2\n",
    "일방해석 - 고온,저온\n"
   ]
  },
  {
   "attachments": {},
   "cell_type": "markdown",
   "metadata": {},
   "source": [
    "Driving Duty Cycle Data Calc Time :\n",
    "    M1"
   ]
  },
  {
   "cell_type": "code",
   "execution_count": null,
   "metadata": {},
   "outputs": [],
   "source": [
    "# op1=[1700,1300]\n",
    "# init_coil=11\n",
    "# OP1_Duty_Cycle='OP1_temp_rise'\n",
    "# ipk, beta = fun_Find_Ipk_4Trq65C_mk_dat(op1,init_coil)\n",
    "# before,after =fun_Save_Duty_Cycle_Change_I('Z:\\Thesis\\Optislang_Motorcad\\DutyCycleData','OP1_temp_rise',ipk)\n",
    "\n",
    "\n",
    "# fun_Save_Duty_Cycle_Change_I(mot_file_dir,OP1_Duty_Cycle,ipk)\n",
    "\n"
   ]
  },
  {
   "cell_type": "code",
   "execution_count": 324,
   "metadata": {},
   "outputs": [
    {
     "name": "stdout",
     "output_type": "stream",
     "text": [
      "73.9151255402935 136.119759717194 186.411706974832 ['Airgap_Temp'] ['Stator_Winding_Temp_Average']\n"
     ]
    },
    {
     "data": {
      "text/plain": [
       "168.372190255515"
      ]
     },
     "execution_count": 324,
     "metadata": {},
     "output_type": "execute_result"
    }
   ],
   "source": [
    "# 제약조건\n",
    "o_OP1_max_temp,OP1_max_pos,OP1_temp_dic=fun_Check_Temp_Rise_allComponent(OP1)\n",
    "o_OP2_max_temp,OP2_max_pos,OP2_temp_dic=fun_Check_Temp_Rise_allComponent(OP2)\n",
    "o_OP3_max_temp,OP3_max_pos,OP3_temp_dic=fun_Check_Temp_Rise_allComponent(OP3)\n",
    "print(o_OP1_max_temp,o_OP2_max_temp,o_OP3_max_temp,OP3_max_pos,OP2_max_pos)\n",
    "\n",
    "OP3_temp_dic['Stator_Winding_Temp_Average'][1]"
   ]
  },
  {
   "attachments": {},
   "cell_type": "markdown",
   "metadata": {},
   "source": [
    "Driving Duty Cycle Data Calc Time :\n",
    "    M1"
   ]
  },
  {
   "cell_type": "code",
   "execution_count": null,
   "metadata": {},
   "outputs": [],
   "source": [
    "\n",
    "### Lab: Energy Consumption over drive cycle\n",
    "\n",
    "  # Settings\n",
    "    # mcApp.SetVariable('N_d_MotorLAB', i_Gear_Ratio)                     # Gear Ratio\n",
    "\n",
    "    mcApp.SetVariable(\"DutyCycleType_Lab\", 0)                 # Automotive drive cycle\n",
    "    # mcApp.SetVariable(\"DrivCycle_MotorLAB\", \"WLTP Class 3\")   # WLTP3 drive cycle\n",
    "    mcApp.SetVariable(\"LabThermalCoupling_DutyCycle\", 0)      # No coupling with Thermal\n",
    "    \n",
    "  # Calculation & Post processing\n",
    "    mcApp.CalculateDutyCycle_Lab()                                                # Run calculation\n",
    "    #ex, o_WLTP3_Eff = mcApp.GetVariable(\"DutyCycleAverageEfficiency_EnergyUse\")   # Get efficiency value \n",
    "    ex, o_Wh_Loss = mcApp.GetVariable(\"DutyCycleTotalLoss\")   # Get efficiency value \n",
    "    ex, o_Wh_Shaft = mcApp.GetVariable(\"DutyCycleTotalEnergy_Shaft_Output\")   # Get efficiency value \n",
    "    ex, o_Wh_input = mcApp.GetVariable(\"DutyCycleTotalEnergy_Electrical_Input\")   # Get efficiency value \n",
    "      \n",
    "  # Raise exception if wrong performance data\n",
    "    if o_Wh_Loss < 0:\n",
    "        mcApp.SaveToFile(mot_file_new_path)  # Save design   \n",
    "        mcApp.Quit()                         # Close Motor-CAD\n",
    "        mcApp = 0                            # Reset mcApp variable  \n",
    "        time.sleep(0.5)                      # Frozen for 0.5s\n",
    "        raise Exception('[ERROR] {}: drive cycle performance calculation failed'.format(OSL_DESIGN_NAME))\n"
   ]
  },
  {
   "attachments": {},
   "cell_type": "markdown",
   "metadata": {},
   "source": [
    "def output init"
   ]
  },
  {
   "cell_type": "code",
   "execution_count": null,
   "metadata": {},
   "outputs": [],
   "source": [
    "def fun_\n",
    "           o_Cont_Torque_1700rpm  = 0.  \n",
    "        o_Cont_Torque_4krpm  = 0.\n",
    "\n",
    "        o_Peak_Torque_1700rpm = 0.\n",
    "        o_Peak_Power_1700rpm   = 0\n",
    "        o_Wh_Loss           =0\n",
    "        o_Wh_Shaft          =0\n",
    "        o_Wh_input          =0\n",
    "        o_Torque_Density     = 0.\n",
    "        o_Op1_ipk            = 0.\n",
    "        o_Weight_Act         = 0.\n",
    "        o_Weight_Mag         = 0.\n",
    "        o_Weight_Rot_Core    = 0.\n",
    "        o_Weight_Stat_Core   = 0.\n",
    "        o_Weight_Wdg         = 0.\n",
    "        "
   ]
  }
 ],
 "metadata": {
  "kernelspec": {
   "display_name": "py38_motor",
   "language": "python",
   "name": "python3"
  },
  "language_info": {
   "codemirror_mode": {
    "name": "ipython",
    "version": 3
   },
   "file_extension": ".py",
   "mimetype": "text/x-python",
   "name": "python",
   "nbconvert_exporter": "python",
   "pygments_lexer": "ipython3",
   "version": "3.8.0"
  },
  "orig_nbformat": 4,
  "vscode": {
   "interpreter": {
    "hash": "8fc4f609211f58521b6abc9d098b298a540faddf63db97e6e44f063b7b8eb2c6"
   }
  }
 },
 "nbformat": 4,
 "nbformat_minor": 2
}
