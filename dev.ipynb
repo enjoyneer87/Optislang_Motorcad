{
 "cells": [
  {
   "cell_type": "code",
   "execution_count": 175,
   "metadata": {},
   "outputs": [],
   "source": [
    "import win32com.client\n",
    "import os\n",
    "import numpy as np\n",
    "import time\n",
    "from os import getcwd\n",
    "from os.path import join, dirname, exists\n",
    "from math import pi, sqrt\n",
    "from scipy.io import loadmat\n",
    "import re\n",
    "import matplotlib.pyplot as plt\n",
    "# # path='D:/KangDH/Optislang_Motorcad/IPM_HDEV_2/MCAD/HDEV_Thesis2/DutyCycleData/'\n",
    "# # ext_Duty_Cycle='OP1_temp_rise'\n",
    "# # ext_Duty_Cycle_full=join(path,ext_Duty_Cycle)+'.dat'\n",
    "# # ext_Duty_Cycle_full\n",
    "\n",
    "# # power_filename=ext_Duty_Cycle+'_power.csv'\n",
    "# # power_filename\n",
    "# # from MotorCAD_Methods import MotorCAD\n",
    "# mcApp = win32com.client.Dispatch(\"MotorCAD.AppAutomation\")  # Launch Motor-CAD application\n",
    "\n",
    "# # mc=MotorCAD()\n",
    "ext_Duty_Cycle='OP1_temp_rise'\n",
    "# %reset_selective -f ^(?!mcApp).*$"
   ]
  },
  {
   "attachments": {},
   "cell_type": "markdown",
   "metadata": {},
   "source": [
    "fun_temp_rise_external_dutycyle"
   ]
  },
  {
   "cell_type": "code",
   "execution_count": 189,
   "metadata": {},
   "outputs": [],
   "source": [
    "def fun_temp_rise_external_dutycyle(path,ext_Duty_Cycle):\n",
    "    ext_Duty_Cycle_full=join(path,ext_Duty_Cycle,'.dat')\n",
    "    mcapp.LoadDutyCycle(ext_Duty_Cycle_full)\n",
    "    mcapp.SetVariable('InitialTransientTemperatureOption',3)\n",
    "    mcapp.CalculateDutyCycle_Lab()\n",
    "\n",
    "fun_temp_rise_external_dutycyle()"
   ]
  },
  {
   "cell_type": "code",
   "execution_count": null,
   "metadata": {},
   "outputs": [],
   "source": [
    "\n",
    "\n",
    "ext_Duty_Cycle='OP1_temp_rise'\n",
    "\n",
    "def fun_load_temp_rise_2csvfile(lab_transient_fullpath_w_filename):\n",
    "    Temp_filename=lab_transient_fullpath_w_filename+'_temp.csv'\n",
    "    power_filename=lab_transient_fullpath_w_filename+'_power.csv'\n",
    "    mcApp.ExportResults('Transient', power_filename)\n",
    "    mcApp.ExportResults('Transient', Temp_filename)\n",
    "    \n",
    "fun_load_temp_rise_2csvfile(ext_Duty_Cycle)"
   ]
  },
  {
   "attachments": {},
   "cell_type": "markdown",
   "metadata": {},
   "source": [
    "Duty Cycle Coupled Transient 해석 결과로 나오는 mat파일 이름 변경\n"
   ]
  },
  {
   "cell_type": "code",
   "execution_count": 176,
   "metadata": {},
   "outputs": [],
   "source": [
    "def fun_rename_matfile_lab_duty(ext_Duty_Cycle):\n",
    "    ex, motpath=mcApp.GetVariable(\"CurrentMotFilePath_MotorLAB\")\n",
    "    motpath=re.sub(\".mot\",\"\",motpath)\n",
    "    Lab_path=motpath+'/Lab/'\n",
    "    os.chdir(Lab_path)\n",
    "    rename_matfile=ext_Duty_Cycle+'_lab_result.mat'\n",
    "    if os.path.exists('MotorLAB_drivecycledata.mat'):\n",
    "        os.rename('MotorLAB_drivecycledata.mat',rename_matfile)\n",
    "        \n",
    "# fun_rename_matfile_lab_duty('OP1_temp_rise')\n",
    "\n",
    "# ext_Duty_Cycle='OP1_temp_rise'\n",
    "\n",
    "# MotorLAB_drivecycledata\n",
    "\n",
    "\n"
   ]
  },
  {
   "attachments": {},
   "cell_type": "markdown",
   "metadata": {},
   "source": [
    "fun_load_matfile - mat 파일에서 온도에 해당하는 정보 뽑아오기"
   ]
  },
  {
   "cell_type": "code",
   "execution_count": 185,
   "metadata": {},
   "outputs": [],
   "source": [
    "def fun_load_matfile(ext_Duty_Cycle):\n",
    "    ex, motpath=mcApp.GetVariable(\"CurrentMotFilePath_MotorLAB\")\n",
    "    motpath=re.sub(\".mot\",\"\",motpath)\n",
    "    Lab_path=motpath+'/Lab/'\n",
    "    os.chdir(Lab_path)\n",
    "    rename_matfile=ext_Duty_Cycle+'_lab_result.mat'\n",
    "    Mat_File_Data=loadmat(rename_matfile)\n",
    "    return Mat_File_Data\n",
    "\n",
    "OP1_temp_rise_mat=fun_load_matfile('OP1_temp_rise')\n",
    "AG_Temp=OP1_temp_rise_mat['Airgap_Temp']\n",
    "AG_Temp=AG_Temp.flatten().tolist()"
   ]
  },
  {
   "cell_type": "code",
   "execution_count": null,
   "metadata": {},
   "outputs": [],
   "source": [
    "OP1_temp_rise_temp_dic=dict(zip(OP1_temp_rise_temp_key,OP1_temp_rise_temp))\n",
    "key=OP1_temp_rise_temp_dic.keys()\n",
    "max(OP1_temp_rise_temp_dic.get('Magnet_Temp'))"
   ]
  },
  {
   "cell_type": "code",
   "execution_count": 166,
   "metadata": {},
   "outputs": [],
   "source": []
  },
  {
   "attachments": {},
   "cell_type": "markdown",
   "metadata": {},
   "source": [
    "fun_check_temp_rise_allcomponent"
   ]
  },
  {
   "cell_type": "code",
   "execution_count": 178,
   "metadata": {},
   "outputs": [],
   "source": [
    "def fun_check_temp_rise_allcomponent(ext_Duty_Cycle):\n",
    "    ## init\n",
    "    init_final_temp=[]\n",
    "    ## change name of mat file\n",
    "    fun_rename_matfile_lab_duty(ext_Duty_Cycle)\n",
    "    ## load mat file\n",
    "    list_from_mat=fun_load_matfile(ext_Duty_Cycle)\n",
    "    \n",
    "    ## \n",
    "    mat_temp=[list_from_mat.get(key) for key in list_from_mat.keys() if 'Temp' in key]\n",
    "    mat_temp_key=[key for key in list_from_mat.keys() if 'Temp' in key]\n",
    "\n",
    "    ## check temp rise\n",
    "    for i in range(len(mat_temp)):\n",
    "        temp=mat_temp[i].ravel().tolist()\n",
    "        init_final_temp.append((temp[0],temp[-1]))\n",
    "        check_temp=max(max(init_final_temp))\n",
    "    \n",
    "    ## \n",
    "    max_temp_key=[key for key in mat_temp_key if max(list_from_mat.get(key))==check_temp]\n",
    "    dic_init_final_temp=dict(zip(mat_temp_key,init_final_temp))\n",
    "    \n",
    "    return dic_init_final_temp, max_temp_key, check_temp\n",
    "\n",
    "a, b,c =check_temp_rise_allcomponent('OP1_temp_rise')"
   ]
  },
  {
   "cell_type": "code",
   "execution_count": null,
   "metadata": {},
   "outputs": [],
   "source": [
    "## Dict to list (which is array)\n",
    "\n",
    "mat_temp=[OP1_temp_rise_mat.get(key) for key in OP1_temp_rise_mat.keys() if 'Temp' in key]\n",
    "mat_time=[OP1_temp_rise_mat.get(key) for key in OP1_temp_rise_mat.keys() if 'Time' in key]\n",
    "mat_temp_key=[key for key in OP1_temp_rise_mat.keys() if 'Temp' in key]\n",
    "mat_torque=[OP1_temp_rise_mat.get(key) for key in OP1_temp_rise_mat.keys() if 'Shaft_Torque' in key]\n",
    "mat_emtorque=[OP1_temp_rise_mat.get(key) for key in OP1_temp_rise_mat.keys() if 'Electromagnetic_Torque' in key]\n",
    "mat_current=[OP1_temp_rise_mat.get(key) for key in OP1_temp_rise_mat.keys() if 'Stator_Current_Line_Peak' in key]\n",
    "mat_voltage=[OP1_temp_rise_mat.get(key) for key in OP1_temp_rise_mat.keys() if 'Voltage_Phase_Peak' in key]\n",
    "mat_Terminal_Power=[OP1_temp_rise_mat.get(key) for key in OP1_temp_rise_mat.keys() if 'Terminal_Power' in key]\n",
    "mat_Perror=[OP1_temp_rise_mat.get(key) for key in OP1_temp_rise_mat.keys() if 'Power_Error' in key]\n"
   ]
  },
  {
   "attachments": {},
   "cell_type": "markdown",
   "metadata": {},
   "source": [
    "# [Plot]온도시험 결과값 확인, 입력, 출력, 온도 - with list data (which is ndarray type)\n"
   ]
  },
  {
   "cell_type": "code",
   "execution_count": null,
   "metadata": {},
   "outputs": [],
   "source": [
    "\n",
    "from matplotlib import legend\n",
    "\n",
    "fig=plt.figure(figsize=(10,20))\n",
    "time=mat_time[0].ravel().tolist()\n",
    "for i in range(len(mat_temp)):\n",
    "    temp=mat_temp[i].ravel().tolist()\n",
    "    label=mat_temp_key[i]\n",
    "    plt.subplot(4,1,1)\n",
    "    plt.annotate(label+str(round(max(temp),2))+'degC',xy=(time[-1],temp[-1]))\n",
    "    plt.plot(time,temp,label=label)\n",
    "    plt.title('Temp Rise')\n",
    "    plt.xlabel('Time(sec)')\n",
    "    plt.ylabel('Temperature(degC)')\n",
    "    \n",
    "\n",
    "plt.legend()\n",
    "plt.subplot(4,1,2)\n",
    "plt.plot(time,mat_torque[0].ravel().tolist(), label='Shaft_Torque')\n",
    "plt.plot(time,mat_emtorque[0].ravel().tolist(),label='Electromagnetic_Torque')\n",
    "plt.legend()\n",
    "\n",
    "plt.subplot(4,1,3)\n",
    "plt.plot(time,mat_current[0].ravel().tolist(),label='Stator_Current_Line_Peak',)\n",
    "plt.ylim(750,800)\n",
    "plt.legend()\n",
    "\n",
    "plt.subplot(4,1,4)\n",
    "plt.plot(time,mat_voltage[0].ravel().tolist(),label='Voltage_Phase_Peak',)\n",
    "plt.legend()\n",
    "# plt.plot(OP1_temp_rise_time[0],OP1_temp_rise_temp[0][1])\n",
    "fig.savefig(join(ext_Duty_Cycle+'png'))"
   ]
  },
  {
   "cell_type": "code",
   "execution_count": null,
   "metadata": {},
   "outputs": [],
   "source": [
    "init_temp=temp[0]\n",
    "final_temp=temp[-1]"
   ]
  },
  {
   "cell_type": "code",
   "execution_count": null,
   "metadata": {},
   "outputs": [],
   "source": [
    "list_from_mat=fun_load_matfile(ext_Duty_Cycle)\n"
   ]
  },
  {
   "cell_type": "code",
   "execution_count": null,
   "metadata": {},
   "outputs": [],
   "source": [
    "mat_temp=[OP1_temp_rise_mat.get(key) for key in OP1_temp_rise_mat.keys() if 'Temp' in key]\n",
    "\n",
    "def check_temp_rise_allcomponent(ext_Duty_Cycle):\n",
    "    ## init\n",
    "    init_final_temp=[]\n",
    "    \n",
    "    ## load mat file\n",
    "    list_from_mat=fun_load_matfile(ext_Duty_Cycle)\n",
    "    ## check temp rise\n",
    "    for i in range(len(list_from_mat)):\n",
    "        temp=list_from_mat[i].ravel().tolist()\n",
    "        init_final_temp.append((temp[0],temp[-1]))\n",
    "        check_temp=max(max(init_final_temp))\n",
    "    return init_final_temp, check_temp\n",
    "\n",
    "init_final_temp, check_temp=check_temp_rise_allcomponent(mat_temp)\n",
    "\n",
    "\n",
    "        \n",
    "    "
   ]
  },
  {
   "cell_type": "code",
   "execution_count": null,
   "metadata": {},
   "outputs": [],
   "source": [
    "def fun_check_init_final_temp(ext_Duty_Cycle):\n",
    "    Mat_File_Data=fun_load_matfile(ext_Duty_Cycle)\n",
    "    mat_temp=[Mat_File_Data.get(key) for key in OP1_temp_rise_mat.keys() if 'Temp' in key]\n",
    "    mat_temp_key=[key for key in OP1_temp_rise_mat.keys() if 'Temp' in key]\n",
    "\n",
    "    Mat_File_temp_key=Mat_File_Data.keys()\n",
    "\n",
    "    max_temp=max(Mat_File_temp)\n",
    "    min_temp=min(Mat_File_temp)\n",
    "    return max_temp, min_temp\n",
    "\n",
    "fun_check_init_final_temp('OP1_temp_rise')"
   ]
  },
  {
   "cell_type": "code",
   "execution_count": null,
   "metadata": {},
   "outputs": [],
   "source": [
    "\n",
    "# Data for plotting\n",
    "OSL_DESIGN_NAME = 'Design0001'\n",
    "fig, ax = plt.subplots()\n",
    "ax.plot(RotorPosition, CoggingTorqueVW)\n",
    "screenname='CoggingTorqueVW'\n",
    "ax.set(xlabel='Rotor Position (Mdeg)', ylabel='CoggingTorqueVW [Nm]',\n",
    "       title='CoggingTorqueVW')\n",
    "ax.grid()\n",
    "wdir='Z:/Thesis/Motorcad_Optislang/IPM_HDEV_1/OPD\\HDEV_Thesis1.opd/HDEV__Thesis1/'\n",
    "savedir=join(wdir, 'Design0001' + '/' +  '_Pic_' + screenname )\n",
    "fig.savefig(join(savedir+'png'))\n",
    "plt.show()\n",
    "data_array=[np.transpose(RotorPosition), np.transpose(CoggingTorqueVW)]\n",
    "io.savemat(join(savedir+'.mat'),{\"CoggingTorqueVW\":data_array})\n",
    "# OP1_temp_rise_mat.keys()"
   ]
  },
  {
   "attachments": {},
   "cell_type": "markdown",
   "metadata": {},
   "source": [
    "Save CSV filed Manually"
   ]
  },
  {
   "cell_type": "code",
   "execution_count": null,
   "metadata": {},
   "outputs": [],
   "source": [
    "\n",
    "\n",
    "def fun_load_temp_rise_2csvfile(lab_transient_fullpath_w_filename):\n",
    "    mcApp.ExportResults('Transient', power_filename)\n",
    "    Temp_filename=ext_Duty_Cycle+'_temp.csv'\n",
    "    power_filename=ext_Duty_Cycle+'_power.csv'\n",
    "\n",
    "def fun_load_temp_rise_from_MCgraph()\n",
    "    temp_rise=open(Temp_filename,'r')\n",
    "\n"
   ]
  },
  {
   "attachments": {},
   "cell_type": "markdown",
   "metadata": {},
   "source": [
    "# Lab Peak performance function"
   ]
  },
  {
   "cell_type": "code",
   "execution_count": null,
   "metadata": {},
   "outputs": [],
   "source": [
    "OP_list=[]\n",
    "\n",
    "def fun_find_current_for_required_torque(ext_Duty_Cycle):\n",
    "    mcApp.SetVariable('TurnsCalc_MotorLAB', i_Turns_Coil)            # Turns per coil\n",
    "    mcApp.SetVariable(\"LabThermalCoupling\", 0)                         # Coupling with Thermal\n",
    "    mcApp.SetVariable(\"OpPointSpec_MotorLAB\", 0)                       # 0- Torque 4-Max temperature definition\n",
    "    mcApp.SetVariable(\"SpeedDemand_MotorLAB\", p_Speed_Peak_Array[0])                       # 0- Torque 4-Max temperature definition\n",
    "    mcApp.SetVariable(\"TorqueDemand_MotorLAB\", 1300)                       # 0- Torque 4-Max temperature definition  \n",
    "    mcApp.CalculateOperatingPoint_Lab()                             # Operating point calculation\n",
    "    "
   ]
  }
 ],
 "metadata": {
  "kernelspec": {
   "display_name": "py38_motor",
   "language": "python",
   "name": "python3"
  },
  "language_info": {
   "codemirror_mode": {
    "name": "ipython",
    "version": 3
   },
   "file_extension": ".py",
   "mimetype": "text/x-python",
   "name": "python",
   "nbconvert_exporter": "python",
   "pygments_lexer": "ipython3",
   "version": "3.8.0"
  },
  "orig_nbformat": 4,
  "vscode": {
   "interpreter": {
    "hash": "8fc4f609211f58521b6abc9d098b298a540faddf63db97e6e44f063b7b8eb2c6"
   }
  }
 },
 "nbformat": 4,
 "nbformat_minor": 2
}
