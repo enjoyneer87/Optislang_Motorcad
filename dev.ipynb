{
 "cells": [
  {
   "cell_type": "code",
   "execution_count": 3,
   "metadata": {},
   "outputs": [],
   "source": [
    "import win32com.client\n",
    "import os\n",
    "import numpy as np\n",
    "import time\n",
    "from os import getcwd\n",
    "from os.path import join, dirname, exists\n",
    "from math import pi, sqrt\n",
    "from scipy.io import loadmat\n",
    "import re\n",
    "import matplotlib.pyplot as plt\n",
    "# # path='D:/KangDH/Optislang_Motorcad/IPM_HDEV_2/MCAD/HDEV_Thesis2/DutyCycleData/'\n",
    "# # ext_Duty_Cycle='OP1_temp_rise'\n",
    "# # ext_Duty_Cycle_full=join(path,ext_Duty_Cycle)+'.dat'\n",
    "# # ext_Duty_Cycle_full\n",
    "\n",
    "# # power_filename=ext_Duty_Cycle+'_power.csv'\n",
    "# # power_filename\n",
    "# # from MotorCAD_Methods import MotorCAD\n",
    "mcApp = win32com.client.Dispatch(\"MotorCAD.AppAutomation\")  # Launch Motor-CAD application\n",
    "\n",
    "# # mc=MotorCAD()"
   ]
  },
  {
   "attachments": {},
   "cell_type": "markdown",
   "metadata": {},
   "source": [
    "Duty Cycle Coupled Transient 해석 결과로 나오는 mat파일 이름 변경\n"
   ]
  },
  {
   "cell_type": "code",
   "execution_count": 8,
   "metadata": {},
   "outputs": [
    {
     "ename": "FileNotFoundError",
     "evalue": "[WinError 2] 지정된 파일을 찾을 수 없습니다: 'MotorLAB_drivecycledata.mat' -> 'OP1_temp_rise_lab_result.mat'",
     "output_type": "error",
     "traceback": [
      "\u001b[1;31m---------------------------------------------------------------------------\u001b[0m",
      "\u001b[1;31mFileNotFoundError\u001b[0m                         Traceback (most recent call last)",
      "Cell \u001b[1;32mIn[8], line 10\u001b[0m\n\u001b[0;32m      7\u001b[0m     os\u001b[39m.\u001b[39mrename(\u001b[39m'\u001b[39m\u001b[39mMotorLAB_drivecycledata.mat\u001b[39m\u001b[39m'\u001b[39m,rename_matfile)\n\u001b[0;32m      8\u001b[0m     \u001b[39mreturn\u001b[39;00m rename_matfile\n\u001b[1;32m---> 10\u001b[0m fun_rename_matfile_lab_duty(\u001b[39m'\u001b[39;49m\u001b[39mOP1_temp_rise\u001b[39;49m\u001b[39m'\u001b[39;49m)\n\u001b[0;32m     12\u001b[0m ext_Duty_Cycle\u001b[39m=\u001b[39m\u001b[39m'\u001b[39m\u001b[39mOP1_temp_rise\u001b[39m\u001b[39m'\u001b[39m\n\u001b[0;32m     14\u001b[0m \u001b[39m# MotorLAB_drivecycledata\u001b[39;00m\n",
      "Cell \u001b[1;32mIn[8], line 7\u001b[0m, in \u001b[0;36mfun_rename_matfile_lab_duty\u001b[1;34m(ext_Duty_Cycle)\u001b[0m\n\u001b[0;32m      5\u001b[0m os\u001b[39m.\u001b[39mchdir(Lab_path)\n\u001b[0;32m      6\u001b[0m rename_matfile\u001b[39m=\u001b[39mext_Duty_Cycle\u001b[39m+\u001b[39m\u001b[39m'\u001b[39m\u001b[39m_lab_result.mat\u001b[39m\u001b[39m'\u001b[39m\n\u001b[1;32m----> 7\u001b[0m os\u001b[39m.\u001b[39;49mrename(\u001b[39m'\u001b[39;49m\u001b[39mMotorLAB_drivecycledata.mat\u001b[39;49m\u001b[39m'\u001b[39;49m,rename_matfile)\n\u001b[0;32m      8\u001b[0m \u001b[39mreturn\u001b[39;00m rename_matfile\n",
      "\u001b[1;31mFileNotFoundError\u001b[0m: [WinError 2] 지정된 파일을 찾을 수 없습니다: 'MotorLAB_drivecycledata.mat' -> 'OP1_temp_rise_lab_result.mat'"
     ]
    }
   ],
   "source": [
    "def fun_rename_matfile_lab_duty(ext_Duty_Cycle):\n",
    "    ex, motpath=mcApp.GetVariable(\"CurrentMotFilePath_MotorLAB\")\n",
    "    motpath=re.sub(\".mot\",\"\",motpath)\n",
    "    Lab_path=motpath+'/Lab/'\n",
    "    os.chdir(Lab_path)\n",
    "    rename_matfile=ext_Duty_Cycle+'_lab_result.mat'\n",
    "    os.rename('MotorLAB_drivecycledata.mat',rename_matfile)\n",
    "    return rename_matfile\n",
    "\n",
    "fun_rename_matfile_lab_duty('OP1_temp_rise')\n",
    "\n",
    "ext_Duty_Cycle='OP1_temp_rise'\n",
    "\n",
    "# MotorLAB_drivecycledata\n",
    "\n",
    "\n"
   ]
  },
  {
   "attachments": {},
   "cell_type": "markdown",
   "metadata": {},
   "source": [
    "mat 파일에서 온도에 해당하는 정보 뽑아오기"
   ]
  },
  {
   "cell_type": "code",
   "execution_count": 9,
   "metadata": {},
   "outputs": [],
   "source": [
    "def fun_load_matfile(ext_Duty_Cycle):\n",
    "    ex, motpath=mcApp.GetVariable(\"CurrentMotFilePath_MotorLAB\")\n",
    "    motpath=re.sub(\".mot\",\"\",motpath)\n",
    "    Lab_path=motpath+'/Lab/'\n",
    "    os.chdir(Lab_path)\n",
    "    rename_matfile=ext_Duty_Cycle+'_lab_result.mat'\n",
    "    Mat_File_Data=loadmat(rename_matfile)\n",
    "    Mat_File_Speed=Mat_File_Data['Speed']\n",
    "    Mat_File_Torque=Mat_File_Data['Shaft_Torque']\n",
    "    Mat_File_Power=Mat_File_Data['Shaft_Power']\n",
    "    Mat_File_Torque=Mat_File_Torque.flatten()\n",
    "    Mat_File_Power=Mat_File_Power.flatten()\n",
    "    Mat_File_Speed=Mat_File_Speed.flatten()\n",
    "    return Mat_File_Data\n",
    "\n",
    "OP1_temp_rise_mat=fun_load_matfile('OP1_temp_rise')\n"
   ]
  },
  {
   "cell_type": "code",
   "execution_count": 18,
   "metadata": {},
   "outputs": [],
   "source": [
    "OP1_temp_rise_temp=[OP1_temp_rise_mat.get(key) for key in OP1_temp_rise_mat.keys() if 'Temp' in key]\n",
    "OP1_temp_rise_time=[OP1_temp_rise_mat.get(key) for key in OP1_temp_rise_mat.keys() if 'Time' in key]"
   ]
  },
  {
   "cell_type": "code",
   "execution_count": 17,
   "metadata": {},
   "outputs": [],
   "source": [
    "OP1_temp_rise_temp_key=[key for key in OP1_temp_rise_mat.keys() if 'Temp' in key]\n"
   ]
  },
  {
   "cell_type": "code",
   "execution_count": 23,
   "metadata": {},
   "outputs": [
    {
     "data": {
      "text/plain": [
       "array([130.])"
      ]
     },
     "execution_count": 23,
     "metadata": {},
     "output_type": "execute_result"
    }
   ],
   "source": [
    "OP1_temp_rise_temp_dic=dict(zip(OP1_temp_rise_temp_key,OP1_temp_rise_temp))\n",
    "key=OP1_temp_rise_temp_dic.keys()\n",
    "max(OP1_temp_rise_temp_dic.get('Magnet_Temp'))"
   ]
  },
  {
   "cell_type": "code",
   "execution_count": 113,
   "metadata": {},
   "outputs": [
    {
     "data": {
      "text/plain": [
       "[<matplotlib.lines.Line2D at 0x28f2d3bed60>]"
      ]
     },
     "execution_count": 113,
     "metadata": {},
     "output_type": "execute_result"
    },
    {
     "data": {
      "image/png": "[encoded data removed]",
      "text/plain": [
       "<Figure size 640x480 with 1 Axes>"
      ]
     },
     "metadata": {},
     "output_type": "display_data"
    }
   ],
   "source": [
    "# OP1_temp_rise_time=OP1_temp_rise_time[0]\n",
    "time=OP1_temp_rise_time[0].ravel().tolist()\n",
    "temp=OP1_temp_rise_temp[0][1].ravel().tolist()\n",
    "\n",
    "plt.plot(time,temp)\n",
    "# plt.plot(OP1_temp_rise_time[0],OP1_temp_rise_temp[0][1])\n"
   ]
  },
  {
   "cell_type": "code",
   "execution_count": 50,
   "metadata": {},
   "outputs": [],
   "source": [
    "\n",
    "# Data for plotting\n",
    "OSL_DESIGN_NAME = 'Design0001'\n",
    "fig, ax = plt.subplots()\n",
    "ax.plot(RotorPosition, CoggingTorqueVW)\n",
    "screenname='CoggingTorqueVW'\n",
    "ax.set(xlabel='Rotor Position (Mdeg)', ylabel='CoggingTorqueVW [Nm]',\n",
    "       title='CoggingTorqueVW')\n",
    "ax.grid()\n",
    "wdir='Z:/Thesis/Motorcad_Optislang/IPM_HDEV_1/OPD\\HDEV_Thesis1.opd/HDEV__Thesis1/'\n",
    "savedir=join(wdir, 'Design0001' + '/' +  '_Pic_' + screenname )\n",
    "fig.savefig(join(savedir+'png'))\n",
    "plt.show()\n",
    "data_array=[np.transpose(RotorPosition), np.transpose(CoggingTorqueVW)]\n",
    "io.savemat(join(savedir+'.mat'),{\"CoggingTorqueVW\":data_array})\n",
    "# OP1_temp_rise_mat.keys()"
   ]
  },
  {
   "attachments": {},
   "cell_type": "markdown",
   "metadata": {},
   "source": [
    "Save CSV filed Manually"
   ]
  },
  {
   "cell_type": "code",
   "execution_count": null,
   "metadata": {},
   "outputs": [],
   "source": [
    "\n",
    "\n",
    "def fun_load_temp_rise_2csvfile(lab_transient_fullpath_w_filename):\n",
    "    mcApp.ExportResults('Transient', power_filename)\n",
    "    Temp_filename=ext_Duty_Cycle+'_temp.csv'\n",
    "    power_filename=ext_Duty_Cycle+'_power.csv'\n",
    "\n",
    "def fun_load_temp_rise_from_MCgraph()\n",
    "    temp_rise=open(Temp_filename,'r')\n",
    "\n"
   ]
  }
 ],
 "metadata": {
  "kernelspec": {
   "display_name": "py38_motor",
   "language": "python",
   "name": "python3"
  },
  "language_info": {
   "codemirror_mode": {
    "name": "ipython",
    "version": 3
   },
   "file_extension": ".py",
   "mimetype": "text/x-python",
   "name": "python",
   "nbconvert_exporter": "python",
   "pygments_lexer": "ipython3",
   "version": "3.8.0"
  },
  "orig_nbformat": 4,
  "vscode": {
   "interpreter": {
    "hash": "8fc4f609211f58521b6abc9d098b298a540faddf63db97e6e44f063b7b8eb2c6"
   }
  }
 },
 "nbformat": 4,
 "nbformat_minor": 2
}
