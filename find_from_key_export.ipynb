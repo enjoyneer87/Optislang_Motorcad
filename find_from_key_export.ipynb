{
 "cells": [
  {
   "cell_type": "code",
   "execution_count": null,
   "metadata": {},
   "outputs": [],
   "source": [
    "dic = {'홍길동 3학년': '123 456', '123 456': '홍길동 3학년', '홍길순 3학년':'456 789', '456 789': '홍길순'}\n",
    "a=[[key, dic.get(key)] for key in dic.keys() if '3학년' in key]\n",
    "\n",
    "# OP1_temp_rise_temp=[[key, OP1_temp_rise_mat.get(key)] for key in OP1_temp_rise_mat.keys() if 'Temp' in key]\n"
   ]
  }
 ],
 "metadata": {
  "kernelspec": {
   "display_name": "Python 3",
   "language": "python",
   "name": "python3"
  },
  "language_info": {
   "name": "python",
   "version": "3.9.7 (tags/v3.9.7:1016ef3, Aug 30 2021, 20:19:38) [MSC v.1929 64 bit (AMD64)]"
  },
  "orig_nbformat": 4,
  "vscode": {
   "interpreter": {
    "hash": "11938c6bc6919ae2720b4d5011047913343b08a43b18698fd82dedb0d4417594"
   }
  }
 },
 "nbformat": 4,
 "nbformat_minor": 2
}
