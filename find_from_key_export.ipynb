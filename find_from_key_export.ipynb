{
 "cells": [
  {
   "cell_type": "code",
   "execution_count": 28,
   "metadata": {},
   "outputs": [],
   "source": [
    "# dic = {'홍길동 3학년': '123 456', '123 456': '홍길동 3학년', '홍길순 3학년':'456 789', '456 789': '홍길순'}\n",
    "# a=[[key, dic.get(key)] for key in dic.keys() if '3학년' in key]\n",
    "dic = {'홍길동 3학년': 123}\n",
    "c=dic.values()\n",
    "a=dic['홍길동 3학년']\n"
   ]
  },
  {
   "cell_type": "code",
   "execution_count": 43,
   "metadata": {},
   "outputs": [],
   "source": [
    "a=[1,2,3,4]\n",
    "i=1\n",
    "a[i]\n",
    "o_LabCurrentJ=10"
   ]
  },
  {
   "cell_type": "code",
   "execution_count": 73,
   "metadata": {},
   "outputs": [
    {
     "data": {
      "text/plain": [
       "range(0, 2)"
      ]
     },
     "execution_count": 73,
     "metadata": {},
     "output_type": "execute_result"
    }
   ],
   "source": [
    "o_LabCurrentJ=0\n",
    "# OP point check\n",
    "o_Op1_Jrms =0\n",
    "o_Op2_Jrms =0\n",
    "o_Op3_Jrms =0\n",
    "o_Op1_ipk               =0\n",
    "o_Op2_ipk               =0\n",
    "o_Op3_ipk               =0\n",
    "o_Op1_ShaftToruqe       =0\n",
    "o_Op2_ShaftToruqe       =0\n",
    "o_Op3_ShaftToruqe       =0\n",
    "# Temp rise test (Duty Cycle)\n",
    "o_Op2_max_temp          =0\n",
    "o_OP3_max_temp          =0\n",
    "# Driving Duty Cycle\n",
    "o_Wh_Loss           =0\n",
    "o_Wh_Shaft          =0\n",
    "o_Wh_input          =0\n",
    "# Torque density \n",
    "o_Maxtorque=0\n",
    "o_TorqueVolumeDensity =0\n",
    "o_TorqueWeightDensity =0\n",
    "o_Op2_copper_area   =0\n",
    "o_Op1_copper_area   =0\n",
    "o_Op3_copper_area   =0\n",
    "# Weight\n",
    "o_Weight_Act         = 0.\n",
    "o_Weight_Mag         = 0.\n",
    "o_Weight_Rot_Core    = 0.\n",
    "o_Weight_Stat_Core   = 0.\n",
    "o_Weight_Wdg         = 0.\n",
    "\n",
    "outputList=['o_LabCurrentJ',o_LabCurrentJ]\n",
    "outputList.extend(['o_Op1_Jrms',o_Op1_Jrms])\n",
    "a=len(outputList)/2\n",
    "range(int(a))"
   ]
  },
  {
   "cell_type": "code",
   "execution_count": null,
   "metadata": {},
   "outputs": [],
   "source": []
  },
  {
   "cell_type": "code",
   "execution_count": null,
   "metadata": {},
   "outputs": [],
   "source": [
    "import numpy as np\n",
    "from numpy import pi\n",
    "p_Speed_Max        = 7000.   # Maximum operating speed\n",
    "p_Speed_Lab_Step    = 100.                              # Speed step used in Lab\n",
    "\n",
    "Speed_Max_Rad = pi*p_Speed_Max/30                                               # Maximum speed in radians\n",
    "Speed_Lab     = np.arange(0, p_Speed_Max + p_Speed_Lab_Step, p_Speed_Lab_Step)  # Speed vector in Lab\n",
    "Speed_Lab     = Speed_Lab.tolist()                                              # Required for signal generation\n",
    "Speed_Lab_Len = len(Speed_Lab)                                                  # Required for signal generation\n",
    "o_Sig_Peak_Torque    = list_list_2_variant_signal([[0]*Speed_Lab_Len], Speed_Lab) \n",
    "\n",
    "# Signals to be read in OSL \n",
    "    if run_mode in ['OSL_run']:\n",
    "        List_Speed        = Mat_File_Speed.tolist()     # Convert to list \n",
    "        List_Peak_Torque  = Mat_File_Torque.tolist()\n",
    "        List_Peak_Power   = Mat_File_Power.tolist()\n",
    "        o_Sig_Peak_Torque = list_list_2_variant_signal([List_Peak_Torque], List_Speed)\n",
    "        o_Sig_Peak_Power  = list_list_2_variant_signal([List_Peak_Power], List_Speed)\n",
    "          o_Sig_Torque_Ripples = list_list_2_variant_signal([List_TorqueVW_500rpm], List_Pos)\n",
    "    o_Sig_Peak_Torque    = list_list_2_variant_signal([[0]*Speed_Lab_Len], Speed_Lab) \n",
    "    o_Sig_Peak_Power     = list_list_2_variant_signal([[0]*Speed_Lab_Len], Speed_Lab) \n",
    "    o_Sig_Torque_Ripples = list_list_2_variant_signal([[0]*(p_Torque_Pts+1)], [0]*(p_Torque_Pts+1))\n"
   ]
  }
 ],
 "metadata": {
  "kernelspec": {
   "display_name": "base",
   "language": "python",
   "name": "python3"
  },
  "language_info": {
   "codemirror_mode": {
    "name": "ipython",
    "version": 3
   },
   "file_extension": ".py",
   "mimetype": "text/x-python",
   "name": "python",
   "nbconvert_exporter": "python",
   "pygments_lexer": "ipython3",
   "version": "3.8.8"
  },
  "orig_nbformat": 4,
  "vscode": {
   "interpreter": {
    "hash": "ad2bdc8ecc057115af97d19610ffacc2b4e99fae6737bb82f5d7fb13d2f2c186"
   }
  }
 },
 "nbformat": 4,
 "nbformat_minor": 2
}
