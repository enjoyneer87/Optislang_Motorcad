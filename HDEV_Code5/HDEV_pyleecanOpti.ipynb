{
 "cells": [
  {
   "cell_type": "markdown",
   "metadata": {},
   "source": [
    " # [Packages] Import"
   ]
  },
  {
   "cell_type": "code",
   "execution_count": 2,
   "metadata": {},
   "outputs": [
    {
     "name": "stdout",
     "output_type": "stream",
     "text": [
      "Running date: July 25, 2023\n",
      "Pyleecan version:1.5.1\n",
      "SciDataTool version:2.5.0\n"
     ]
    }
   ],
   "source": [
    "import win32com.client\n",
    "import os\n",
    "import numpy as np\n",
    "import time\n",
    "from os import getcwd\n",
    "from os.path import join, dirname, exists\n",
    "from math import pi, sqrt\n",
    "from scipy.io import loadmat\n",
    "import re\n",
    "\n",
    "from datetime import date\n",
    "print(\"Running date:\", date.today().strftime(\"%B %d, %Y\"))\n",
    "import pyleecan\n",
    "print(\"Pyleecan version:\" + pyleecan.__version__)\n",
    "import SciDataTool\n",
    "print(\"SciDataTool version:\" + SciDataTool.__version__)\n",
    "from numpy import (\n",
    "    zeros,\n",
    "    exp,\n",
    "    pi,\n",
    "    real,\n",
    "    meshgrid,\n",
    "    mean,\n",
    ")\n",
    "# 힘 계산 클래스 추가\n",
    "from pyleecan.Classes.ForceMT import ForceMT\n",
    "from pyleecan.Classes.OPdq import OPdq\n",
    "from pyleecan.Classes.Simu1 import Simu1\n",
    "from pyleecan.Classes.MagFEMM import MagFEMM\n",
    "from pyleecan.Classes.InputCurrent import InputCurrent\n",
    "from pyleecan.definitions import DATA_DIR\n",
    "\n",
    "\n",
    "from pyleecan.Functions.load import load\n",
    "from pyleecan.Functions.Plot import dict_2D, dict_3D "
   ]
  },
  {
   "cell_type": "markdown",
   "metadata": {},
   "source": [
    " # [Functions] Define (User)\n",
    "\n",
    "\n"
   ]
  },
  {
   "cell_type": "code",
   "execution_count": 6,
   "metadata": {},
   "outputs": [],
   "source": [
    "def run_simulation_with_variable_Tmag(T_mag_value, output_folder):\n",
    "    # Create T_mag folder\n",
    "    if T_mag_value < 0:\n",
    "        t_mag_folder = os.path.join(output_folder, 'T_magminus{}'.format(abs(T_mag_value)))\n",
    "    else:\n",
    "        t_mag_folder = os.path.join(output_folder, 'T_mag{}'.format(T_mag_value))\n",
    "    os.makedirs(t_mag_folder, exist_ok=True)\n",
    "    \n",
    "    extension = '.mat'\n",
    "\n",
    "    \n",
    "    simu_vopTmag = simu_vop.copy()\n",
    "    simu_vopTmag.mag.T_mag = T_mag_value\n",
    "    Xout_vopTmag = simu_vopTmag.run()\n",
    "\n",
    "    force_r_r0_0fs = []\n",
    "    force_r_r0_6fs = []\n",
    "    force_r_r0_12fs = []\n",
    "    force_r_r24_6fs = []\n",
    "    force_t_r0_0fs = []\n",
    "    force_t_r0_6fs = []\n",
    "    force_t_r0_12fs = []\n",
    "    force_t_r24_6fs = []\n",
    "\n",
    "    Torque_map = []\n",
    "\n",
    "    for i in range(0, len(Xout_vopTmag.output_list)):\n",
    "        Torque_map = np.append(Torque_map, Xout_vopTmag.output_list[i].mag.Tem_av)\n",
    "\n",
    "        filename_prefix = datetime.now().strftime(\"%Y%m%d_%H\")\n",
    "        filename = '{}_Tmag{}op_case{}'.format(filename_prefix, T_mag_value, i)\n",
    "        filepath = os.path.join(t_mag_folder, filename + extension)\n",
    "        Xout_vopTmag.output_list[i].export_to_mat(filepath)\n",
    "\n",
    "        force_r_r0_0fs = np.append(force_r_r0_0fs, Xout_vopTmag.output_list[i].force.AGSF.components['radial'].get_magnitude_along('freqs->elec_order=0', 'wavenumber=0')['AGSF_r'])\n",
    "        force_r_r0_6fs = np.append(force_r_r0_6fs, Xout_vopTmag.output_list[i].force.AGSF.components['radial'].get_magnitude_along('freqs->elec_order=6', 'wavenumber=0')['AGSF_r'])\n",
    "        force_r_r0_12fs = np.append(force_r_r0_12fs, Xout_vopTmag.output_list[i].force.AGSF.components['radial'].get_magnitude_along('freqs->elec_order=12', 'wavenumber=0')['AGSF_r'])\n",
    "        force_r_r24_6fs = np.append(force_r_r24_6fs, Xout_vopTmag.output_list[i].force.AGSF.components['radial'].get_magnitude_along('freqs->elec_order=6', 'wavenumber=24')['AGSF_r'])\n",
    "    \n",
    "        force_t_r0_0fs = np.append(force_t_r0_0fs, Xout_vopTmag.output_list[i].force.AGSF.components['tangential'].get_magnitude_along('freqs->elec_order=0', 'wavenumber=0')['AGSF_t'])\n",
    "        force_t_r0_6fs = np.append(force_t_r0_6fs, Xout_vopTmag.output_list[i].force.AGSF.components['tangential'].get_magnitude_along('freqs->elec_order=6', 'wavenumber=0')['AGSF_t'])\n",
    "        force_t_r0_12fs = np.append(force_t_r0_12fs, Xout_vopTmag.output_list[i].force.AGSF.components['tangential'].get_magnitude_along('freqs->elec_order=12', 'wavenumber=0')['AGSF_t'])\n",
    "        force_t_r24_6fs = np.append(force_t_r24_6fs, Xout_vopTmag.output_list[i].force.AGSF.components['tangential'].get_magnitude_along('freqs->elec_order=6', 'wavenumber=24')['AGSF_t'])\n",
    "\n",
    "        Force2DFFTMap = {\n",
    "            'force_r_r0_0fs': force_r_r0_0fs,\n",
    "            'force_r_r0_6fs': force_r_r0_6fs,\n",
    "            'force_r_r0_12fs': force_r_r0_12fs,\n",
    "            'force_r_r24_6fs': force_r_r24_6fs,\n",
    "            'force_t_r0_0fs': force_t_r0_0fs,\n",
    "            'force_t_r0_6fs': force_t_r0_6fs,\n",
    "            'force_t_r0_12fs': force_t_r0_12fs,\n",
    "            'force_t_r24_6fs': force_t_r24_6fs\n",
    "        }\n",
    "\n",
    "        filename = '{}_Tmag{}Force{}'.format(filename_prefix, T_mag_value, i)\n",
    "        filepath = os.path.join(t_mag_folder, filename + extension)\n",
    "        sio.savemat(filepath, Force2DFFTMap)\n",
    "\n",
    "\n"
   ]
  },
  {
   "cell_type": "markdown",
   "metadata": {},
   "source": [
    " ## Calc Dimension"
   ]
  },
  {
   "cell_type": "markdown",
   "metadata": {},
   "source": [
    " <a id='calcImplicitToothWidthRatio'></a>\n",
    " ### calcImplicitToothWidthRatio"
   ]
  },
  {
   "cell_type": "code",
   "execution_count": 21,
   "metadata": {},
   "outputs": [],
   "source": [
    "def calcImplicitToothWidthRatio(BackIronThickness,i_YtoT,p_Tooth_Tip_Depth,i_Stator_OD,i_Split_Ratio,p_Stator_Slots):\n",
    "    # stator Dimension\n",
    "    Rint = (i_Stator_OD *i_Split_Ratio)/2    \n",
    "    import math\n",
    "    slot_pitch=360/p_Stator_Slots  # [in angle]\n",
    "    slot_pitch_rad  =  math.radians(slot_pitch)\n",
    "    ## Tooth Width Calc\n",
    "    ToothWidth=BackIronThickness/i_YtoT\n",
    "    # Radius\n",
    "    Radius_ToothWidth=Rint+p_Tooth_Tip_Depth-0.05 \n",
    "    # Angle \n",
    "    Angle_Radian_ToothWidth=ToothWidth/Radius_ToothWidth\n",
    "    imp_Tooth_Width_Ratio=Angle_Radian_ToothWidth/slot_pitch_rad\n",
    "\n",
    "    return Rint,slot_pitch,ToothWidth,Angle_Radian_ToothWidth,imp_Tooth_Width_Ratio\n",
    "\n",
    "\n",
    "def calcImplicitToothWidthRatioParalleSlot(BackIronThickness,i_YtoT,p_Tooth_Tip_Depth,i_Stator_OD,i_Split_Ratio,p_Stator_Slots):\n",
    "    # stator Dimension\n",
    "    Rint = (i_Stator_OD *i_Split_Ratio)/2    \n",
    "    import math\n",
    "    slot_pitch=360/p_Stator_Slots  # [in angle]\n",
    "    slot_pitch_rad  =  math.radians(slot_pitch)\n",
    "    ## Tooth Width Calc\n",
    "    ToothWidth=BackIronThickness/i_YtoT\n",
    "    # Radius\n",
    "    Radius_ToothWidth=Rint+p_Tooth_Tip_Depth-0.05 \n",
    "    # Angle \n",
    "    Angle_Radian_ToothWidth=ToothWidth/Radius_ToothWidth\n",
    "    imp_Tooth_Width_Ratio=Angle_Radian_ToothWidth/slot_pitch_rad\n",
    "\n",
    "    return Rint,slot_pitch,ToothWidth,Angle_Radian_ToothWidth,imp_Tooth_Width_Ratio\n",
    "\n",
    "\n",
    "\n"
   ]
  },
  {
   "cell_type": "code",
   "execution_count": 28,
   "metadata": {},
   "outputs": [
    {
     "name": "stdout",
     "output_type": "stream",
     "text": [
      "13.0 77.0 6.0 5.2 0.06753246753246754 0.6448875616191084\n",
      "5.2\n"
     ]
    }
   ],
   "source": [
    "BackIronThickness=calcBackIronThickness(220,0.7,0.6,0.5)\n",
    "Rint,slot_pitch,ToothWidth,Angle_Radian_ToothWidth,imp_Tooth_Width_Ratio=calcImplicitToothWidthRatioParalleSlot(BackIronThickness,2.5,0.2,220,0.7,60)\n",
    "\n",
    "print(BackIronThickness,Rint,slot_pitch,ToothWidth,Angle_Radian_ToothWidth,imp_Tooth_Width_Ratio)\n",
    "print(ToothWidth)"
   ]
  },
  {
   "cell_type": "markdown",
   "metadata": {},
   "source": [
    " <a id='calcBackIronThickness'></a>\n",
    " ### calcBackIronThickness"
   ]
  },
  {
   "cell_type": "code",
   "execution_count": 11,
   "metadata": {},
   "outputs": [],
   "source": [
    "def calcBackIronThickness(i_Stator_OD,i_Split_Ratio,i_Depth_Slot_Ratio,p_MinThicknessBackIron):\n",
    "    Rext=i_Stator_OD/2 \n",
    "    Rint = (i_Stator_OD *i_Split_Ratio)/2\n",
    "    ThicknessStatorRegion=Rext-Rint\n",
    "    BackIronThickness=(1-i_Depth_Slot_Ratio)*(ThicknessStatorRegion-p_MinThicknessBackIron)\n",
    "    return BackIronThickness\n"
   ]
  },
  {
   "cell_type": "markdown",
   "metadata": {},
   "source": [
    " <a id='calcBackIronThickness'></a>\n",
    " ### CalcSlotOpening"
   ]
  },
  {
   "cell_type": "code",
   "execution_count": 12,
   "metadata": {},
   "outputs": [],
   "source": [
    "def plot_arc(radius, start_angle, end_angle):\n",
    "    import numpy as np\n",
    "    theta = np.linspace(start_angle, end_angle, 100)\n",
    "    x = radius * np.cos(theta)\n",
    "    y = radius * np.sin(theta)\n",
    "    # plt.plot(x, y)\n",
    "    # plt.axis('equal')\n",
    "\n",
    "def calculate_arc_length(radius, angle):\n",
    "    return radius * angle\n",
    "\n",
    "def calculate_distance(radius, angle):\n",
    "    import numpy as np\n",
    "    return 2 * radius * np.sin(angle / 2)\n",
    "\n",
    "def CalcSlotOpening(Rint,p_Tooth_Tip_Depth,slot_pitch,Angle_Radian_ToothWidth):\n",
    "    import numpy as np\n",
    "    # Example usage\n",
    "    radius = Rint+p_Tooth_Tip_Depth\n",
    "    start_angle = 0\n",
    "    # end_angle = 2.5* np.pi / 180\n",
    "    end_angle=(slot_pitch*np.pi/180-Angle_Radian_ToothWidth)\n",
    "    plot_arc(radius, start_angle, end_angle)\n",
    "\n",
    "    arc_length = calculate_arc_length(radius, end_angle - start_angle)\n",
    "    distance = calculate_distance(radius, end_angle - start_angle)\n",
    "    # # Calculate the coordinates of the two points on the arc\n",
    "    # x_start = radius * np.cos(start_angle)\n",
    "    # y_start = radius * np.sin(start_angle)\n",
    "    # x_end = radius * np.cos(end_angle)\n",
    "    # y_end = radius * np.sin(end_angle)\n",
    "    # # Plot a straight line representing the distance\n",
    "    # plt.plot([x_start, x_end], [y_start, y_end], 'r--')\n",
    "    # plt.show()\n",
    "    return distance\n",
    "\n",
    "\n"
   ]
  },
  {
   "cell_type": "markdown",
   "metadata": {},
   "source": [
    " <a id='fun_YtoT'></a>\n",
    " ### [Not In Use] fun_YtoT"
   ]
  },
  {
   "cell_type": "code",
   "execution_count": null,
   "metadata": {},
   "outputs": [],
   "source": [
    "\n",
    "### Geometry\n",
    "\n",
    "# def fun_YtoT(i_YtoT, i_Tooth_Width):\n",
    "#     res = i_Tooth_Width*i_YtoT\n",
    "#     return res\n",
    "\n"
   ]
  },
  {
   "cell_type": "markdown",
   "metadata": {},
   "source": [
    " ## Calc input"
   ]
  },
  {
   "cell_type": "markdown",
   "metadata": {},
   "source": [
    " <a id='fun_MaxTorque'></a>\n",
    " ### fun_MaxTorque"
   ]
  },
  {
   "cell_type": "code",
   "execution_count": null,
   "metadata": {},
   "outputs": [],
   "source": [
    "def fun_MaxTorque(motdata,p_Speed_Peak_Array,i_lineCurrentLabpk,i_TurnLab):\n",
    "    mot_file_dir=motdata[0]\n",
    "    Mat_File_Name=motdata[1]\n",
    "    \n",
    "    mcApp.CalculateMagnetic_Lab()                                 # Run calculation\n",
    "    mcApp.SetVariable(\"LabThermalCoupling\", 0)                    # Coupling with Thermal\n",
    "    Mat_File_Path     = join(mot_file_dir, 'Lab', Mat_File_Name)  # Point to the *.mat file\n",
    "    Mat_File_Data     = loadmat(Mat_File_Path)                    # Load data from the *.mat file\n",
    "    Mat_File_Speed    = Mat_File_Data['Speed']                    # Load speed data\n",
    "    Mat_File_Torque   = Mat_File_Data['Shaft_Torque']             # Load shaft torque data    \n",
    "    Mat_File_Power    = Mat_File_Data['Shaft_Power']              # Load shaft power data\n",
    "    Mat_File_Torque   = Mat_File_Torque.flatten()                 # Necessary to be read by list_2_list_variant()\n",
    "    Mat_File_Power    = Mat_File_Power.flatten()  \n",
    "    Mat_File_Speed    = Mat_File_Speed.flatten()\n",
    "  # Extract specific values\n",
    "    Peak_Power_Array = np.zeros(len(p_Speed_Peak_Array))   # Peak power array initialisation\n",
    "    Peak_Torque_Array = np.zeros(len(p_Speed_Peak_Array))  # Peak power array initialisation\n",
    "    for i in range(len(p_Speed_Peak_Array)):\n",
    "        Ind_Speed = (np.abs(Mat_File_Speed - p_Speed_Peak_Array[i])).argmin()   # Index corresponding to the required speed\n",
    "        Peak_Power_Array[i]  = Mat_File_Power[Ind_Speed]                        # Peak power at the required speed \n",
    "        Peak_Torque_Array[i] = Mat_File_Torque[Ind_Speed]                       # Peak torque at the required speed \n",
    "    o_Peak_Torque_1700rpm    = Peak_Torque_Array[0]      # In [Nm] \n",
    "    # o_Peak_Power_4krpm      = Peak_Power_Array[1]       # In [kW]    \n",
    "    return o_Peak_Torque_1700rpm\n",
    "\n"
   ]
  },
  {
   "cell_type": "markdown",
   "metadata": {},
   "source": [
    " <a id='fun_Find_Ipk_4Trq65C_mk_dat'></a>\n",
    " ### fun_Find_Ipk_4Trq65C_mk_dat"
   ]
  },
  {
   "cell_type": "code",
   "execution_count": null,
   "metadata": {},
   "outputs": [],
   "source": [
    "def fun_Find_Ipk_4Trq65C_mk_dat(ext_Duty_Cycle,i_TurnLab):\n",
    "    mcApp.SetVariable('TurnsCalc_MotorLAB', i_TurnLab)                 # Turns per coil\n",
    "    mcApp.SetVariable(\"LabThermalCoupling\", 0)                         # Coupling with Thermal\n",
    "    mcApp.SetVariable(\"OpPointSpec_MotorLAB\", 0)                       # 0- Torque 4-Max temperature definition\n",
    "    mcApp.SetVariable(\"SpeedDemand_MotorLAB\", ext_Duty_Cycle[1])                       # 0- Torque 4-Max temperature definition\n",
    "    mcApp.SetVariable(\"TorqueDemand_MotorLAB\", ext_Duty_Cycle[2])                       # 0- Torque 4-Max temperature definition  \n",
    "    mcApp.CalculateOperatingPoint_Lab()                             # Operating point calculation\n",
    "    ex, LabOpPoint_ShaftTorque = mcApp.GetVariable(\"LabOpPoint_ShaftTorque\")    # Get shaft torque value\n",
    "    ex, ipk = mcApp.GetVariable(\"LabOpPoint_StatorCurrent_Line_Peak\")    # Get ipk\n",
    "    ex, beta = mcApp.GetVariable(\"LabOpPoint_PhaseAdvance\")    # Get beta\n",
    "    before,after =fun_Save_Duty_Cycle_Change_I(ext_Duty_Cycle,ipk)     \n",
    "\n",
    "    # Get peak Current check value\n",
    "    mcApp.ShowMagneticContext()          \n",
    "    mcApp.SetVariable('PeakCurrent',ipk)\n",
    "    ex, ipk_check = mcApp.GetVariable(\"PeakCurrent\")    \n",
    "    #  # Get rms current density of OP1 value\n",
    "    # if ipk_check == ipk:\n",
    "    #     ex, o_current_densityRMS = mcApp.GetVariable(\"RMSCurrentDensity\")\n",
    "    o_current_densityRMS,o_copper_area = fun_current_density_cal(ipk_check,i_TurnLab)\n",
    "    \n",
    "    return ipk, beta, LabOpPoint_ShaftTorque, after, o_current_densityRMS,o_copper_area\n",
    "\n"
   ]
  },
  {
   "cell_type": "markdown",
   "metadata": {},
   "source": [
    " <a id='fun_Save_Duty_Cycle_Change_I'></a>\n",
    " ### fun_Save_Duty_Cycle_Change_I\n"
   ]
  },
  {
   "cell_type": "code",
   "execution_count": null,
   "metadata": {},
   "outputs": [],
   "source": [
    "def fun_Save_Duty_Cycle_Change_I(ext_Duty_Cycle,Ipk):\n",
    "    ## Load reference Duty Cycle with ext_Duty_Cycle_name\n",
    "    ref_Duty_Cycle=join(dirname(dirname(OSL_PROJECT_DIR)), 'DutyCycleData',ext_Duty_Cycle[0])+'.dat'\n",
    "    mcApp.loadDutyCycle(ref_Duty_Cycle)\n",
    "\n",
    "    ## change current\n",
    "    ex, Duty_Cycle_Num=mcApp.GetVariable('Duty_Cycle_Num_Periods')\n",
    "    ex, Duty_Cycle_Current_before=mcApp.GetVariable('Duty_Cycle_Current_Start')\n",
    "    for i in range(0,Duty_Cycle_Num):   \n",
    "        mcApp.SetArrayVariable('Duty_Cycle_Current_Start',i,Ipk/sqrt(2))\n",
    "    ex, Duty_Cycle_Current_After=mcApp.GetVariable('Duty_Cycle_Current_Start')\n",
    "    \n",
    "    ## Save Duty Cycle current\n",
    "    if not exists(join(mot_file_dir,'DutyCycleData')):\n",
    "        os.mkdir(join(mot_file_dir,'DutyCycleData'))    \n",
    "    ext_Duty_Cycle_new=join(mot_file_dir,'DutyCycleData',ext_Duty_Cycle[0])+'_new.dat'\n",
    "    mcApp.SaveDutyCycle(ext_Duty_Cycle_new)\n",
    "    return Duty_Cycle_Current_before,Duty_Cycle_Current_After\n",
    "\n"
   ]
  },
  {
   "cell_type": "markdown",
   "metadata": {},
   "source": [
    " <a id='fun_Calc_Temp_ext_duty_rename'></a>\n",
    " ### fun_Calc_Temp_ext_duty_rename"
   ]
  },
  {
   "cell_type": "code",
   "execution_count": null,
   "metadata": {},
   "outputs": [],
   "source": [
    "\n",
    "# Calculate Temp Rise with duty cycle\n",
    "def fun_Calc_Temp_ext_duty_rename(ext_Duty_Cycle,i_TurnLab,Thermal_CouplingType):\n",
    "    ext_Duty_Cycle_new=join(mot_file_dir,'DutyCycleData',ext_Duty_Cycle[0])+'_new.dat'\n",
    "    mcApp.LoadDutyCycle(ext_Duty_Cycle_new)\n",
    "    mcApp.SetVariable('TurnsCalc_MotorLAB', i_TurnLab)            # Turns per coil\n",
    "    mcApp.SetVariable(\"LabThermalCoupling_DutyCycle\", Thermal_CouplingType)                         # Coupling with Thermal\n",
    "    mcApp.SetVariable(\"LabThermalCoupling\", Thermal_CouplingType)                         # Coupling with Thermal\n",
    "    mcApp.SetVariable('InitialTransientTemperatureOption',3)\n",
    "    mcApp.CalculateDutyCycle_Lab()\n",
    "    fun_Rename_Matfile_Lab_Duty(ext_Duty_Cycle)      \n",
    "\n"
   ]
  },
  {
   "cell_type": "markdown",
   "metadata": {},
   "source": [
    " <a id='fun_Rename_Matfile_Lab_Duty'></a>\n",
    " ### fun_Rename_Matfile_Lab_Duty\n"
   ]
  },
  {
   "cell_type": "code",
   "execution_count": null,
   "metadata": {},
   "outputs": [],
   "source": [
    "   \n",
    "def fun_Rename_Matfile_Lab_Duty(ext_Duty_Cycle):\n",
    "    ex, motpath=mcApp.GetVariable(\"CurrentMotFilePath_MotorLAB\")\n",
    "    motpath=re.sub(\".mot\",\"\",motpath)\n",
    "    Lab_path=motpath+'/Lab/'\n",
    "    os.chdir(Lab_path)\n",
    "    rename_matfile=ext_Duty_Cycle[0]+'_lab_result.mat'\n",
    "    if os.path.exists('MotorLAB_drivecycledata.mat'):\n",
    "        os.rename('MotorLAB_drivecycledata.mat',rename_matfile)\n",
    "      \n",
    "\n"
   ]
  },
  {
   "cell_type": "markdown",
   "metadata": {},
   "source": [
    " <a id='fun_load_matfile_by_OP'></a>\n",
    " ### fun_load_matfile_by_OP"
   ]
  },
  {
   "cell_type": "code",
   "execution_count": null,
   "metadata": {},
   "outputs": [],
   "source": [
    "   \n",
    "# Check Temp Rise with duty cycle\n",
    "def fun_load_matfile_by_OP(ext_Duty_Cycle):\n",
    "        ## This mat file consisted of Ndarray when we are using loadmat function\n",
    "    ex, motpath=mcApp.GetVariable(\"CurrentMotFilePath_MotorLAB\")\n",
    "    motpath=re.sub(\".mot\",\"\",motpath)\n",
    "    Lab_path=motpath+'/Lab/'\n",
    "    os.chdir(Lab_path)\n",
    "    name_matfile=ext_Duty_Cycle[0]+'_lab_result.mat'\n",
    "    Mat_File_Data=loadmat(name_matfile)\n",
    "    return Mat_File_Data\n",
    "## last function for Duty Cycle check\n",
    "\n"
   ]
  },
  {
   "cell_type": "markdown",
   "metadata": {},
   "source": [
    " <a id='fun_Check_Temp_Rise_allComponent'></a>\n",
    " ### fun_Check_Temp_Rise_allComponent"
   ]
  },
  {
   "cell_type": "code",
   "execution_count": null,
   "metadata": {},
   "outputs": [],
   "source": [
    "def fun_Check_Temp_Rise_allComponent(ext_Duty_Cycle):\n",
    "    ## init\n",
    "    init_final_temp=[]\n",
    "    # ## change name of mat file\n",
    "    # fun_rename_matfile_lab_duty(ext_Duty_Cycle)\n",
    "    ## load mat file\n",
    "    list_from_mat=fun_load_matfile_by_OP(ext_Duty_Cycle)\n",
    "    \n",
    "    ## \n",
    "    mat_temp=[list_from_mat.get(key) for key in list_from_mat.keys() if 'Temp' in key]\n",
    "    mat_temp_key=[key for key in list_from_mat.keys() if 'Temp' in key]\n",
    "\n",
    "    ## check temp rise\n",
    "    for i in range(len(mat_temp)):\n",
    "        temp=mat_temp[i].ravel().tolist()\n",
    "        init_final_temp.append((temp[0],temp[-1]))\n",
    "        check_temp=max(max(init_final_temp))\n",
    "    \n",
    "    ## \n",
    "    max_temp_key=[key for key in mat_temp_key if max(list_from_mat.get(key))==check_temp]\n",
    "    dic_init_final_temp=dict(zip(mat_temp_key,init_final_temp))\n",
    "    \n",
    "    return check_temp,max_temp_key, dic_init_final_temp\n",
    "\n"
   ]
  },
  {
   "cell_type": "markdown",
   "metadata": {},
   "source": [
    " <a id='fun_OP_temp_contraints'></a>\n",
    " ### fun_OP_temp_contraints"
   ]
  },
  {
   "cell_type": "code",
   "execution_count": null,
   "metadata": {},
   "outputs": [],
   "source": [
    "\n",
    "# set value for contrainsts\n",
    "def fun_OP_temp_contraints(ext_Duty_Cycle,i_TurnLab,Thermal_CouplingType):\n",
    "    Op_i,OP_beta,Op_LabOpPoint_ShaftTorque,Op_after,current_density,o_copper_area =fun_Find_Ipk_4Trq65C_mk_dat(ext_Duty_Cycle,i_TurnLab)\n",
    "    fun_Calc_Temp_ext_duty_rename(ext_Duty_Cycle,i_TurnLab,Thermal_CouplingType)\n",
    "    o_OP_max_temp,max_pos,temp_dic=fun_Check_Temp_Rise_allComponent(ext_Duty_Cycle)\n",
    "    return o_OP_max_temp,max_pos,temp_dic, Op_i,OP_beta,Op_after,Op_LabOpPoint_ShaftTorque,current_density,o_copper_area\n",
    "\n"
   ]
  },
  {
   "cell_type": "markdown",
   "metadata": {},
   "source": [
    " <a id='fun_Driving_Duty'></a>\n",
    " ### fun_Driving_Duty Set Initial Temp"
   ]
  },
  {
   "cell_type": "code",
   "execution_count": null,
   "metadata": {},
   "outputs": [],
   "source": [
    "\n",
    "def fun_Driving_Duty(ext_Duty_Cycle,turns):\n",
    "    ref_Duty_Cycle=join(dirname(dirname(OSL_PROJECT_DIR)), 'DutyCycleData',ext_Duty_Cycle[0])+'.dat'\n",
    "    mcApp.LoadDutyCycle(ref_Duty_Cycle)\n",
    "    mcApp.SetVariable('TurnsCalc_MotorLAB', turns)            # Turns per coil\n",
    "    mcApp.SetVariable(\"LabThermalCoupling_DutyCycle\", 0)                         # Coupling with Thermal Duty Cycle\n",
    "    mcApp.SetVariable(\"LabThermalCoupling\", 0)                         # Coupling with Thermal\n",
    "    mcApp.SetVariable('InitialTransientTemperatureOption',4)\n",
    "    mcApp.SetVariable('InitialHousingTemperature',65)\n",
    "    mcApp.SetVariable('InitialHousingTemperature',65)\n",
    "    mcApp.SetVariable('InitialStatorTemperature',140)\n",
    "    mcApp.SetVariable('InitialWindingTemperature',160)\n",
    "    mcApp.SetVariable('InitialRotorTemperature',100)\n",
    "    mcApp.SetVariable('InitialMagnetTemperature',130)\n",
    "    mcApp.CalculateDutyCycle_Lab()\n",
    "    # Calculation & Post processing\n",
    "    #ex, o_WLTP3_Eff = mcApp.GetVariable(\"DutyCycleAverageEfficiency_EnergyUse\")   # Get efficiency value \n",
    "    ex, o_Wh_Loss = mcApp.GetVariable(\"DutyCycleTotalLoss\")   # Get efficiency value \n",
    "    ex, o_Wh_Shaft = mcApp.GetVariable(\"DutyCycleTotalEnergy_Shaft_Output\")   # Get efficiency value \n",
    "    ex, o_Wh_input = mcApp.GetVariable(\"DutyCycleTotalEnergy_Electrical_Input\")   # Get efficiency value \n",
    "    # o_max_temp,max_pos,temp_dic=fun_Check_Temp_Rise_allComponent(ext_Duty_Cycle)\n",
    "    return o_Wh_Loss,o_Wh_Shaft,o_Wh_input\n",
    "\n"
   ]
  },
  {
   "cell_type": "markdown",
   "metadata": {},
   "source": [
    " ## Calc output"
   ]
  },
  {
   "cell_type": "markdown",
   "metadata": {},
   "source": [
    " <a id='fun_output_define'></a>\n",
    " ### fun_output_define\n"
   ]
  },
  {
   "cell_type": "code",
   "execution_count": null,
   "metadata": {},
   "outputs": [],
   "source": [
    "\n",
    "## \n",
    "def fun_output_define():\n",
    "    o_LabCurrentJ=0\n",
    "    # OP point check\n",
    "    o_Op1_Jrms =0\n",
    "    o_Op2_Jrms =0\n",
    "    o_Op3_Jrms =0\n",
    "    o_Op1_ipk               =0\n",
    "    o_Op2_ipk               =0\n",
    "    o_Op3_ipk               =0\n",
    "    o_Op1_ShaftToruqe       =0\n",
    "    o_Op2_ShaftToruqe       =0\n",
    "    o_Op3_ShaftToruqe       =0\n",
    "    # Temp rise test (Duty Cycle)\n",
    "    o_Op2_max_temp          =0\n",
    "    # o_OP3_max_temp          =0\n",
    "    # Driving Duty Cycle\n",
    "    o_Wh_Loss           =0\n",
    "    o_Wh_Shaft          =0\n",
    "    o_Wh_input          =0\n",
    "    # Torque density \n",
    "    o_Maxtorque=0\n",
    "    o_TorqueVolumeDensity =0\n",
    "    o_TorqueWeightDensity =0\n",
    "    o_Op2_copper_area   =0\n",
    "    o_Op1_copper_area   =0\n",
    "    o_Op3_copper_area   =0\n",
    "    # Weight\n",
    "    o_Weight_Act         = 0.\n",
    "    o_Weight_Mag         = 0.\n",
    "    o_Weight_Rot_Core    = 0.\n",
    "    o_Weight_Stat_Core   = 0.\n",
    "    o_Weight_Wdg         = 0.\n",
    "    \n",
    "    outputList=['o_LabCurrentJ',o_LabCurrentJ]\n",
    "    outputList.extend(['o_Op1_Jrms',o_Op1_Jrms])\n",
    "    outputList.extend(['o_Op2_Jrms',o_Op2_Jrms])\n",
    "    outputList.extend(['o_Op3_Jrms',o_Op3_Jrms])\n",
    "    outputList.extend(['o_Op1_ipk',o_Op1_ipk])\n",
    "    outputList.extend(['o_Op2_ipk',o_Op2_ipk])\n",
    "    outputList.extend(['o_Op3_ipk',o_Op3_ipk])\n",
    "    outputList.extend(['o_Op1_ShaftToruqe',o_Op1_ShaftToruqe])\n",
    "    outputList.extend(['o_Op2_ShaftToruqe',o_Op2_ShaftToruqe])\n",
    "    outputList.extend(['o_Op3_ShaftToruqe',o_Op3_ShaftToruqe])\n",
    "    outputList.extend(['o_Op2_max_temp',o_Op2_max_temp])\n",
    "    # outputList.extend(['o_OP3_max_temp',o_OP3_max_temp])\n",
    "    outputList.extend(['o_Wh_Loss',o_Wh_Loss])\n",
    "    outputList.extend(['o_Wh_Shaft',o_Wh_Shaft])\n",
    "    outputList.extend(['o_Wh_input',o_Wh_input])\n",
    "    outputList.extend(['o_Maxtorque',o_Maxtorque])\n",
    "    outputList.extend(['o_TorqueVolumeDensity',o_TorqueVolumeDensity])\n",
    "    outputList.extend(['o_TorqueWeightDensity',o_TorqueWeightDensity])\n",
    "    outputList.extend(['o_Op2_copper_area',o_Op2_copper_area])\n",
    "    outputList.extend(['o_Op1_copper_area',o_Op1_copper_area])\n",
    "    outputList.extend(['o_Op3_copper_area',o_Op3_copper_area])\n",
    "    outputList.extend(['o_Weight_Act',o_Weight_Act])\n",
    "    outputList.extend(['o_Weight_Mag',o_Weight_Mag])\n",
    "    outputList.extend(['o_Weight_Rot_Core',o_Weight_Rot_Core])\n",
    "    outputList.extend(['o_Weight_Stat_Core',o_Weight_Stat_Core])\n",
    "    outputList.extend(['o_Weight_Wdg',o_Weight_Wdg])\n",
    "    return outputList\n",
    "        #return o_Maxtorque,o_TorqueVolumeDensity,o_TorqueWeightDensity,o_OP3_max_temp,o_LabCurrentJ,o_Op1_Jrms,o_Op2_Jrms,o_Op3_Jrms,o_Op1_ipk,o_Op2_ipk,o_Op3_ipk,o_Op1_ShaftToruqe,o_Op2_ShaftToruqe,o_Op3_ShaftToruqe,o_Wh_Loss,o_Wh_Shaft,o_Wh_input,o_Op2_max_temp,o_Torque_Density,o_Weight_Act,o_Weight_Mag,o_Weight_Rot_Core,o_Weight_Stat_Core,o_Weight_Wdg,o_Active_Volume,o_Op1_copper_area,o_Op2_copper_area,o_Op3_copper_area\n",
    "\n"
   ]
  },
  {
   "cell_type": "markdown",
   "metadata": {},
   "source": [
    " <a id='fun_current_density_cal'></a>\n",
    " ### fun_current_density_cal"
   ]
  },
  {
   "cell_type": "code",
   "execution_count": null,
   "metadata": {},
   "outputs": [],
   "source": [
    "\n",
    "## Simple Calculation\n",
    "def fun_current_density_cal(ipk_check,turns):\n",
    "    ex, o_copper_area = mcApp.GetVariable('Copper_Area')    \n",
    "    ex,p_Parallel_Path=mcApp.GetVariable('ParallelPaths')\n",
    "    o_current_densityRMS = (ipk_check/sqrt(2))* turns / p_Parallel_Path /o_copper_area\n",
    "    return  o_current_densityRMS,o_copper_area\n",
    "\n"
   ]
  },
  {
   "cell_type": "markdown",
   "metadata": {},
   "source": [
    " <a id='fun_Turn_byAmpT'></a>\n",
    " ### [Not Used]fun_Turn_byAmpT"
   ]
  },
  {
   "cell_type": "code",
   "execution_count": null,
   "metadata": {},
   "outputs": [],
   "source": [
    "\n",
    "# def fun_Turn_byAmpT(i_AmpT,i_BuildLineCurrentRMS):\n",
    "#     res = i_AmpT/i_BuildLineCurrentRMS\n",
    "#     return res\n",
    "\n"
   ]
  },
  {
   "cell_type": "markdown",
   "metadata": {},
   "source": [
    " <a id='fun_Ipk_beta_by_Trq'></a>\n",
    " ### fun_Ipk_beta_by_Trq\n"
   ]
  },
  {
   "cell_type": "code",
   "execution_count": null,
   "metadata": {},
   "outputs": [],
   "source": [
    "\n",
    "def fun_Ipk_beta_by_Trq():\n",
    "    ex, ipk = mcApp.GetVariable(\"LabOpPoint_StatorCurrent_Line_Peak\")    # Get shaft torque value\n",
    "    ex, beta = mcApp.GetVariable(\"LabOpPoint_PhaseAdvance\")    # Get shaft torque value\n",
    "    return ipk, beta\n",
    "\n"
   ]
  },
  {
   "cell_type": "markdown",
   "metadata": {},
   "source": [
    " <a id='fun_scail_J_by_Turn'></a>\n",
    " ### fun_scail_J_by_Turn\n"
   ]
  },
  {
   "cell_type": "code",
   "execution_count": null,
   "metadata": {},
   "outputs": [],
   "source": [
    "\n",
    "def fun_scail_J_by_Turn(op_current_densityRMS,p_init_Turns_Coil,turns):\n",
    "    # o_op_J = op_current_density*turns/p_init_Turns_Coil #false\n",
    "    o_op_J = op_current_densityRMS\n",
    "    return o_op_J\n",
    "\n"
   ]
  },
  {
   "cell_type": "markdown",
   "metadata": {},
   "source": [
    " <a id='fun_Machine_Length'></a>\n",
    " ### fun_Machine_Length"
   ]
  },
  {
   "cell_type": "code",
   "execution_count": null,
   "metadata": {},
   "outputs": [],
   "source": [
    "\n",
    "# Machine length\n",
    "def fun_Machine_Length(p_EndSpace_Height,p_Wdg_Overhang_F, p_Wdg_Overhang_R, i_Active_Length):\n",
    "    res = i_Active_Length + 2*(p_EndSpace_Height) + p_Wdg_Overhang_F+p_Wdg_Overhang_R\n",
    "    return res\n",
    "\n"
   ]
  },
  {
   "cell_type": "markdown",
   "metadata": {},
   "source": [
    " <a id='fun_Active_Volume'></a>\n",
    " ### fun_Active_Volume"
   ]
  },
  {
   "cell_type": "code",
   "execution_count": null,
   "metadata": {},
   "outputs": [],
   "source": [
    "## Active volume\n",
    "def fun_Active_Volume(Stator_OD, Active_Length):  \n",
    "    res = pi*Stator_OD**2/4*Active_Length*1e-9\n",
    "    return res\n",
    "\n"
   ]
  },
  {
   "cell_type": "markdown",
   "metadata": {},
   "source": [
    " <a id='fun_TorqueVolumeDensity'></a>\n",
    " ### fun_TorqueVolumeDensity"
   ]
  },
  {
   "cell_type": "code",
   "execution_count": null,
   "metadata": {},
   "outputs": [],
   "source": [
    "\n",
    "### Performances\n",
    "# Torque density\n",
    "def fun_TorqueVolumeDensity(Torque, Volume):           \n",
    "    res = Torque/Volume*1e-3\n",
    "    return res\n",
    "\n"
   ]
  },
  {
   "cell_type": "markdown",
   "metadata": {},
   "source": [
    " <a id='fun_TorqueWeightDensity'></a>\n",
    " ### fun_TorqueWeightDensity"
   ]
  },
  {
   "cell_type": "code",
   "execution_count": null,
   "metadata": {},
   "outputs": [],
   "source": [
    "def fun_TorqueWeightDensity(Torque, weight):           \n",
    "    res = Torque/weight*1e-3\n",
    "    return res\n",
    "\n"
   ]
  },
  {
   "cell_type": "markdown",
   "metadata": {},
   "source": [
    " <a id='fun_Stress_Safety'></a>\n",
    " ### fun_Stress_Safety"
   ]
  },
  {
   "cell_type": "code",
   "execution_count": null,
   "metadata": {},
   "outputs": [],
   "source": [
    "\n",
    " # Stress safety factor\n",
    "def fun_Stress_Safety(Rotor_Yield, Stress_Max):            \n",
    "    res = Rotor_Yield/Stress_Max\n",
    "    return res\n",
    "\n"
   ]
  },
  {
   "cell_type": "markdown",
   "metadata": {},
   "source": [
    " <a id='funCalcEMFFundLab'></a>\n",
    " ### funCalcEMFFundLab"
   ]
  },
  {
   "cell_type": "code",
   "execution_count": null,
   "metadata": {},
   "outputs": [],
   "source": [
    "def funCalcEMFFundLab(SpeedBEMF,scaleCoeff):        \n",
    "    ex, NoloadPsiD=mcApp.GetArrayVariable ('PsiDModel_Lab',0) # [Vs] Unit  \n",
    "    ex, NoloadPsiQ=mcApp.GetArrayVariable ('PsiQModel_Lab',0) # [Vs] Unit  \n",
    "\n",
    "    ex, p=mcApp.GetVariable('Pole_Number')\n",
    "    Wr_test = 2 * pi * SpeedBEMF / 60 *p / 2;  \n",
    "    emfD=Wr_test*NoloadPsiD\n",
    "    emfQ=Wr_test*NoloadPsiQ\n",
    "    phaseEmfFund=sqrt(emfD**2+emfQ**2)\n",
    "    LineEmfFund=phaseEmfFund*sqrt(3)\n",
    "    LineEmfFund=scaleCoeff*LineEmfFund\n",
    "    return LineEmfFund\n",
    "\n"
   ]
  },
  {
   "cell_type": "markdown",
   "metadata": {},
   "source": [
    " # [Start Code] Running Mode & Working directories"
   ]
  },
  {
   "cell_type": "markdown",
   "metadata": {},
   "source": [
    " ## Mode detection"
   ]
  },
  {
   "cell_type": "code",
   "execution_count": null,
   "metadata": {},
   "outputs": [],
   "source": [
    "if 'OSL_PROJECT_DIR' in locals():                       # Working in optiSLang \n",
    "    within_OSL = True\n",
    "else:\n",
    "    within_OSL = False                                  # Working in IDE console \n",
    "    OSL_REGULAR_EXECUTION = False\n",
    "    OSL_DESIGN_NAME = 'Design0001'   \n",
    "    OSL_DESIGN_NO   = 1.0    \n",
    "\n",
    "if within_OSL:                                          # Working in optiSLang\n",
    "    if OSL_REGULAR_EXECUTION:\n",
    "        run_mode = 'OSL_run'                            # OSL-runtime mode\n",
    "    else:\n",
    "        run_mode = 'OSL_setup'                          # OSL-setup mode\n",
    "    from pyvariant import list_list_2_variant_signal\n",
    "    \n",
    "else:                                                   # Working in IDE\n",
    "    run_mode = 'IDE_run'                                # IDE-run mode\n",
    "\n",
    "# Directories\n",
    "if run_mode.startswith('OSL'):                                 # Working in optiSLang \n",
    "    print('[INFO] Running in OSL environment')\n",
    "    wdir = OSL_DESIGN_DIR\n",
    "    refdir = join(dirname(dirname(OSL_PROJECT_DIR)), 'Pylee')\n",
    "    print('[INFO] Working directory: ', wdir)\n",
    "    print('[INFO] Reference Pylee directory: ', refdir)\n",
    "else:                                                          # Working in IDE console\n",
    "    print('[INFO] Running in IDE console')\n",
    "    refdir = join(dirname(dirname(__file__)), 'Pylee')\n",
    "    wdir = join(getcwd(), 'test_run')\n",
    "    if not exists(wdir):\n",
    "        os.mkdir(wdir)\n",
    "    print('[INFO] Working directory: ', wdir)\n",
    "    print('[INFO] Reference Pylee directory: ', refdir)\n",
    "\n",
    "\n"
   ]
  },
  {
   "cell_type": "markdown",
   "metadata": {},
   "source": [
    " # Input"
   ]
  },
  {
   "cell_type": "markdown",
   "metadata": {},
   "source": [
    " ## Common Input (You can Modifiy the Cells with User written)"
   ]
  },
  {
   "cell_type": "code",
   "execution_count": 4,
   "metadata": {},
   "outputs": [],
   "source": [
    "Visible_Opt     = 1.           # Set Motor-CAD visible\n",
    "Message_Display = 2.           # Display all pop-up messages \n",
    "Save_Prompt     = 1.           # Never prompt to save file\n"
   ]
  },
  {
   "cell_type": "markdown",
   "metadata": {},
   "source": [
    " ### Motor-CAD options (User)"
   ]
  },
  {
   "cell_type": "code",
   "execution_count": null,
   "metadata": {},
   "outputs": [],
   "source": [
    "Design_Name     = \"HDEV_Model2\"   # Reference Motor-CAD design\n",
    "### Geometry\n",
    "p_Pole_Pair            = 6.    # Number of rotor poles\n",
    "p_Stator_Slots         = 72.   # Number of stator slots\n",
    "\n"
   ]
  },
  {
   "cell_type": "markdown",
   "metadata": {},
   "source": [
    " #### [TBC] Fixed(TBC PreDefined) Variable (Read initial Value From MOT File)"
   ]
  },
  {
   "cell_type": "code",
   "execution_count": null,
   "metadata": {},
   "outputs": [],
   "source": [
    "### Stator\n",
    "# ### Absoulute Input (left table)\n",
    "i_Slot_Corner_Radius    = 1.4     \n",
    "#i_Tooth_Width  = 6     \n",
    "p_Tooth_Tip_Depth       = 1    # Tooth tip depth \n",
    "p_Tooth_Tip_Angle       = 20   # Tooth tip angle \n",
    "#### Ratio(Stator w Hierachy)\n",
    "p_MinThicknessBackIron = 0.1\n",
    "# p_Slot_Depth_Ratio      =   1   \n",
    "\n",
    "# ### Rotor \n",
    "# #### Absoulute Input (left table)\n",
    "#     # Notch_Depth=0 \n",
    "# Magnet_Layers=2 \n",
    "# #### Ratio  (Rotor w Hierachy)\n",
    "p_Airgap_Mecha         = 1.    # Mechanical airgap\n",
    "# p_Mag_Clear            = 0   # Magnet clearance\n",
    "\n",
    "### other\n",
    "p_EndSpace_Height      = 24.5   # Space between winding ends and caps\n",
    "p_Wdg_Overhang_F         = 56.   # Winding overhang height\n",
    "p_Wdg_Overhang_R        = 65.   # Winding overhang height\n",
    "\n",
    "### Winding\n",
    "p_Coils_Slot    = 1.    # Number of coils going through each slot\n",
    "p_Parallel_Path = 4.    # Number of parallel paths per phase\n",
    "p_Slot_Fill     = 0.5325   # Copper slot fill factor\n",
    "p_init_Turns_Coil =11.   # Initial number of turns per coil\n",
    "\n",
    "# ### Materials\n",
    "p_Yield_Rotor  = 460.   # Rotor core yield strength\n",
    "p_Temp_Wdg_Max = 180.   # Maximum winding temperature\n",
    "p_Temp_Mag_Max = 140.   # Maximum magnet temperature\n",
    "\n",
    "### Performance\n",
    "p_Speed_Max        = 6000.   # Maximum operating speed\n",
    "\n"
   ]
  },
  {
   "cell_type": "markdown",
   "metadata": {},
   "source": [
    " ### Calculation Option (User)"
   ]
  },
  {
   "cell_type": "code",
   "execution_count": null,
   "metadata": {},
   "outputs": [],
   "source": [
    "p_Speed_Lab_Step    = 100.                              # Speed step used in Lab\n",
    "p_Speed_Peak_Array  = np.array([1700.])    # Speeds for peak performance calculation \n",
    "p_Speed_Cont_Array  = np.array([1700., 4000.])          # Speeds for continuous performance calculation\n",
    "p_Torque_Pts        = 90                                # Timesteps per cycle for torque calculation   \n",
    "                                           \n",
    "### Post-processing\n",
    "Pic_Export = 1      # Export geometry snapshots (0: No  1: Yes)\n",
    "\n",
    "### Dependent parameters\n",
    "Speed_Max_Rad = pi*p_Speed_Max/30                                               # Maximum speed in radians\n",
    "Speed_Lab     = np.arange(0, p_Speed_Max + p_Speed_Lab_Step, p_Speed_Lab_Step)  # Speed vector in Lab\n",
    "Speed_Lab     = Speed_Lab.tolist()                                              # Required for signal generation\n",
    "Speed_Lab_Len = len(Speed_Lab)                                                  # Required for signal generation\n",
    "\n",
    "#calc option\n",
    "OP2thermalCouplingType=2 # 0: no thermal coupling 1: Loss-> Thermal # closed coupled\n",
    "OP3thermalCouplingType=1 # 0: no thermal coupling 1: Loss-> Thermal # closed coupled\n",
    "\n",
    "ModelType_MotorLAB     =2             # Saturation model type: 0 Fixed Inductance 1: singel step 2: Full Cycle\n",
    "SatModelPoints_MotorLAB=1           # Saturation model: 0 - coarse 1- fine resolution (30 points)\n",
    "LossModel_Lab          =1        # Loss model type: 1-FEA 2 -custom\n",
    "BuildSatModel_MotorLAB=1          # Activate saturation model               \n",
    "BuildLossModel_MotorLAB=1         ## Activate loss model                \n",
    "CalcTypeCuLoss_MotorLAB=3         # 0 DC only 1 DC+AC(User) 2 DC+AC (FEA single Point) 3 DC+AC (FEA Map)      \n",
    "ACLossGeneratorMethod_Lab =1      \n",
    "ProximityLossModel = ACLossGeneratorMethod_Lab   \n",
    "IronLossCalc_Lab=3               # 0Neglect 1 OC+SC(User) 2 OC+SC (FEA single Point) 3 (FEA Map)\n",
    "LabModel_MagnetLoss_Method=3   #0 Neglect 1 User Defined 2 OC+SC (FEA single Point) 3 (FEA Map)         \n",
    "MagnetLossCalc_Lab =3          # 0 Neglect 1 User Defined 2 OC+SC (FEA single Point) 3 (FEA Map)    \n",
    "\n"
   ]
  },
  {
   "cell_type": "markdown",
   "metadata": {},
   "source": [
    " ### Pyleecan options (User)"
   ]
  },
  {
   "cell_type": "code",
   "execution_count": null,
   "metadata": {},
   "outputs": [],
   "source": []
  },
  {
   "cell_type": "markdown",
   "metadata": {},
   "source": [
    " ## [Setup Mode]Input parameters for testing in IDE or initialisation in OSL Python node\n",
    "      (just Setup variable which will be changed by Optislang while OSL_run)\n"
   ]
  },
  {
   "cell_type": "code",
   "execution_count": null,
   "metadata": {},
   "outputs": [],
   "source": [
    "if run_mode in ['OSL_setup', 'IDE_run']:\n",
    "  \n",
    "    i_Active_Length     = 130.   # Active length\n",
    "    \n",
    "    ### Performance\n",
    "    i_BuildLineCurrentRMS =  742.4621 # 1050   # Maximum RMS line current  900Apk 636.3961030678927A rms but 1050Apk 742.4621A rms\n",
    "    # i_AmpT_rms=                 # Maximum Ampere turn current 2.75T*900ApkA  1750 rms 1050Apk 2.75T 742.4621A rms\n",
    "    # p_AmpT_rms= 1555.6\n",
    "    \n",
    "    ### Winding\n",
    "    i_lineCurrentLabpk = 0\n",
    "    p_init_Turns_Coil =11          # for model build use fixed values for initialisation change by i_TurnLab\n",
    "    \n",
    "\n"
   ]
  },
  {
   "cell_type": "markdown",
   "metadata": {},
   "source": [
    " ### Stator\n"
   ]
  },
  {
   "cell_type": "code",
   "execution_count": 5,
   "metadata": {},
   "outputs": [
    {
     "ename": "NameError",
     "evalue": "name 'calcBackIronThickness' is not defined",
     "output_type": "error",
     "traceback": [
      "\u001b[1;31m---------------------------------------------------------------------------\u001b[0m",
      "\u001b[1;31mNameError\u001b[0m                                 Traceback (most recent call last)",
      "Cell \u001b[1;32mIn[5], line 11\u001b[0m\n\u001b[0;32m      9\u001b[0m i_Depth_Slot_Ratio  \u001b[39m=\u001b[39m\u001b[39m0.7\u001b[39m\n\u001b[0;32m     10\u001b[0m \u001b[39m##exlicit [Not In MCAD variable But Optislang]\u001b[39;00m\n\u001b[1;32m---> 11\u001b[0m BackIronThickness\u001b[39m=\u001b[39mcalcBackIronThickness(i_Stator_OD,i_Split_Ratio,i_Depth_Slot_Ratio,p_MinThicknessBackIron)\n\u001b[0;32m     12\u001b[0m i_YtoT                              \u001b[39m=\u001b[39m\u001b[39m2.5\u001b[39m                                           \u001b[39m#ratio user defined YtoT \u001b[39;00m\n\u001b[0;32m     13\u001b[0m \u001b[39m# Tooth Width\u001b[39;00m\n\u001b[0;32m     14\u001b[0m \u001b[39m## implicit (Not in Optislang But MCAD)\u001b[39;00m\n",
      "\u001b[1;31mNameError\u001b[0m: name 'calcBackIronThickness' is not defined"
     ]
    }
   ],
   "source": [
    "    # i_Tooth_Width           = 6\n",
    "    i_Stator_OD             = 20  # Stator outer diameter\n",
    "    ## Lab settings\n",
    "    i_TurnLab = 11\n",
    "    #### Ratio(Stator w Hierachy)\n",
    "    # Bore\n",
    "    i_Split_Ratio                       =0.705 \n",
    "    # Depth  \n",
    "    i_Depth_Slot_Ratio  =0.7\n",
    "    ##exlicit [Not In MCAD variable But Optislang]\n",
    "    BackIronThickness=calcBackIronThickness(i_Stator_OD,i_Split_Ratio,i_Depth_Slot_Ratio,p_MinThicknessBackIron)\n",
    "    i_YtoT                              =2.5                                           #ratio user defined YtoT \n",
    "    # Tooth Width\n",
    "    ## implicit (Not in Optislang But MCAD)\n",
    "    Rint,slot_pitch,ToothWidth,Angle_Radian_ToothWidth,imp_Tooth_Width_Ratio=calcImplicitToothWidthRatio(BackIronThickness,i_YtoT,p_Tooth_Tip_Depth,i_Stator_OD,i_Split_Ratio,p_Stator_Slots)\n",
    "    # Slot Opening                                                                    \n",
    "    i_Slot_Op_Ratio        =0.8     \n",
    "\n",
    "    \n"
   ]
  },
  {
   "cell_type": "markdown",
   "metadata": {},
   "source": [
    " ### Rotor\n"
   ]
  },
  {
   "cell_type": "code",
   "execution_count": null,
   "metadata": {},
   "outputs": [],
   "source": [
    "### Rotor \n",
    "    #### Absoulute Input (left table)\n",
    "        # Notch_Depth=0 \n",
    "    Magnet_Layers=2\n",
    "\n",
    "    # # Layer 1 - insider\n",
    "    L1_Magnet_Thickness     =5.2\n",
    "    L1_Bridge_Thickness     =1.8\n",
    "    L1_Pole_V_angle         =112\n",
    "    L1_Magnet_Post          =1.5\n",
    "    L1_Magnet_Separation    =6.2\n",
    "    L1_Magnet_Segments      =1\n",
    "    # L1 Mag Gap Inner\n",
    "    # L1 Mag Gap Outer\n",
    "\n",
    "    # # Layer 2\n",
    "    L2_Magnet_Thickness      =5.4 \n",
    "    L2_Bridge_Thickness      =1.5 \n",
    "    L2_Magnet_Post           =0 \n",
    "    L2_Magnet_Separation     =0 \n",
    "    L2_Magnet_Segments       =1 \n",
    "\n",
    "    #### Ratio  (Rotor w Hierachy)\n",
    "    L1_Pole_Arc                            = 0.90           \n",
    "    L1_Web_Thickness                   = 0.15           \n",
    "    L1_Magnet_Bar_Width            = 0.92           \n",
    "    L1_Web_Length              = 0.104          \n",
    "    L2_Pole_Arc                        = 0.25           \n",
    "    L2_Web_Thickness               = 0.69           \n",
    "    L2_Magnet_Bar_Width        = 0.8             \n",
    "    L2_Web_Length          = 0.064       \n",
    "\n",
    "    ### Duty Cycle Study\n",
    "    #i_Gear_Ratio = 7.\n",
    "\n"
   ]
  },
  {
   "cell_type": "markdown",
   "metadata": {},
   "source": [
    "# Load Pyleecan to MCAD\n"
   ]
  },
  {
   "cell_type": "code",
   "execution_count": 3,
   "metadata": {},
   "outputs": [],
   "source": [
    "mcApp = win32com.client.Dispatch(\"MotorCAD.AppAutomation\")  # Launch Motor-CAD application\n",
    "\n",
    "# mcApp.LoadExternalModel_Lab(FileName)"
   ]
  },
  {
   "cell_type": "markdown",
   "metadata": {},
   "source": [
    " # Real run Setting: (start If) 'IDE_run' mode or 'OSL_run' mode\n"
   ]
  },
  {
   "cell_type": "code",
   "execution_count": null,
   "metadata": {},
   "outputs": [],
   "source": [
    "if run_mode.endswith('run'):   \n",
    "\n"
   ]
  },
  {
   "cell_type": "markdown",
   "metadata": {},
   "source": [
    " ## [precal with function] Geometry parameters\n",
    " [Go to cell fun_Machine_Length](#fun_Machine_Length)\n"
   ]
  },
  {
   "cell_type": "code",
   "execution_count": null,
   "metadata": {},
   "outputs": [],
   "source": [
    "    Machine_Length = fun_Machine_Length(p_EndSpace_Height, p_Wdg_Overhang_R,p_Wdg_Overhang_R, i_Active_Length)\n",
    "    # Air_Pocket     = fun_Air_Pocket(i_Mag_Thick, p_Mag_Clear)\n",
    "\n"
   ]
  },
  {
   "cell_type": "markdown",
   "metadata": {},
   "source": [
    " ## Load [reference] Motor-CAD file\n"
   ]
  },
  {
   "cell_type": "code",
   "execution_count": null,
   "metadata": {},
   "outputs": [],
   "source": [
    "    mcApp = win32com.client.Dispatch(\"MotorCAD.AppAutomation\")  # Launch Motor-CAD application\n",
    "    # mcApp=MotorCAD()\n",
    "    mcApp.Visible = Visible_Opt                                 # Set Motor-CAD visible or not\n",
    "    mcApp.SetVariable('MessageDisplayState', Message_Display)   # Set state of message display \n",
    "    mcApp.SetVariable(\"SavePrompt\", Save_Prompt)                # Remove autosave function or not\n",
    "    myPID = os.getpid()\t\t\t\t\t\t\t\t\t\t\t# Pass this process id to Motor-CAD so that Motor-CAD will \n",
    "    print(myPID)                                                # close when this process completes\n",
    "    mcApp.SetVariable(\"OwnerProcessID\", myPID)\n",
    "    mcApp.ShowMessage(myPID)      \n",
    "    mot_file_ref_path = join(refdir, Design_Name + \".mot\")                       # Path to the reference *.mot file\n",
    "    mot_file_new_path = join(wdir, Design_Name + '_' + OSL_DESIGN_NAME + \".mot\") # Path to the new *.mot file\n",
    "    print(\"[INFO] Load reference MCAD file from: \", mot_file_ref_path)                                    \n",
    "    mcApp.LoadFromFile(mot_file_ref_path)                                        # Load reference Motor-CAD file\n",
    "    print(\"[INFO] Design file saved as: \", mot_file_new_path)                                    \n",
    "    mcApp.SaveToFile(mot_file_new_path)                                          # Save in new location\n",
    "    mot_file_dir = join(wdir, Design_Name + '_' + OSL_DESIGN_NAME)\n",
    "    Mat_File_Name     = 'MotorLAB_elecdata.mat'                   # *.mat file automatically generated by Motor-CAD\n",
    "    motdata=[mot_file_dir,Mat_File_Name]   \n",
    "    \n"
   ]
  },
  {
   "cell_type": "markdown",
   "metadata": {},
   "source": [
    " ## [Setting] SetVariable"
   ]
  },
  {
   "cell_type": "markdown",
   "metadata": {},
   "source": [
    " ### Change to ratio mode to edit the geometry\n"
   ]
  },
  {
   "cell_type": "code",
   "execution_count": null,
   "metadata": {},
   "outputs": [],
   "source": [
    "    mcApp.SetVariable('GeometryParameterisation', 1)   # Ratio mode in Motor-CAD \n",
    "\n"
   ]
  },
  {
   "cell_type": "markdown",
   "metadata": {},
   "source": [
    " ### Assign geometry parameters\n",
    " [Go to fun_Active_Volume](#fun_Active_Volume)\n",
    "\n"
   ]
  },
  {
   "cell_type": "markdown",
   "metadata": {},
   "source": [
    " #### Stator\n"
   ]
  },
  {
   "cell_type": "code",
   "execution_count": 20,
   "metadata": {},
   "outputs": [
    {
     "data": {
      "text/plain": [
       "6.0"
      ]
     },
     "execution_count": 20,
     "metadata": {},
     "output_type": "execute_result"
    }
   ],
   "source": [
    "    BackIronThickness=calcBackIronThickness(220,0.7297,0.669,0.1)   \n",
    "BackIronThickness\n",
    "    i_YtoT                              =2.5                                           #ratio user defined YtoT \n",
    "\n",
    "Rint,slot_pitch,ToothWidth,Angle_Radian_ToothWidth,imp_Tooth_Width_Ratio=calcImplicitToothWidthRatio(BackIronThickness,i_YtoT,0.2,220,0.7297,60)\n",
    "slot_pitch\n"
   ]
  },
  {
   "cell_type": "code",
   "execution_count": null,
   "metadata": {},
   "outputs": [],
   "source": [
    "    mcApp.SetVariable('Slot_Number', p_Stator_Slots)                           # Stator slots\n",
    "    ### Stator\n",
    "    mcApp.SetVariable('Housing_Dia', i_Stator_OD+40)                    # Stator lamination pack length\n",
    "    #### Absoulute Input (left table)\n",
    "    mcApp.SetVariable('Stator_Lam_Dia'      , i_Stator_OD)                        # Stator OD \n",
    "    mcApp.SetVariable('Slot_Corner_Radius'  , i_Slot_Corner_Radius)               # Slot_Corner_Radius      \n",
    "    mcApp.SetVariable('Tooth_Tip_Depth'     , p_Tooth_Tip_Depth)                  # Tooth tip depth\n",
    "    mcApp.SetVariable('Tooth_Tip_Angle'     , p_Tooth_Tip_Angle)                  # Tooth tip angle\n",
    "    \n",
    "    o_Active_Volume  = fun_Active_Volume(i_Stator_OD, i_Active_Length)     # In [m3] \n",
    "    \n",
    "    #### Ratio(Stator w Hierachy)\n",
    "    # Bore\n",
    "    mcApp.SetVariable('Ratio_Bore', i_Split_Ratio)\n",
    "    # Depth      \n",
    "    mcApp.SetVariable(\"Ratio_SlotDepth_ParallelTooth\"           , i_Depth_Slot_Ratio     ) \n",
    "    mcApp.SetVariable('MinBackIronThickness'                    , p_MinThicknessBackIron )        \n",
    "        ##exlicit [Not In MCAD variable But Optislang]\n",
    "    ex,Slot_DepthGetVar=mcApp.GetVariable('Slot_Depth')   \n",
    "    BackIronThickness=calcBackIronThickness(i_Stator_OD,i_Split_Ratio,i_Depth_Slot_Ratio,p_MinThicknessBackIron)   \n",
    "     \n",
    "    print('Ratio_SlotDepth_ParallelTooth Slot Depth/Stator Lam Thickness(Yoke):',i_Depth_Slot_Ratio)\n",
    "    print('Contraints Min BackIron(Yoke):',p_MinThicknessBackIron,',Dimension: SlotDepth',Slot_DepthGetVar)\n",
    "        \n",
    "    # Tooth Width     \n",
    "    Rint,slot_pitch,ToothWidth,Angle_Radian_ToothWidth,imp_Tooth_Width_Ratio=calcImplicitToothWidthRatio(BackIronThickness,i_YtoT,p_Tooth_Tip_Depth,i_Stator_OD,i_Split_Ratio,p_Stator_Slots)\n",
    "    mcApp.SetVariable(\"Ratio_ToothWidth\"                        , imp_Tooth_Width_Ratio    )        #Ratio_ToothWidth\" )      \n",
    "    print('### Define Tooth Width ')\n",
    "    print('i_YtoT:',i_YtoT)\n",
    "    print('implicit Tooth_Width_Ratio=',imp_Tooth_Width_Ratio)\n",
    "    print('Stator Bore As Contraints=',2*Rint,'Dimension=',ToothWidth)\n",
    "\n",
    "    # Ratio_SlotOpening_ParallelTooth\n",
    "    mcApp.SetVariable(\"Ratio_SlotOpening_ParallelTooth\"         , i_Slot_Op_Ratio        )        #Ratio_SlotOpening_ParallelTooth\" )      \n",
    "    MaxSlotOpen=CalcSlotOpening(Rint,p_Tooth_Tip_Depth,slot_pitch,Angle_Radian_ToothWidth)\n",
    "    SlotOpen=MaxSlotOpen*i_Slot_Op_Ratio\n",
    "    # RatioOpenVsToothWidth=8/SlotOpen\n",
    "    print('### Define Slot Opening')\n",
    "    print('Slot Opening/Max Slot Opening',i_Slot_Op_Ratio)\n",
    "    print('Contraints:',ToothWidth,', Dimension:Slot Opening',SlotOpen)\n",
    "    \n",
    "\n"
   ]
  },
  {
   "cell_type": "markdown",
   "metadata": {},
   "source": [
    " #### Rotor"
   ]
  },
  {
   "cell_type": "code",
   "execution_count": null,
   "metadata": {},
   "outputs": [],
   "source": [
    "    ### Rotor \n",
    "    #### Absoulute Input (left table)\n",
    "    mcApp.SetArrayVariable(\"MagnetThickness_Array\"                , 0, L1_Magnet_Thickness)            # Layer 1 Magnet thickness\n",
    "    mcApp.SetArrayVariable(\"MagnetThickness_Array\"                , 1, L2_Magnet_Thickness)            # Layer 2 Magnet thickness\n",
    "                \n",
    "    mcApp.SetArrayVariable('BridgeThickness_Array'                , 0, L1_Bridge_Thickness)            # Layer 1 Bridge thickness \n",
    "    mcApp.SetArrayVariable('BridgeThickness_Array'                , 1, L2_Bridge_Thickness)            # Layer 2 Bridge thickness \n",
    "        \n",
    "    mcApp.SetArrayVariable(\"PoleVAngle_Array\"                     , 0, L1_Pole_V_angle)                # Layer 1 V-shape layer angle\n",
    "    # mcApp.SetArrayVariable(\"PoleVAngle_Array\"                     , 1, L2_Pole_V_angle)                # Layer 2 V-shape layer angle\n",
    "\n",
    "    mcApp.SetArrayVariable(\"VShapeMagnetPost_Array\"               , 0, L1_Magnet_Post)                 # Layer 1 Magnet post\n",
    "    # mcApp.SetArrayVariable(\"VShapeMagnetPost_Array\"               , 1, L2_Magnet_Post)                 # Layer 2 Magnet post\n",
    "\n",
    "    mcApp.SetArrayVariable(\"MagnetSeparation_Array\"               , 0, L1_Magnet_Separation)           # Layer 1 Magnet_Separation\n",
    "    # mcApp.SetArrayVariable(\"MagnetSeparation_Array\"               , 1, L2_Magnet_Separation)           # Layer 2 Magnet_Separation\n",
    "\n",
    "    # mcApp.SetArrayVariable(\"VShapeMagnetSegments_Array\"           , 0, L1_Magnet_Segments)             # Layer 1 Magnet_Segments\n",
    "    # mcApp.SetArrayVariable(\"VShapeMagnetSegments_Array\"           , 1, L2_Magnet_Segments)             # Layer 2 Magnet_Segments\n",
    "    \n",
    "    #### Ratio\n",
    "    mcApp.SetArrayVariable(    'RatioArray_PoleArc'                    ,0,L1_Pole_Arc            )         # %Layer 1     RatioArray_PoleArc\n",
    "    mcApp.SetArrayVariable(    'RatioArray_PoleArc'                    ,1,L2_Pole_Arc            )         # %Layer 2     RatioArray_PoleArc\n",
    "\n",
    "    mcApp.SetArrayVariable(    'RatioArray_WebThickness'               ,0,L1_Pole_Arc            )         # %Layer 1     RatioArray_WebThickness\n",
    "    mcApp.SetArrayVariable(    'RatioArray_WebThickness'               ,1,L2_Pole_Arc            )         # %Layer 2     RatioArray_WebThickness\n",
    "\n",
    "    mcApp.SetArrayVariable(    'RatioArray_VWebBarWidth'               ,0,L1_Magnet_Bar_Width    )         # %Layer 1     RatioArray_VWebBarWidth\n",
    "    mcApp.SetArrayVariable(    'RatioArray_VWebBarWidth'               ,1,L2_Magnet_Bar_Width    )         # %Layer 2     RatioArray_VWebBarWidth\n",
    "\n",
    "    mcApp.SetArrayVariable(    'RatioArray_WebLength'                  ,0,L1_Web_Length          )         # %Layer 1     RatioArray_WebLength\n",
    "    # mcApp.SetArrayVariable(    'RatioArray_WebLength'                  ,1,L2_Web_Length          )         # %Layer 2     RatioArray_WebLength            \n",
    "\n",
    "\n"
   ]
  },
  {
   "cell_type": "markdown",
   "metadata": {},
   "source": [
    " #### etc"
   ]
  },
  {
   "cell_type": "code",
   "execution_count": null,
   "metadata": {},
   "outputs": [],
   "source": [
    "    #### etc\n",
    "    mcApp.SetVariable('Pole_Number', 2*p_Pole_Pair)                            # Rotor poles\n",
    "    mcApp.SetVariable('Airgap', p_Airgap_Mecha)                                # Mechanical airgap\n",
    "     \n",
    "    # mcApp.SetVariable('MinVMagnetAspectRatio', p_Mag_AspectRatio_Min)          # Minimum magnet aspect ratio\n",
    "    # mcApp.SetVariable('MinMagnetSeparation', p_Mag_Separation_Min)             # Minimum separation between magnet poles  \n",
    "    # mcApp.SetVariable('MinShaftSeparation', p_Shaft_Separation_Min)            # Minimum separation between shaft and magnets\n",
    "    # mcApp.SetVariable(\"Ratio_ShaftD\", p_Shaft_OD_Ratio)                        # Shaft OD ratio\n",
    "    \n",
    "    mcApp.SetVariable('Motor_Length', Machine_Length)     \n",
    "    mcApp.SetVariable('Stator_Lam_Length', i_Active_Length)                    # Stator lamination pack length\n",
    "    mcApp.SetVariable('Rotor_Lam_Length', i_Active_Length)                     # Rotor lamination pack length\n",
    "    mcApp.SetVariable('Magnet_Length', i_Active_Length)                        # Magnet length\n",
    "    mcApp.SetVariable('EWdg_Overhang_[R]', p_Wdg_Overhang_R)                     # End winding overhang (rear)\n",
    "    mcApp.SetVariable('EWdg_Overhang_[F]', p_Wdg_Overhang_F)                     #                      (front)\n",
    "\n"
   ]
  },
  {
   "cell_type": "markdown",
   "metadata": {},
   "source": [
    " #### Assign winding parameters"
   ]
  },
  {
   "cell_type": "code",
   "execution_count": null,
   "metadata": {},
   "outputs": [],
   "source": [
    "### Assign winding parameters\n",
    "    mcApp.SetVariable('WindingLayers', p_Coils_Slot)                # Coils passing through a slot\n",
    "    mcApp.SetVariable('MagTurnsConductor', p_init_Turns_Coil)       # Turns per coil\n",
    "    mcApp.SetVariable('ParallelPaths', p_Parallel_Path)             # Parallel paths per phase\n",
    "    mcApp.SetVariable('RequestedGrossSlotFillFactor', p_Slot_Fill)  # Slot fill factor\n",
    "\n"
   ]
  },
  {
   "cell_type": "markdown",
   "metadata": {},
   "source": [
    " ### Assign initial calculation settings"
   ]
  },
  {
   "cell_type": "markdown",
   "metadata": {},
   "source": [
    " #### Open Circuit (No load Calculation)"
   ]
  },
  {
   "cell_type": "code",
   "execution_count": null,
   "metadata": {},
   "outputs": [],
   "source": [
    "### Assign initial calculation settings\n",
    "    mcApp.SetVariable(\"BackEMFCalculation\", False)               # OC calculations deactivated\n",
    "    mcApp.SetVariable(\"CoggingTorqueCalculation\", False)         # Cogging torque calculation deactivated\n",
    "    mcApp.SetVariable(\"ElectromagneticForcesCalc_OC\", False)     # Maxwell forces calculation deactivated (OC)\n",
    "\n"
   ]
  },
  {
   "cell_type": "markdown",
   "metadata": {},
   "source": [
    " #### On load"
   ]
  },
  {
   "cell_type": "code",
   "execution_count": null,
   "metadata": {},
   "outputs": [],
   "source": [
    "    mcApp.SetVariable(\"TorqueCalculation\", False)                # Torque calculations deactivated\n",
    "    mcApp.SetVariable(\"TorqueSpeedCalculation\", False)           # Torque speed curve calculation deactivated\n",
    "    mcApp.SetVariable(\"DemagnetizationCalc\", False)              # Demagnetisation test deactivated\n",
    "    mcApp.SetVariable(\"ElectromagneticForcesCalc_Load\", False)   # Maxwell forces calculation deactivated (OL)\n"
   ]
  },
  {
   "cell_type": "markdown",
   "metadata": {},
   "source": [
    " #### Parameters & Transient"
   ]
  },
  {
   "cell_type": "code",
   "execution_count": null,
   "metadata": {},
   "outputs": [],
   "source": [
    "    mcApp.SetVariable(\"InductanceCalc\", False)                   # Inductance calculation deactivated\n",
    "    mcApp.SetVariable(\"BPMShortCircuitCalc\", False)              # Transient short circuit calculation deactivated\n"
   ]
  },
  {
   "cell_type": "markdown",
   "metadata": {},
   "source": [
    " #### Solver"
   ]
  },
  {
   "cell_type": "code",
   "execution_count": null,
   "metadata": {},
   "outputs": [],
   "source": [
    "    mcApp.SetVariable(\"MagneticSolver\", 0)                       # Transient calculation enabled (0 Transient, 1 Multi-Static, 2 Reduced Multi-Static)\n",
    "    mcApp.SetVariable(\"Lab_Threads_Enabled\", True)               # Threading option for lab models enabled\n",
    "    \n",
    "    \n"
   ]
  },
  {
   "cell_type": "markdown",
   "metadata": {},
   "source": [
    " ### [Check] the geometry is valid (exception raise)\n"
   ]
  },
  {
   "cell_type": "code",
   "execution_count": null,
   "metadata": {},
   "outputs": [],
   "source": [
    "    success = mcApp.CheckIfGeometryIsValid(0)\n",
    "    # [error case]\n",
    "    if success == 0: \n",
    "        # [error case]If not valid, generate zero outputs instead of getting an error message in optiSLang\n",
    "        # output initial values\n",
    "         # Scalars\n",
    "        o_LabCurrentJ=0\n",
    "        # OP point check\n",
    "        o_Op1_Jrms =0\n",
    "        o_Op2_Jrms =0\n",
    "        o_Op3_Jrms =0\n",
    "        o_Op1_ipk               =0\n",
    "        o_Op2_ipk               =0\n",
    "        o_Op3_ipk               =0\n",
    "        o_Op1_ShaftToruqe       =0\n",
    "        o_Op2_ShaftToruqe       =0\n",
    "        o_Op3_ShaftToruqe       =0\n",
    "        # Temp rise test (Duty Cycle)\n",
    "        o_Op2_max_temp          =0\n",
    "        # o_OP3_max_temp          =0\n",
    "        # Driving Duty Cycle\n",
    "        o_Wh_Loss           =0\n",
    "        o_Wh_Shaft          =0\n",
    "        o_Wh_input          =0\n",
    "        # Torque density \n",
    "        o_Maxtorque=0\n",
    "        o_TorqueVolumeDensity =0\n",
    "        o_TorqueWeightDensity =0\n",
    "        o_Op2_copper_area   =0\n",
    "        o_Op1_copper_area   =0\n",
    "        o_Op3_copper_area   =0\n",
    "        # Weight\n",
    "        o_Weight_Act         = 0.\n",
    "        o_Weight_Mag         = 0.\n",
    "        o_Weight_Rot_Core    = 0.\n",
    "        o_Weight_Stat_Core   = 0.\n",
    "        o_Weight_Wdg         = 0.       \n",
    "        # [error case Save]New File Save\n",
    "        mcApp.SaveToFile(mot_file_new_path)  # Save design   \n",
    "        mcApp.Quit()                         # Close Motor-CAD\n",
    "        mcApp = 0                            # Reset mcApp variable  \n",
    "        time.sleep(0.5)                      # Frozen for 0.5s\n",
    "        raise Exception('[ERROR] {}: geometry not valid'.format(OSL_DESIGN_NAME))\n"
   ]
  },
  {
   "cell_type": "markdown",
   "metadata": {},
   "source": [
    " ## [save] New File and  Weight Calc & Export snapshot"
   ]
  },
  {
   "cell_type": "code",
   "execution_count": null,
   "metadata": {},
   "outputs": [],
   "source": [
    "### Export snapshots\n",
    "    if Pic_Export:\n",
    "        for screenname in ['Radial', 'Axial', 'StatorWinding']:\n",
    "            mcApp.SaveScreenToFile(screenname, join(wdir, Design_Name + '_' + OSL_DESIGN_NAME + '_Pic_' + screenname + '.png'))\n",
    "    mcApp.DisplayScreen('Scripting')   \n",
    "\n",
    "### Extract active weights\n",
    "    mcApp.DoWeightCalculation()                                            # Weight calculation\n",
    "    ex, o_Weight_Mag       = mcApp.GetVariable(\"Weight_Calc_Magnet\")       # Magnet's mass \n",
    "    ex, o_Weight_Wdg       = mcApp.GetVariable(\"Weight_Calc_Copper_Total\") # Winding's mass \n",
    "    ex, o_Weight_Stat_Core = mcApp.GetVariable(\"Weight_Calc_Stator_Lam\")   # Stator core's mass  \n",
    "    ex, o_Weight_Rot_Core  = mcApp.GetVariable(\"Weight_Calc_Rotor_Lam\")    # Rotor core's mass\n",
    "    ex, Weight_Shaft       = mcApp.GetVariable(\"Weight_Shaft_Active\")      # Shaft's mass  \n",
    "    ex, Weight_Act         = mcApp.GetVariable(\"Weight_Calc_Total\")        # Active mass\n",
    "    o_Weight_Act           = Weight_Act - Weight_Shaft                     # Shaft's mass retrieved\n",
    "\n",
    "### Save design\n",
    "    mcApp.SaveToFile(mot_file_new_path)\n",
    "    \n"
   ]
  },
  {
   "cell_type": "markdown",
   "metadata": {},
   "source": [
    " ## [Run] (Lab Build -> Lab Analysis(Lab OP study & Duty Cycle) -> Duty Cycle )\n",
    "\n",
    " Lab module\n",
    " Shows automatically after assigning options for the saturation & loss models)\n"
   ]
  },
  {
   "cell_type": "markdown",
   "metadata": {},
   "source": [
    " ### Lab: model Build tab###"
   ]
  },
  {
   "cell_type": "code",
   "execution_count": null,
   "metadata": {},
   "outputs": [],
   "source": [
    "# run_mode='OSL_run'\n",
    "# run_mode='OSL_setup'\n",
    "\n",
    "# mcApp = win32com.client.Dispatch(\"MotorCAD.AppAutomation\")  # Launch Motor-CAD application\n",
    "# mot_file_new_path=r'Z:\\Thesis\\Optislang_Motorcad\\HDEV_Code4\\OPD\\HDEVCode4Init1.opd\\HDEVCODE4\\Design0001\\HDEV_Model2_Design0001.mot'\n",
    "\n"
   ]
  },
  {
   "cell_type": "code",
   "execution_count": null,
   "metadata": {},
   "outputs": [],
   "source": [
    "    #mcApp.ClearModelBuild_Lab()  # Clear existing models\n",
    "    if run_mode in ['IDE_run']:\n",
    "        mcApp.SetVariable(\"ModelType_MotorLAB\", 2)       # Saturation model type: 1- sigle 2-Full Cycle\n",
    "        mcApp.SetVariable(\"SatModelPoints_MotorLAB\", 0)  # Saturation model: coarse resolution (15 points)    \n",
    "        mcApp.SetVariable(\"LossModel_LAB\", 0)            # Loss model type: neglect\n",
    "        mcApp.SetMotorLABContext()                       # Lab context\n",
    "        mcApp.SetVariable(\"BuildSatModel_MotorLAB\", 1)   # Activate saturation model   \n",
    "    else: \n",
    "\n",
    "        mcApp.SetVariable(\"ModelType_MotorLAB\", ModelType_MotorLAB)       # Saturation model type: Full Cycle\n",
    "        mcApp.SetVariable(\"SatModelPoints_MotorLAB\", SatModelPoints_MotorLAB)  # Saturation model: 0 - coarse 1- fine resolution (30 points)  \n",
    "        mcApp.SetVariable(\"LossModel_Lab\", LossModel_Lab)            # Loss model type: 1-FEA 2 -custom\n",
    "        mcApp.SetMotorLABContext()                       # Lab context\n",
    "        mcApp.SetVariable(\"BuildSatModel_MotorLAB\", BuildSatModel_MotorLAB)   # Activate saturation model  \n",
    "        mcApp.SetVariable(\"BuildLossModel_MotorLAB\", BuildLossModel_MotorLAB)  # Activate loss model  \n",
    "        mcApp.SetVariable(\"CalcTypeCuLoss_MotorLAB\", CalcTypeCuLoss_MotorLAB)  # 0 DC only 1 DC+AC(User) 2 DC+AC (FEA single Point) 3 DC+AC (FEA Map)\n",
    "        mcApp.SetVariable(\"IronLossCalc_Lab\", IronLossCalc_Lab)          # 0 Neglect 1 OC+SC(User) 2 OC+SC (FEA single Point) 3 (FEA Map)\n",
    "        mcApp.SetVariable(\"LabModel_MagnetLoss_Method\", LabModel_MagnetLoss_Method) #0 Neglect 1 User Defined 2 OC+SC (FEA single Point) 3 (FEA Map)\n",
    "        mcApp.setVariable(\"MagnetLossCalc_Lab\",MagnetLossCalc_Lab) # 0 Neglect 1 OC+SC(User) 2 OC+SC (FEA single Point) 3 (FEA Map\n",
    "\n",
    "    # mcApp.SetVariable(\"MaxModelCurrent_RMS_MotorLAB\", i_BuildLineCurrentRMS)       # Max line current (rms)\n",
    "    mcApp.SetVariable(\"MaxModelCurrent_MotorLAB\", i_BuildLineCurrentRMS*np.sqrt(2))   # Max line current (peak)\n",
    "    mcApp.SetVariable('ModelBuildSpeed_MotorLAB', p_Speed_Max)                  # Maximum operating speed\n",
    "    o_Active_Volume  = fun_Active_Volume(i_Stator_OD, i_Active_Length)     # In [m3]\n",
    "    ### Export snapshots\n",
    "    # if Pic_Export:\n",
    "    #     for screenname in ['Radial', 'Axial', 'StatorWinding']:\n",
    "    #         mcApp.SaveScreenToFile(screenname, join(wdir, Design_Name + '_' + OSL_DESIGN_NAME + '_Pic_' + screenname + '.png'))\n",
    "    # mcApp.DisplayScreen('Scripting')   \n",
    "\n",
    "### Extract active weights\n",
    "    mcApp.DoWeightCalculation()                                            # Weight calculation\n",
    "    ex, o_Weight_Mag       = mcApp.GetVariable(\"Weight_Calc_Magnet\")       # Magnet's mass \n",
    "    ex, o_Weight_Wdg       = mcApp.GetVariable(\"Weight_Calc_Copper_Total\") # Winding's mass \n",
    "    ex, o_Weight_Stat_Core = mcApp.GetVariable(\"Weight_Calc_Stator_Lam\")   # Stator core's mass  \n",
    "    ex, o_Weight_Rot_Core  = mcApp.GetVariable(\"Weight_Calc_Rotor_Lam\")    # Rotor core's mass\n",
    "    ex, Weight_Shaft       = mcApp.GetVariable(\"Weight_Shaft_Active\")      # Shaft's mass  \n",
    "    ex, Weight_Act         = mcApp.GetVariable(\"Weight_Calc_Total\")        # Active mass\n",
    "    o_Weight_Act           = Weight_Act - Weight_Shaft                     # Shaft's mass retrieved\n",
    "\n",
    "### Save design\n",
    "    mcApp.SaveToFile(mot_file_new_path)\n",
    "    mcApp.BuildModel_Lab()                                                      # Build activated models\n",
    "    OP1=['OP1_temp_rise',1700,1200]\n",
    "    OP2=['OP2_temp_rise',1700,900]\n",
    "    OP3=['OP3_temp_rise',4000,380]\n",
    "    M2=['M2','varius']\n",
    "################################################ Lab: end of Build tab ############################################################### \n"
   ]
  },
  {
   "cell_type": "markdown",
   "metadata": {},
   "source": [
    " ### Lab :(function Call) Max Torque (Electromagnetic tab)\n",
    " [Go to fun_MaxTorque](#fun_maxtorque)\n"
   ]
  },
  {
   "cell_type": "code",
   "execution_count": null,
   "metadata": {},
   "outputs": [],
   "source": [
    "    o_Maxtorque=fun_MaxTorque(motdata,p_Speed_Peak_Array,i_lineCurrentLabpk,i_TurnLab)   # In [Nm]\n",
    "\n"
   ]
  },
  {
   "cell_type": "markdown",
   "metadata": {},
   "source": [
    " ### Lab :(function Call) BEMF Check (Post Calc)\n",
    " [Go to funCalcEMFFundLab](#funcalcemffundlab)\n"
   ]
  },
  {
   "cell_type": "code",
   "execution_count": null,
   "metadata": {},
   "outputs": [],
   "source": [
    "    o_LineEmfFund=funCalcEMFFundLab(6000,1)\n"
   ]
  },
  {
   "cell_type": "markdown",
   "metadata": {},
   "source": [
    " ### Lab: (function call) peak performance (Duty cycle tab)\n",
    "\n",
    " [Go to fun_Find_Ipk_4Trq65C_mk_dat](#fun_Find_Ipk_4Trq65C_mk_dat)\\\n",
    " [Go to fun_scail_J_by_Turn](#fun_scail_J_by_Turn)\n",
    "\n",
    " [Go to fun_OP_temp_contraints](#fun_OP_temp_contraints)\n",
    "\n",
    " [Go to fun_TorqueVolumeDensity](#fun_TorqueVolumeDensity)\\\n",
    " [Go to fun_TorqueWeightDensity](#fun_TorqueWeightDensity)\n",
    "\n",
    " [Go to fun_current_density_cal](#fun_current_density_cal)\n",
    "\n",
    "\n"
   ]
  },
  {
   "cell_type": "code",
   "execution_count": null,
   "metadata": {},
   "outputs": [],
   "source": [
    "   ## Torque check\n",
    "    o_Op1_ipk,OP1_beta,o_Op1_ShaftToruqe,Op1_after,Op1_current_density,o_Op1_copper_area =fun_Find_Ipk_4Trq65C_mk_dat(OP1,i_TurnLab)\n",
    "    o_Op1_Jrms=fun_scail_J_by_Turn(Op1_current_density,p_init_Turns_Coil,i_TurnLab)\n",
    "\n",
    "   ## Temperature rise check\n",
    "    # o_Op2_ipk,OP2_beta,o_Op2_ShaftToruqe,Op2_after,Op2_current_density,o_Op2_copper_area =fun_Find_Ipk_4Trq65C_mk_dat(OP2,i_TurnLab)\n",
    "    # o_Op3_ipk,OP3_beta,o_Op3_ShaftToruqe,Op3_after,Op3_current_density,o_Op3_copper_area =fun_Find_Ipk_4Trq65C_mk_dat(OP3,i_TurnLab)\n",
    "\n",
    "    o_Op2_max_temp,Op2_max_pos,Op2_temp_dic, o_Op2_ipk,Op2_beta,Op2_after,o_Op2_ShaftToruqe, Op2_current_density,o_Op2_copper_area=fun_OP_temp_contraints(OP2,i_TurnLab,OP2thermalCouplingType)\n",
    "    o_Op3_max_temp,Op3_max_pos,Op3_temp_dic, o_Op3_ipk,Op3_beta,Op3_after,o_Op3_ShaftToruqe, Op3_current_density,o_Op3_copper_area=fun_OP_temp_contraints(OP3,i_TurnLab,OP3thermalCouplingType)\n",
    "\n",
    "   ## \n",
    "    o_TorqueVolumeDensity = fun_TorqueVolumeDensity(o_Maxtorque, o_Active_Volume)   # In [Nm/m3]\n",
    "    o_TorqueWeightDensity = fun_TorqueWeightDensity(o_Maxtorque,o_Weight_Act)   # In [Nm/kg]\n",
    "    o_LabCurrentJ,o_Labcopper_area = fun_current_density_cal(i_lineCurrentLabpk,i_TurnLab)\n",
    "\n",
    "    ## delete for wide design space exploration (the data to be used in surrogate model)\n",
    "    # if (o_Op1_ShaftToruqe ) < 0:\n",
    "    #     mcApp.SaveToFile(mot_file_new_path)  # Save design   \n",
    "    #     mcApp.Quit()                         # Close Motor-CAD\n",
    "    #     mcApp = 0                            # Reset mcApp variable  \n",
    "    #     time.sleep(0.5)                      # Frozen for 0.5s\n",
    "    #     raise Exception('[ERROR] {}: Op1 is fail failed'.format(OSL_DESIGN_NAME))\n",
    "    # if (o_Op1_ShaftToruqe ) < 0:\n",
    "    #     mcApp.SaveToFile(mot_file_new_path)  # Save design   \n",
    "    #     mcApp.Quit()                         # Close Motor-CAD\n",
    "    #     mcApp = 0                            # Reset mcApp variable  \n",
    "    #     time.sleep(0.5)                      # Frozen for 0.5s\n",
    "    #     raise Exception('[ERROR] {}: Op1 is fail failed'.format(OSL_DESIGN_NAME))\n",
    "\n",
    "#   Raise exception if negative value    \n",
    "    if (o_Op2_max_temp ) < 0:\n",
    "        mcApp.SaveToFile(mot_file_new_path)  # Save design   \n",
    "        mcApp.Quit()                         # Close Motor-CAD\n",
    "        mcApp = 0                            # Reset mcApp variable  \n",
    "        time.sleep(0.5)                      # Frozen for 0.5s\n",
    "        raise Exception('[ERROR] {}:  Duty Cycle calculation failed'.format(OSL_DESIGN_NAME))\n",
    "    \n",
    "    # if (o_Op3_max_temp ) < 0:\n",
    "    #     mcApp.SaveToFile(mot_file_new_path)  # Save design   \n",
    "    #     mcApp.Quit()                         # Close Motor-CAD\n",
    "    #     mcApp = 0                            # Reset mcApp variable  \n",
    "    #     time.sleep(0.5)                      # Frozen for 0.5s\n",
    "    #     raise Exception('[ERROR] {}:  Duty Cycle calculation failed'.format(OSL_DESIGN_NAME))\n",
    "\n"
   ]
  },
  {
   "cell_type": "markdown",
   "metadata": {},
   "source": [
    " ### Lab: Driving Duty Cycle (Duty Cycle tab)\n",
    " [Go to fun_Driving_Duty](#fun_Driving_Duty)\n",
    "\n",
    " [Go to fun_scail_J_by_Turn](#fun_scail_J_by_Turn)\n"
   ]
  },
  {
   "cell_type": "code",
   "execution_count": null,
   "metadata": {},
   "outputs": [],
   "source": [
    "    M1=['M1_Nosync','M1']\n",
    "    o_Wh_Loss,o_Wh_Shaft,o_Wh_input=fun_Driving_Duty(M1,i_TurnLab)\n",
    "\n",
    "        # J(rms) need to be scailed by the scailed number of turns\n",
    "    o_Op2_Jrms=fun_scail_J_by_Turn(Op2_current_density,p_init_Turns_Coil,i_TurnLab)\n",
    "    o_Op3_Jrms=fun_scail_J_by_Turn(Op3_current_density,p_init_Turns_Coil,i_TurnLab)\n",
    "\n",
    "    #   # Raise exception if negative value    \n",
    "    # if (o_Wh_Loss or o_max_temp  ) < 0:\n",
    "    #     mcApp.SaveToFile(mot_file_new_path)  # Save design   \n",
    "    #     mcApp.Quit()                         # Close Motor-CAD\n",
    "    #     mcApp = 0                            # Reset mcApp variable  \n",
    "    #     time.sleep(0.5)                      # Frozen for 0.5s\n",
    "    #     raise Exception('[ERROR] {}: Driving Duty Cycle calculation failed'.format(OSL_DESIGN_NAME))\n",
    "\n"
   ]
  },
  {
   "cell_type": "markdown",
   "metadata": {},
   "source": [
    " ## Close"
   ]
  },
  {
   "cell_type": "code",
   "execution_count": null,
   "metadata": {},
   "outputs": [],
   "source": [
    "## Close Motor-CAD (necessary when running designs in parallel)\n",
    "    mcApp.SaveToFile(mot_file_new_path)  # Save model\n",
    "    mcApp.Quit()                         # Close Motor-CAD\n",
    "    mcApp = 0                            # Reset mcApp variable  \n",
    "    time.sleep(0.5)                      # Freeze for 0.5s\n"
   ]
  },
  {
   "cell_type": "markdown",
   "metadata": {},
   "source": [
    " ## (else) Responses to be drag and drop during 'OSL_setup' mode\n"
   ]
  },
  {
   "cell_type": "code",
   "execution_count": null,
   "metadata": {},
   "outputs": [],
   "source": [
    "else:\n",
    "  # output initialisation  \n",
    "    # outputlistOSL=fun_output_define()\n",
    "    # for i in range(int(len(outputlistOSL)/2)):\n",
    "    #     exec(\"%s = %d\" % (outputlistOSL[2*i],outputlistOSL[2*i+1]))\n",
    "    o_LabCurrentJ=0\n",
    "    # OP point check\n",
    "    o_Op1_Jrms =0\n",
    "    o_Op2_Jrms =0\n",
    "    o_Op3_Jrms =0\n",
    "    o_Op1_ipk               =0\n",
    "    o_Op2_ipk               =0\n",
    "    o_Op3_ipk               =0\n",
    "    o_Op1_ShaftToruqe       =0\n",
    "    o_Op2_ShaftToruqe       =0\n",
    "    o_Op3_ShaftToruqe       =0\n",
    "    # From Lab data\n",
    "    o_LineEmfFund   =0\n",
    "    # Temp rise test (Duty Cycle)\n",
    "    o_Op2_max_temp          =0\n",
    "    # o_OP3_max_temp          =0\n",
    "    # Driving Duty Cycle\n",
    "    o_Wh_Loss           =0\n",
    "    o_Wh_Shaft          =0\n",
    "    o_Wh_input          =0\n",
    "    # Torque density \n",
    "    o_Maxtorque=0\n",
    "    o_TorqueVolumeDensity =0\n",
    "    o_TorqueWeightDensity =0\n",
    "    o_Op2_copper_area   =0\n",
    "    o_Op1_copper_area   =0\n",
    "    o_Op3_copper_area   =0\n",
    "    # Weight\n",
    "    o_Weight_Act         = 0.\n",
    "    o_Weight_Mag         = 0.\n",
    "    o_Weight_Rot_Core    = 0.\n",
    "    o_Weight_Stat_Core   = 0.\n",
    "    o_Weight_Wdg         = 0.      \n",
    "    \n",
    "\n",
    "\n",
    "\n",
    "\n",
    "\n"
   ]
  }
 ],
 "metadata": {
  "kernelspec": {
   "display_name": "py38_pcan151",
   "language": "python",
   "name": "python3"
  },
  "language_info": {
   "codemirror_mode": {
    "name": "ipython",
    "version": 3
   },
   "file_extension": ".py",
   "mimetype": "text/x-python",
   "name": "python",
   "nbconvert_exporter": "python",
   "pygments_lexer": "ipython3",
   "version": "3.8.8"
  },
  "orig_nbformat": 4
 },
 "nbformat": 4,
 "nbformat_minor": 2
}
