{
 "cells": [
  {
   "cell_type": "code",
   "execution_count": 2,
   "metadata": {},
   "outputs": [
    {
     "ename": "ImportError",
     "evalue": "DLL load failed while importing win32api: 지정된 프로시저를 찾을 수 없습니다.",
     "output_type": "error",
     "traceback": [
      "\u001b[1;31m---------------------------------------------------------------------------\u001b[0m",
      "\u001b[1;31mImportError\u001b[0m                               Traceback (most recent call last)",
      "Cell \u001b[1;32mIn[2], line 1\u001b[0m\n\u001b[1;32m----> 1\u001b[0m \u001b[39mimport\u001b[39;00m \u001b[39mwin32com\u001b[39;00m\u001b[39m.\u001b[39;00m\u001b[39mclient\u001b[39;00m\n\u001b[0;32m      2\u001b[0m \u001b[39mimport\u001b[39;00m \u001b[39mos\u001b[39;00m\n\u001b[0;32m      3\u001b[0m \u001b[39mimport\u001b[39;00m \u001b[39mnumpy\u001b[39;00m \u001b[39mas\u001b[39;00m \u001b[39mnp\u001b[39;00m\n",
      "File \u001b[1;32m~\\AppData\\Roaming\\Python\\Python38\\site-packages\\win32com\\__init__.py:5\u001b[0m\n\u001b[0;32m      1\u001b[0m \u001b[39m#\u001b[39;00m\n\u001b[0;32m      2\u001b[0m \u001b[39m# Initialization for the win32com package\u001b[39;00m\n\u001b[0;32m      3\u001b[0m \u001b[39m#\u001b[39;00m\n\u001b[1;32m----> 5\u001b[0m \u001b[39mimport\u001b[39;00m \u001b[39mwin32api\u001b[39;00m\u001b[39m,\u001b[39m \u001b[39msys\u001b[39;00m\u001b[39m,\u001b[39m \u001b[39mos\u001b[39;00m\n\u001b[0;32m      6\u001b[0m \u001b[39mimport\u001b[39;00m \u001b[39mpythoncom\u001b[39;00m\n\u001b[0;32m      8\u001b[0m \u001b[39m# flag if we are in a \"frozen\" build.\u001b[39;00m\n",
      "\u001b[1;31mImportError\u001b[0m: DLL load failed while importing win32api: 지정된 프로시저를 찾을 수 없습니다."
     ]
    }
   ],
   "source": [
    "import win32com.client\n",
    "import os\n",
    "import numpy as np\n",
    "import time\n",
    "from os import getcwd\n",
    "from os.path import join, dirname, exists\n",
    "from math import pi, sqrt\n",
    "from scipy.io import loadmat"
   ]
  },
  {
   "cell_type": "code",
   "execution_count": 15,
   "metadata": {},
   "outputs": [],
   "source": [
    "from MotorCAD_Methods import MotorCAD\n",
    "mcApp = win32com.client.Dispatch(\"MotorCAD.AppAutomation\")  # Launch Motor-CAD application\n",
    "\n",
    "# mc=MotorCAD()"
   ]
  },
  {
   "cell_type": "markdown",
   "metadata": {},
   "source": [
    " # 1.Running Mode & Working directories "
   ]
  },
  {
   "cell_type": "code",
   "execution_count": 33,
   "metadata": {},
   "outputs": [],
   "source": [
    "import re"
   ]
  },
  {
   "cell_type": "code",
   "execution_count": 34,
   "metadata": {},
   "outputs": [],
   "source": [
    "# ex, motpath=mcApp.GetVariable(\"CurrentMotFilePath_MotorLAB\")\n",
    "# motpath=re.sub(\".mot\",\"\",motpath)\n",
    "# os.chdir(motpath)\n",
    "# os.rename('test.csv','test_rename.csv')"
   ]
  },
  {
   "cell_type": "code",
   "execution_count": 39,
   "metadata": {},
   "outputs": [
    {
     "ename": "FileNotFoundError",
     "evalue": "[WinError 2] 지정된 파일을 찾을 수 없습니다: 'MotorLAB_drivecycledata.mat' -> 'OP1_temp_rise_lab_result.mat'",
     "output_type": "error",
     "traceback": [
      "\u001b[1;31m---------------------------------------------------------------------------\u001b[0m",
      "\u001b[1;31mFileNotFoundError\u001b[0m                         Traceback (most recent call last)",
      "Cell \u001b[1;32mIn[39], line 9\u001b[0m\n\u001b[0;32m      7\u001b[0m     os\u001b[39m.\u001b[39mrename(\u001b[39m'\u001b[39m\u001b[39mMotorLAB_drivecycledata.mat\u001b[39m\u001b[39m'\u001b[39m,rename_matfile)\n\u001b[0;32m      8\u001b[0m     \u001b[39mreturn\u001b[39;00m rename_matfile\n\u001b[1;32m----> 9\u001b[0m fun_lab_duty_temp_rise_2matfile(\u001b[39m'\u001b[39;49m\u001b[39mOP1_temp_rise\u001b[39;49m\u001b[39m'\u001b[39;49m)\n",
      "Cell \u001b[1;32mIn[39], line 7\u001b[0m, in \u001b[0;36mfun_lab_duty_temp_rise_2matfile\u001b[1;34m(ext_Duty_Cycle)\u001b[0m\n\u001b[0;32m      5\u001b[0m os\u001b[39m.\u001b[39mchdir(Lab_path)\n\u001b[0;32m      6\u001b[0m rename_matfile\u001b[39m=\u001b[39mext_Duty_Cycle\u001b[39m+\u001b[39m\u001b[39m'\u001b[39m\u001b[39m_lab_result.mat\u001b[39m\u001b[39m'\u001b[39m\n\u001b[1;32m----> 7\u001b[0m os\u001b[39m.\u001b[39;49mrename(\u001b[39m'\u001b[39;49m\u001b[39mMotorLAB_drivecycledata.mat\u001b[39;49m\u001b[39m'\u001b[39;49m,rename_matfile)\n\u001b[0;32m      8\u001b[0m \u001b[39mreturn\u001b[39;00m rename_matfile\n",
      "\u001b[1;31mFileNotFoundError\u001b[0m: [WinError 2] 지정된 파일을 찾을 수 없습니다: 'MotorLAB_drivecycledata.mat' -> 'OP1_temp_rise_lab_result.mat'"
     ]
    }
   ],
   "source": [
    "def fun_lab_duty_temp_rise_2matfile(ext_Duty_Cycle):\n",
    "    ex, motpath=mcApp.GetVariable(\"CurrentMotFilePath_MotorLAB\")\n",
    "    motpath=re.sub(\".mot\",\"\",motpath)\n",
    "    Lab_path=motpath+'/Lab/'\n",
    "    os.chdir(Lab_path)\n",
    "    rename_matfile=ext_Duty_Cycle+'_lab_result.mat'\n",
    "    os.renames('MotorLAB_drivecycledata.mat',rename_matfile)\n",
    "    return rename_matfile\n",
    "fun_lab_duty_temp_rise_2matfile('OP1_temp_rise')\n",
    "\n"
   ]
  },
  {
   "cell_type": "code",
   "execution_count": 41,
   "metadata": {},
   "outputs": [],
   "source": [
    "    rename_matfile=ext_Duty_Cycle+'_lab_result.mat'\n",
    "    Mat_File_Data=loadmat(rename_matfile)\n",
    "    Mat_File_Speed=Mat_File_Data['Speed']\n",
    "    Mat_File_Torque=Mat_File_Data['Shaft_Torque']\n",
    "    Mat_File_Power=Mat_File_Data['Shaft_Power']\n",
    "    Mat_File_Torque=Mat_File_Torque.flatten()\n",
    "    Mat_File_Power=Mat_File_Power.flatten()\n",
    "    Mat_File_Speed=Mat_File_Speed.flatten()"
   ]
  },
  {
   "cell_type": "code",
   "execution_count": 64,
   "metadata": {},
   "outputs": [
    {
     "data": {
      "text/plain": [
       "dict_keys(['__header__', '__version__', '__globals__', 'Shaft_Torque', 'Drive_Cycle_Torque', 'Iq_RMS', 'Electromagnetic_Torque', 'Reluctance_Torque', 'kT_Torque_Constant_RMS', 'Phase_Advance', 'Id_RMS', 'Voltage_Line_RMS', 'Efficiency', 'Iron_Loss_Rotor', 'Phase_Resistance_DC_at_20C', 'Drive_Cycle_Power', 'Stator_Current_Line_Peak', 'Voltage_Phase_Peak', 'varStr', 'varUnitTypes', 'varUnits', 'Iron_Loss_Stator_Tooth', 'Open_Circuit_EMF_Peak', 'Stator_Copper_Loss_AC', 'Vehicle_Speed', 'Open_Circuit_EMF_RMS', 'Iron_Loss_Rotor_Pole', 'Sleeve_Loss', 'Torque_Error', 'Stator_Copper_Loss', 'Total_Loss', 'Drive_Cycle_Period', 'Power_Factor', 'Stator_Copper_Loss_DC', 'Iron_Loss', 'kE_EMF_Constant_Peak', 'Stator_Current_Phase_RMS', 'Iron_Loss_Stator', 'Gear_Ratio', 'Iq_Peak', 'Iron_Loss_Hysteresis', 'Drive_Cycle_Current', 'calcType', 'varXunits', 'Electromagnetic_Power', 'Id_Peak', 'Iron_Loss_Rotor_Back_Iron', 'PM_Flux_Linkage', 'Magnet_Temp', 'Vd_RMS', 'Banding_Loss', 'Speed_Error', 'DriveCycle', 'varXaxis', 'varZunits', 'Vd_Peak', 'motorType', 'Transient', 'Stator_Current_Line_RMS', 'DC_Bus_Voltage', 'Voltage_Phase_RMS', 'Iron_Loss_Stator_Back_Iron', 'Time', 'Magnet_Torque', 'Iron_Loss_Eddy', 'Flux_Linkage_Q', 'ExpData', 'Terminal_Power', 'Frequency', 'Friction_Loss', 'Flux_Linkage_D', 'Custom_Loss_Total', 'Transpose_1D_Data', 'Bearing_Temp_Front', 'Ld', 'Windage_Loss', 'Current_Error', 'Lq', 'kT_Torque_Constant_Peak', 'Magnet_Loss', 'Stator_Current_Phase_Peak', 'varYaxis', 'Power_Error', 'Stator_Winding_Temp_Average', 'Voltage_Line_Peak', 'kE_EMF_Constant_RMS', 'varZaxis', 'External_Line_Loss', 'varYunits', 'Idc', 'Mechanical_Loss', 'Airgap_Temp', 'Drive_Cycle_Speed', 'Bearing_Temp_Rear', 'Vq_RMS', 'Vq_Peak', 'Shaft_Power', 'Duration', 'Speed'])"
      ]
     },
     "execution_count": 64,
     "metadata": {},
     "output_type": "execute_result"
    }
   ],
   "source": [
    "Mat_File_Data.keys()"
   ]
  },
  {
   "cell_type": "code",
   "execution_count": 73,
   "metadata": {},
   "outputs": [
    {
     "ename": "SyntaxError",
     "evalue": "invalid syntax (4263532243.py, line 5)",
     "output_type": "error",
     "traceback": [
      "\u001b[1;36m  Cell \u001b[1;32mIn[73], line 5\u001b[1;36m\u001b[0m\n\u001b[1;33m    Temp_name=key\u001b[0m\n\u001b[1;37m    ^\u001b[0m\n\u001b[1;31mSyntaxError\u001b[0m\u001b[1;31m:\u001b[0m invalid syntax\n"
     ]
    }
   ],
   "source": [
    "\n",
    "Mat_File_Data.keys()\n",
    "for v in (Mat_File_Data.get(key) \n",
    "          for key in Mat_File_Data.keys() \n",
    "            if 'Temp' in key): \n",
    "    print(Temp_name)\n",
    "                "
   ]
  },
  {
   "cell_type": "code",
   "execution_count": 95,
   "metadata": {},
   "outputs": [
    {
     "ename": "SyntaxError",
     "evalue": "invalid syntax (3173212.py, line 4)",
     "output_type": "error",
     "traceback": [
      "\u001b[1;36m  Cell \u001b[1;32mIn[95], line 4\u001b[1;36m\u001b[0m\n\u001b[1;33m    (for key in dic.keys() if '3학년' in key)\u001b[0m\n\u001b[1;37m     ^\u001b[0m\n\u001b[1;31mSyntaxError\u001b[0m\u001b[1;31m:\u001b[0m invalid syntax\n"
     ]
    }
   ],
   "source": [
    "dic = {'홍길동 3학년': '123 456', '123 456': '홍길동 3학년', '홍길순 3학년':'456 789', '456 789': '홍길순'}\n",
    "a=dic.keys()\n",
    "\n",
    "for key in dic.keys() \n",
    "\n",
    "# for v in (dic.get(key) \n",
    "#           for key in dic.keys() \n",
    "#           if '3학년' in key):  # 사전의 키값중에 3학년이 포함된 것만 값을 얻는다.\n",
    "\n",
    "#           print(v)"
   ]
  },
  {
   "cell_type": "code",
   "execution_count": null,
   "metadata": {},
   "outputs": [],
   "source": [
    "for v in (dic.get(key) for key in dic.keys() if '3학년' in key): \n",
    "    # 사전의 키값중에 3학년이 포함된 것만 값을 얻는다.\n",
    "    ...:     print(v)\n"
   ]
  },
  {
   "cell_type": "code",
   "execution_count": null,
   "metadata": {},
   "outputs": [],
   "source": [
    "def fun_load_matfile(ext_Duty_Cycle):\n",
    "    ex, motpath=mcApp.GetVariable(\"CurrentMotFilePath_MotorLAB\")\n",
    "    motpath=re.sub(\".mot\",\"\",motpath)\n",
    "    Lab_path=motpath+'/Lab/'\n",
    "    os.chdir(Lab_path)\n",
    "    rename_matfile=ext_Duty_Cycle+'_lab_result.mat'\n",
    "    Mat_File_Data=loadmat(rename_matfile)\n",
    "    Mat_File_Speed=Mat_File_Data['Speed']\n",
    "    Mat_File_Torque=Mat_File_Data['Shaft_Torque']\n",
    "    Mat_File_Power=Mat_File_Data['Shaft_Power']\n",
    "    Mat_File_Torque=Mat_File_Torque.flatten()\n",
    "    Mat_File_Power=Mat_File_Power.flatten()\n",
    "    Mat_File_Speed=Mat_File_Speed.flatten()\n",
    "    return Mat_File_Speed, Mat_File_Torque, Mat_File_Power\n",
    "\n",
    "Mat_File_Name     = 'MotorLAB_elecdata.mat'                   # *.mat file automatically generated by Motor-CAD\n",
    "Mat_File_Path     = join(mot_file_dir, 'Lab', Mat_File_Name)  # Point to the *.mat file\n",
    "Mat_File_Data     = loadmat(Mat_File_Path)                    # Load data from the *.mat file\n",
    "Mat_File_Speed    = Mat_File_Data['Speed']                    # Load speed data\n",
    "Mat_File_Torque   = Mat_File_Data['Shaft_Torque']             # Load shaft torque data    \n",
    "Mat_File_Power    = Mat_File_Data['Shaft_Power']              # Load shaft power data\n",
    "Mat_File_Torque   = Mat_File_Torque.flatten()                 # Necessary to be read by list_2_list_variant()\n",
    "Mat_File_Power    = Mat_File_Power.flatten()  \n",
    "Mat_File_Speed    = Mat_File_Speed.flatten()\n"
   ]
  },
  {
   "cell_type": "code",
   "execution_count": 17,
   "metadata": {},
   "outputs": [
    {
     "ename": "NameError",
     "evalue": "name 'res' is not defined",
     "output_type": "error",
     "traceback": [
      "\u001b[1;31m---------------------------------------------------------------------------\u001b[0m",
      "\u001b[1;31mNameError\u001b[0m                                 Traceback (most recent call last)",
      "Cell \u001b[1;32mIn[17], line 15\u001b[0m\n\u001b[0;32m     13\u001b[0m path\u001b[39m=\u001b[39m\u001b[39m'\u001b[39m\u001b[39mD:/KangDH/Optislang_Motorcad/IPM_HDEV_2/MCAD/HDEV_Thesis2/DutyCycleData/\u001b[39m\u001b[39m'\u001b[39m\n\u001b[0;32m     14\u001b[0m ext_Duty_Cycle\u001b[39m=\u001b[39m\u001b[39m'\u001b[39m\u001b[39mOP1_temp_rise\u001b[39m\u001b[39m'\u001b[39m\n\u001b[1;32m---> 15\u001b[0m fun_temp_rise_external_dutycyle(path,ext_Duty_Cycle)\n",
      "Cell \u001b[1;32mIn[17], line 12\u001b[0m, in \u001b[0;36mfun_temp_rise_external_dutycyle\u001b[1;34m(path, ext_Duty_Cycle)\u001b[0m\n\u001b[0;32m     10\u001b[0m mcApp\u001b[39m.\u001b[39mSaveTransientTemperatures(Temp_filename)\n\u001b[0;32m     11\u001b[0m mcApp\u001b[39m.\u001b[39mSaveTransientPowerValues(power_filename)\n\u001b[1;32m---> 12\u001b[0m \u001b[39mreturn\u001b[39;00m res\n",
      "\u001b[1;31mNameError\u001b[0m: name 'res' is not defined"
     ]
    }
   ],
   "source": [
    "\n",
    "def fun_temp_rise_external_dutycyle(path,ext_Duty_Cycle):\n",
    "    ext_Duty_Cycle_full=join(path,ext_Duty_Cycle)+'.dat' \n",
    "    # mcApp = win32com.client.Dispatch(\"MotorCAD.AppAutomation\")  # Launch Motor-CAD application\n",
    "    mcApp.SetMotorLABContext()                       # Lab context\n",
    "    mcApp.LoadDutyCycle(ext_Duty_Cycle_full)\n",
    "    mcApp.SetVariable('InitialTransientTemperatureOption',3)\n",
    "    mcApp.CalculateDutyCycle_Lab()\n",
    "    # Temp_filename=ext_Duty_Cycle+'_temp.csv'\n",
    "    # power_filename=ext_Duty_Cycle+'_power.csv'\n",
    "    # mcApp.SaveTransientTemperatures(Temp_filename)\n",
    "    # mcApp.SaveTransientPowerValues(power_filename)\n",
    "    \n",
    "    res='done'\n",
    "    return res\n",
    "path='D:/KangDH/Optislang_Motorcad/IPM_HDEV_2/MCAD/HDEV_Thesis2/DutyCycleData/'\n",
    "ext_Duty_Cycle='OP1_temp_rise'\n",
    "fun_temp_rise_external_dutycyle(path,ext_Duty_Cycle)\n"
   ]
  },
  {
   "cell_type": "code",
   "execution_count": 18,
   "metadata": {},
   "outputs": [
    {
     "data": {
      "text/plain": [
       "-1"
      ]
     },
     "execution_count": 18,
     "metadata": {},
     "output_type": "execute_result"
    }
   ],
   "source": [
    "ext_Duty_Cycle='OP1_temp_rise'\n",
    "Temp_filename=ext_Duty_Cycle+'_temp.csv'\n",
    "power_filename=ext_Duty_Cycle+'_power.csv'\n",
    "mcApp.SaveTransientTemperatures(Temp_filename)\n",
    "mcApp.SaveTransientPowerValues(power_filename)"
   ]
  },
  {
   "cell_type": "code",
   "execution_count": 4,
   "metadata": {},
   "outputs": [
    {
     "data": {
      "text/plain": [
       "0"
      ]
     },
     "execution_count": 4,
     "metadata": {},
     "output_type": "execute_result"
    }
   ],
   "source": [
    "\n",
    "ext_Duty_Cycle='D:\\KangDH\\Optislang_Motorcad\\IPM_HDEV_2\\MCAD\\HDEV_Thesis2\\DutyCycleData\\OP1_temp_rise.dat'\n",
    "mc.LoadDutyCycle(ext_Duty_Cycle)\n",
    "mc.SetVariable('InitialTransientTemperatureOption',3)\n",
    "# mc.CalculateDutyCycle_Lab()\n",
    "# mc.CalculateThermal_Lab()\n",
    "# mc.DoMagneticThermalCalculation()\n",
    "mc.DoTransientAnalysis()"
   ]
  },
  {
   "cell_type": "code",
   "execution_count": null,
   "metadata": {},
   "outputs": [],
   "source": [
    "refdir=\"D:\\KDH\\Thesis\\Rotem_HDEV\\MCAD\"\n",
    "wdir=\"D:\\KDH\\Thesis\\Rotem_HDEV\\MCADNEW\"\n",
    "Design_Name = \"Rotem_220413\""
   ]
  },
  {
   "cell_type": "code",
   "execution_count": null,
   "metadata": {},
   "outputs": [],
   "source": [
    "# Modes\n",
    "#    * OSL-runtime mode : in optiSLang environment, when running a parametric, sensitivity or optimisation study\n",
    "#    * OSL-setup mode   : in optiSlang environment, when initialising the script and i/o (Python integration node)\n",
    "#    * IDE-run          : in IDE console, for testing purpose only\n",
    "\n",
    "# Mode detection\n",
    "if 'OSL_PROJECT_DIR' in locals():                       # Working in optiSLang \n",
    "    within_OSL = True\n",
    "else:\n",
    "    within_OSL = False                                  # Working in IDE console \n",
    "    OSL_REGULAR_EXECUTION = False\n",
    "    OSL_DESIGN_NAME = 'Design0001'   \n",
    "    OSL_DESIGN_NO   = 1.0    \n",
    "\n",
    "\n",
    "if within_OSL:                                          # Working in optiSLang\n",
    "    if OSL_REGULAR_EXECUTION:\n",
    "        run_mode = 'OSL_run'                            # OSL-runtime mode\n",
    "    else:\n",
    "        run_mode = 'OSL_setup'                          # OSL-setup mode\n",
    "    from pyvariant import list_list_2_variant_signal\n",
    "else:                                                   # Working in IDE\n",
    "    run_mode = 'IDE_run'                                # IDE-run mode\n",
    "\n",
    "# Directories\n",
    "if run_mode.startswith('OSL'):                                 # Working in optiSLang \n",
    "    print('[INFO] Running in OSL environment')\n",
    "    wdir = OSL_DESIGN_DIR\n",
    "    refdir = join(dirname(dirname(OSL_PROJECT_DIR)), 'MCAD')\n",
    "    print('[INFO] Working directory: ', wdir)\n",
    "    print('[INFO] Reference MCAD directory: ', refdir)\n",
    "else:                                                          # Working in IDE console\n",
    "    print('[INFO] Running in IDE console')\n",
    "    #refdir = join(dirname(dirname('Rotem_HDEV.ipynb')), 'MCAD')\n",
    "    refdir=\"D:\\KDH\\Thesis\\Rotem_HDEV\\MCAD\"\n",
    "    wdir = join(getcwd(), 'test_run')\n",
    "    if not exists(wdir):\n",
    "        os.mkdir(wdir)\n",
    "    print('[INFO] Working directory: ', wdir)\n",
    "    print('[INFO] Reference MCAD directory: ', refdir)\n",
    "    "
   ]
  },
  {
   "cell_type": "code",
   "execution_count": null,
   "metadata": {},
   "outputs": [],
   "source": [
    "dirname('Rotem_HDEV.ipynb')"
   ]
  },
  {
   "cell_type": "markdown",
   "metadata": {},
   "source": [
    "# 2.모터캐드 모델 정의 "
   ]
  },
  {
   "cell_type": "markdown",
   "metadata": {},
   "source": [
    "## 형상"
   ]
  },
  {
   "cell_type": "code",
   "execution_count": null,
   "metadata": {},
   "outputs": [],
   "source": [
    "# Machine length\n",
    "def fun_Machine_Length(p_EndSpace_Height, p_Wdg_Overhang, i_Active_Length):\n",
    "    res = i_Active_Length + 2*(p_EndSpace_Height + p_Wdg_Overhang)\n",
    "    return res\n",
    "\n",
    "# Active volume\n",
    "def fun_Active_Volume(Stator_OD, Active_Length):  \n",
    "    res = pi*Stator_OD**2/4*Active_Length*1e-9\n",
    "    return res\n",
    "\n",
    "# Air pocket\n",
    "def fun_Air_Pocket(Mag_Thick, Mag_Clear):\n",
    "    res = (Mag_Thick + Mag_Clear)/2 \n",
    "    return res\n",
    "\n",
    "### Performances\n",
    "\n",
    "# Torque density\n",
    "def fun_Torque_Density(Torque, Volume):           \n",
    "    res = Torque/Volume*1e-3\n",
    "    return res\n",
    " \n",
    "# Stress safety factor\n",
    "def fun_Stress_Safety(Rotor_Yield, Stress_Max):            \n",
    "    res = Rotor_Yield/Stress_Max\n",
    "    return res"
   ]
  },
  {
   "cell_type": "markdown",
   "metadata": {},
   "source": [
    "##  Inputs"
   ]
  },
  {
   "cell_type": "code",
   "execution_count": null,
   "metadata": {},
   "outputs": [],
   "source": [
    "### Motor-CAD options\n",
    "\n",
    "Design_Name = \"Rotem_220413\"   # Reference Motor-CAD design\n",
    "\n",
    "Visible_Opt     = 1.           # Set Motor-CAD visible\n",
    "Message_Display = 1.           # Display all pop-up messages \n",
    "Save_Prompt     = 1.           # Never prompt to save file\n",
    "\n"
   ]
  },
  {
   "attachments": {
    "image.png": {
     "image/png": "[encoded data removed]"
    }
   },
   "cell_type": "markdown",
   "metadata": {},
   "source": [
    "![image.png](attachment:image.png)"
   ]
  },
  {
   "cell_type": "markdown",
   "metadata": {},
   "source": []
  },
  {
   "cell_type": "code",
   "execution_count": null,
   "metadata": {},
   "outputs": [],
   "source": [
    "### Geometry\n",
    "\n",
    "p_Pole_Pair            = 8.    # Number of rotor poles\n",
    "p_Stator_Slots         = 48.   # Number of stator slots\n",
    "p_Tooth_Tip_Depth      = 1.    # Tooth tip depth\n",
    "p_Tooth_Tip_Angle      = 30.   # Tooth tip angle\n",
    "p_Stator_OD            = 300.  # Stator outer diameter\n",
    "p_EndSpace_Height      = 15.   # Space between winding ends and caps\n",
    "p_Wdg_Overhang         = 20.   # Winding overhang height\n",
    "p_Airgap_Mecha         = 1.    # Mechanical airgap\n",
    "p_Mag_Clear            = 0.5   # Magnet clearance\n",
    "p_Shaft_OD_Ratio       = 0.7   # Ratio of shaft diameter\n",
    "p_Mag_Width_Ratio      = 1.0   # Ratio of magnet width\n",
    "p_Mag_Separation_Min   = 2.0    # Minimum separation between magnet poles\n",
    "p_Shaft_Separation_Min = 5.0   # Minimum separation between shaft and magnets\n",
    "p_Mag_AspectRatio_Min  = 0.5   # Minimum magnet aspect ratio\n",
    "\n",
    "### Winding\n",
    "p_Coils_Slot    = 2.    # Number of coils going through each slot\n",
    "p_Turns_Coil    = 40.   # Number of turns per coil\n",
    "p_Parallel_Path = 8.    # Number of parallel paths per phase\n",
    "p_Slot_Fill     = 0.4   # Copper slot fill factor\n",
    "\n",
    "### Materials\n",
    "p_Yield_Rotor  = 460.   # Rotor core yield strength\n",
    "p_Temp_Wdg_Max = 180.   # Maximum winding temperature\n",
    "p_Temp_Mag_Max = 140.   # Maximum magnet temperature\n",
    "\n",
    "### Performance\n",
    "p_Speed_Max        = 7000.   # Maximum operating speed\n",
    "p_Line_Current_RMS = 500.    # Maximum RMS line current\n",
    "\n",
    "### Calculation settings\n",
    "p_Speed_Lab_Step    = 100.                              # Speed step used in Lab\n",
    "p_Speed_Peak_Array  = np.array([500., 3000., 6000.])    # Speeds for peak performance calculation \n",
    "p_Speed_Cont_Array  = np.array([1000., 4000.])          # Speeds for continuous performance calculation\n",
    "p_Torque_Pts        = 90         \n",
    "\n",
    "### Post-processing \n",
    "Pic_Export = 1      # Export geometry snapshots (0: No  1: Yes)\n",
    "\n",
    " ### Dependent parameters   \n",
    "Speed_Max_Rad = pi*p_Speed_Max/30                                               # Maximum speed in radians\n",
    "Speed_Lab     = np.arange(0, p_Speed_Max + p_Speed_Lab_Step, p_Speed_Lab_Step)  # Speed vector in Lab\n",
    "Speed_Lab     = Speed_Lab.tolist()                                              # Required for signal generation\n",
    "Speed_Lab_Len = len(Speed_Lab)     "
   ]
  },
  {
   "cell_type": "code",
   "execution_count": 28,
   "metadata": {},
   "outputs": [],
   "source": [
    "ex, o_WLTP3_Eff = mcApp.GetVariable(\"DutyCycleAverageEfficiency_EnergyUse\")   # Get efficiency value \n",
    "ex, o_Wh_magnet = mcApp.GetVariable(\"DutyCycleTotalLoss_Magnet\")   # Get efficiency value \n",
    "ex, o_Wh_mecha = mcApp.GetVariable(\"DutyCycleTotalLoss_Mechanical\")   # Get efficiency value \n",
    "ex, o_Wh_Copper = mcApp.GetVariable(\"DutyCycleTotalLoss_StatorCopper\")   # Get efficiency value \n",
    "ex, o_Wh_Iron = mcApp.GetVariable(\"DutyCycleTotalLoss_Iron\")   # Get efficiency value \n",
    "ex, o_Wh_Loss = mcApp.GetVariable(\"DutyCycleTotalLoss\")   # Get efficiency value \n",
    "ex, o_Wh_Shaft = mcApp.GetVariable(\"DutyCycleTotalEnergy_Shaft_Output\")   # Get efficiency value \n",
    "ex, o_Wh_input = mcApp.GetVariable(\"DutyCycleTotalEnergy_Electrical_Input\")   # Get efficiency value \n"
   ]
  },
  {
   "cell_type": "code",
   "execution_count": 30,
   "metadata": {},
   "outputs": [
    {
     "data": {
      "text/plain": [
       "0.0"
      ]
     },
     "execution_count": 30,
     "metadata": {},
     "output_type": "execute_result"
    }
   ],
   "source": [
    "o_Wh_Shaft"
   ]
  },
  {
   "cell_type": "code",
   "execution_count": 2,
   "metadata": {},
   "outputs": [],
   "source": [
    "### Performance\n",
    "p_Speed_Max        = 5000.   # Maximum operating speed\n",
    "\n",
    "### Calculation settings\n",
    "p_Speed_Lab_Step    = 100.                              # Speed step used in Lab\n",
    "p_Speed_Peak_Array  = np.array([1700.])    # Speeds for peak performance calculation \n",
    "p_Speed_Cont_Array  = np.array([1700., 4000.])          # Speeds for continuous performance calculation\n",
    "p_Torque_Pts        = 90                                # Timesteps per cycle for torque calculation                                              \n",
    "\n",
    "### Post-processing\n",
    "Pic_Export = 1      # Export geometry snapshots (0: No  1: Yes)\n",
    "\n",
    "### Dependent parameters\n",
    "Speed_Max_Rad = pi*p_Speed_Max/30                                               # Maximum speed in radians\n",
    "Speed_Lab     = np.arange(0, p_Speed_Max + p_Speed_Lab_Step, p_Speed_Lab_Step)  # Speed vector in Lab\n",
    "Speed_Lab     = Speed_Lab.tolist()                                              # Required for signal generation\n",
    "Speed_Lab_Len = len(Speed_Lab)                                                  # Required for signal generation\n",
    "                    "
   ]
  },
  {
   "cell_type": "markdown",
   "metadata": {},
   "source": [
    "### Input parameters for testing in IDE or initialisation in OSL Python node"
   ]
  },
  {
   "cell_type": "code",
   "execution_count": null,
   "metadata": {},
   "outputs": [],
   "source": [
    "if run_mode in ['OSL_setup', 'IDE_run']:\n",
    "\n",
    "    i_Active_Length     = 110.   # Active length\n",
    "    i_Mag_Thick         = 5.5    # Magnet thickness\n",
    "    i_Mag_Post          = 2.0    # Magnet post\n",
    "    i_Bridge_Thick      = 1.0    # Bridge thickness\n",
    "    i_Pole_V_Angle      = 110.   # V-angle in mech. degrees\n",
    "    i_Split_Ratio       = 0.6    # Ratio of stator bore\n",
    "    i_Tooth_Width_Ratio = 0.5    # Ratio of tooth width\n",
    "    i_Slot_Depth_Ratio  = 0.6    # Ratio of slot depth\n",
    "    i_Slot_Op_Ratio     = 0.7    # Ratio of slot opening\n",
    "    i_Pole_Arc_Ratio    = 0.8    # Ratio of pole arc or magnet V width\n",
    "\n",
    "\n",
    "### Real solver run: 'IDE_run' mode or 'OSL_run' mode\n",
    "#if run_mode.endswith('run'):   "
   ]
  },
  {
   "cell_type": "markdown",
   "metadata": {},
   "source": [
    "# 3.CALCULATIONS       \n"
   ]
  },
  {
   "cell_type": "markdown",
   "metadata": {},
   "source": [
    "### pre-calculations in PYTHON   \n",
    "\n"
   ]
  },
  {
   "cell_type": "code",
   "execution_count": null,
   "metadata": {},
   "outputs": [],
   "source": [
    "### Geometry parameters\n",
    "Machine_Length = fun_Machine_Length(p_EndSpace_Height, p_Wdg_Overhang, i_Active_Length)\n",
    "Air_Pocket     = fun_Air_Pocket(i_Mag_Thick, p_Mag_Clear)\n",
    "Active_Volume  = fun_Active_Volume(p_Stator_OD, i_Active_Length)     # In [m3]"
   ]
  },
  {
   "cell_type": "markdown",
   "metadata": {},
   "source": [
    "###    MOTOR-CAD   \n"
   ]
  },
  {
   "cell_type": "code",
   "execution_count": 18,
   "metadata": {},
   "outputs": [
    {
     "ename": "NameError",
     "evalue": "name 'Message_Display' is not defined",
     "output_type": "error",
     "traceback": [
      "\u001b[1;31m---------------------------------------------------------------------------\u001b[0m",
      "\u001b[1;31mNameError\u001b[0m                                 Traceback (most recent call last)",
      "\u001b[1;32mC:\\Users\\KDH201~1\\AppData\\Local\\Temp/ipykernel_44332/3444978220.py\u001b[0m in \u001b[0;36m<module>\u001b[1;34m\u001b[0m\n\u001b[0;32m      2\u001b[0m \u001b[0mmcApp\u001b[0m \u001b[1;33m=\u001b[0m \u001b[0mwin32com\u001b[0m\u001b[1;33m.\u001b[0m\u001b[0mclient\u001b[0m\u001b[1;33m.\u001b[0m\u001b[0mDispatch\u001b[0m\u001b[1;33m(\u001b[0m\u001b[1;34m\"MotorCAD.AppAutomation\"\u001b[0m\u001b[1;33m)\u001b[0m  \u001b[1;31m# Launch Motor-CAD application\u001b[0m\u001b[1;33m\u001b[0m\u001b[1;33m\u001b[0m\u001b[0m\n\u001b[0;32m      3\u001b[0m \u001b[1;31m#mcApp.Visible = Visible_Opt                                 # Set Motor-CAD visible or not\u001b[0m\u001b[1;33m\u001b[0m\u001b[1;33m\u001b[0m\u001b[1;33m\u001b[0m\u001b[0m\n\u001b[1;32m----> 4\u001b[1;33m \u001b[0mmcApp\u001b[0m\u001b[1;33m.\u001b[0m\u001b[0mSetVariable\u001b[0m\u001b[1;33m(\u001b[0m\u001b[1;34m'MessageDisplayState'\u001b[0m\u001b[1;33m,\u001b[0m \u001b[0mMessage_Display\u001b[0m\u001b[1;33m)\u001b[0m   \u001b[1;31m# Set state of message display\u001b[0m\u001b[1;33m\u001b[0m\u001b[1;33m\u001b[0m\u001b[0m\n\u001b[0m\u001b[0;32m      5\u001b[0m \u001b[0mmcApp\u001b[0m\u001b[1;33m.\u001b[0m\u001b[0mSetVariable\u001b[0m\u001b[1;33m(\u001b[0m\u001b[1;34m\"SavePrompt\"\u001b[0m\u001b[1;33m,\u001b[0m \u001b[0mSave_Prompt\u001b[0m\u001b[1;33m)\u001b[0m                \u001b[1;31m# Remove autosave function or not\u001b[0m\u001b[1;33m\u001b[0m\u001b[1;33m\u001b[0m\u001b[0m\n\u001b[0;32m      6\u001b[0m \u001b[0mmyPID\u001b[0m \u001b[1;33m=\u001b[0m \u001b[0mos\u001b[0m\u001b[1;33m.\u001b[0m\u001b[0mgetpid\u001b[0m\u001b[1;33m(\u001b[0m\u001b[1;33m)\u001b[0m                                                                                     \u001b[1;31m# Pass this process id to Motor-CAD so that Motor-CAD will\u001b[0m\u001b[1;33m\u001b[0m\u001b[1;33m\u001b[0m\u001b[0m\n",
      "\u001b[1;31mNameError\u001b[0m: name 'Message_Display' is not defined"
     ]
    }
   ],
   "source": [
    "### Load reference Motor-CAD file\n",
    "mcApp = win32com.client.Dispatch(\"MotorCAD.AppAutomation\")  # Launch Motor-CAD application\n",
    "#mcApp.Visible = Visible_Opt                                 # Set Motor-CAD visible or not\n",
    "mcApp.SetVariable('MessageDisplayState', Message_Display)   # Set state of message display \n",
    "mcApp.SetVariable(\"SavePrompt\", Save_Prompt)                # Remove autosave function or not\n",
    "myPID = os.getpid()\t\t\t\t\t\t\t\t\t\t\t# Pass this process id to Motor-CAD so that Motor-CAD will \n",
    "print(myPID)                                                # close when this process completes\n",
    "mcApp.SetVariable(\"OwnerProcessID\", myPID)\n",
    "mcApp.ShowMessage(myPID)      \n",
    "mot_file_ref_path = join(refdir, Design_Name + \".mot\")                       # Path to the reference *.mot file\n",
    "mot_file_new_path = join(wdir, Design_Name + '_' + OSL_DESIGN_NAME + \".mot\") # Path to the new *.mot file\n",
    "print(\"[INFO] Load reference MCAD file from: \", mot_file_ref_path)                                    \n",
    "mcApp.LoadFromFile(mot_file_ref_path)                                        # Load reference Motor-CAD file\n",
    "print(\"[INFO] Design file saved as: \", mot_file_new_path)                                    \n",
    "mcApp.SaveToFile(mot_file_new_path)                                          # Save in new location\n",
    "mot_file_dir = join(wdir, Design_Name + '_' + OSL_DESIGN_NAME)\n"
   ]
  },
  {
   "attachments": {},
   "cell_type": "markdown",
   "metadata": {},
   "source": [
    "# Test"
   ]
  },
  {
   "cell_type": "code",
   "execution_count": null,
   "metadata": {},
   "outputs": [],
   "source": [
    "### Calculation settings\n",
    "p_Speed_Lab_Step    = 500.                              # Speed step used in Lab\n",
    "p_Speed_Peak_Array  = np.array([1700.])    # Speeds for peak performance calculation \n",
    "p_Speed_Cont_Array  = np.array([1700., 4000.])          # Speeds for continuous performance calculation\n",
    "p_Torque_Pts        = 90                                # Timesteps per cycle for torque calculation                                              \n"
   ]
  },
  {
   "cell_type": "code",
   "execution_count": 45,
   "metadata": {},
   "outputs": [
    {
     "data": {
      "text/plain": [
       "2500.0"
      ]
     },
     "execution_count": 45,
     "metadata": {},
     "output_type": "execute_result"
    }
   ],
   "source": [
    "4000/60*2*pi*380/1000 # 160kw\n",
    "1700/60*2*pi*900/1000 # 160kw\n",
    "1700/60*2*pi*1300/1000 # 230kw\n",
    "230/4000*60/2/pi*1000\n",
    "\n",
    "import numpy as np\n",
    "from numpy import pi\n",
    "# Ke @1700rpm\n",
    "N=2.5\n",
    "Ipk=1000\n",
    "AmT=N*Ipk\n",
    "\n",
    "Kt=1300*N/AmT\n",
    "Ke=Kt*3/2\n",
    "rpm=5000\n",
    "rps=rpm/60\n",
    "omega=rps*2*pi\n",
    "EMF=Ke*omega\n",
    "EMF\n",
    "AmT"
   ]
  },
  {
   "cell_type": "code",
   "execution_count": null,
   "metadata": {},
   "outputs": [],
   "source": []
  },
  {
   "cell_type": "code",
   "execution_count": 5,
   "metadata": {},
   "outputs": [],
   "source": [
    " # Calculation & Data management\n",
    "    # mcApp.CalculateMagnetic_Lab()                                 # Run calculation\n",
    "\n",
    "mot_file_dir = 'Z:/Thesis/HDEV/02_MotorCAD/MOT/12P72S_N42EH_Maxis_Br_95pro_LScoil_11T_1007_export/'\n",
    "Mat_File_Name     = 'MotorLAB_elecdata.mat'                   # *.mat file automatically generated by Motor-CAD\n",
    "Mat_File_Path     = join(mot_file_dir, 'Lab', Mat_File_Name)  # Point to the *.mat file\n",
    "Mat_File_Data     = loadmat(Mat_File_Path)                    # Load data from the *.mat file\n",
    "Mat_File_Speed    = Mat_File_Data['Speed']                    # Load speed data\n",
    "Mat_File_Torque   = Mat_File_Data['Shaft_Torque']             # Load shaft torque data    \n",
    "Mat_File_Power    = Mat_File_Data['Shaft_Power']              # Load shaft power data\n",
    "Mat_File_Torque   = Mat_File_Torque.flatten()                 # Necessary to be read by list_2_list_variant()\n",
    "Mat_File_Power    = Mat_File_Power.flatten()  \n",
    "Mat_File_Speed    = Mat_File_Speed.flatten()\n",
    "\n",
    "# Extract specific values\n",
    "Peak_Power_Array = np.zeros(len(p_Speed_Peak_Array))   # Peak power array initialisation\n",
    "Peak_Torque_Array = np.zeros(len(p_Speed_Peak_Array))  # Peak Torque array initialisation\n",
    "for i in range(len(p_Speed_Peak_Array)):\n",
    "    Ind_Speed = (np.abs(Mat_File_Speed - p_Speed_Peak_Array[i])).argmin()   # Index corresponding to the required speed\n",
    "    Peak_Power_Array[i]  = Mat_File_Power[Ind_Speed]                        # Peak power at the required speed \n",
    "    Peak_Torque_Array[i] = Mat_File_Torque[Ind_Speed]                       # Peak torque at the required speed \n",
    "o_Peak_Torque_1700rpm    = Peak_Torque_Array[0]      # In [Nm] \n",
    "o_Peak_Power_1700rpm      = Peak_Power_Array[0]       # In [kW]\n",
    "    \n",
    "#o_Cont_Power_4krpm       = Peak_Power_Array[1]       # In [kW]\n",
    "  "
   ]
  },
  {
   "cell_type": "code",
   "execution_count": 7,
   "metadata": {},
   "outputs": [
    {
     "data": {
      "text/plain": [
       "array([ 500., 3000., 6000.])"
      ]
     },
     "execution_count": 7,
     "metadata": {},
     "output_type": "execute_result"
    }
   ],
   "source": [
    "p_Speed_Peak_Array"
   ]
  },
  {
   "cell_type": "code",
   "execution_count": 14,
   "metadata": {},
   "outputs": [
    {
     "data": {
      "text/plain": [
       "0"
      ]
     },
     "execution_count": 14,
     "metadata": {},
     "output_type": "execute_result"
    }
   ],
   "source": [
    "mcApp = win32com.client.Dispatch(\"MotorCAD.AppAutomation\")  # Launch Motor-CAD application\n",
    "Message_Display=0\n",
    "mcApp.SetVariable('MessageDisplayState', Message_Display)   # Set state of message display \n"
   ]
  },
  {
   "attachments": {},
   "cell_type": "markdown",
   "metadata": {},
   "source": [
    "## Stator "
   ]
  },
  {
   "attachments": {},
   "cell_type": "markdown",
   "metadata": {},
   "source": [
    "### Absoulute Input (left table)"
   ]
  },
  {
   "cell_type": "code",
   "execution_count": 11,
   "metadata": {},
   "outputs": [
    {
     "data": {
      "text/plain": [
       "0"
      ]
     },
     "execution_count": 11,
     "metadata": {},
     "output_type": "execute_result"
    }
   ],
   "source": [
    "# Predefine Variable\n",
    "i_Slot_Corner_Radius    = 1.4     \n",
    "p_Tooth_Tip_Depth       = 1       \n",
    "p_Tooth_Tip_Angle       = 20      \n",
    "i_Stator_OD             = 400                            \n",
    "# Set Variable\n",
    "mcApp.SetVariable('Slot_Corner_Radius'  , i_Slot_Corner_Radius)               # Slot_Corner_Radius      \n",
    "mcApp.SetVariable('Tooth_Tip_Depth'     , p_Tooth_Tip_Depth)                  # Tooth tip depth\n",
    "mcApp.SetVariable('Tooth_Tip_Angle'     , p_Tooth_Tip_Angle)                  # Tooth tip angle\n",
    "mcApp.SetVariable('Stator_Lam_Dia'      , i_Stator_OD)                        # Stator OD "
   ]
  },
  {
   "attachments": {},
   "cell_type": "markdown",
   "metadata": {},
   "source": [
    "### Ratio  (Stator w Hierachy)"
   ]
  },
  {
   "cell_type": "code",
   "execution_count": 5,
   "metadata": {},
   "outputs": [
    {
     "data": {
      "text/plain": [
       "0"
      ]
     },
     "execution_count": 5,
     "metadata": {},
     "output_type": "execute_result"
    }
   ],
   "source": [
    "# Predefine Variable\n",
    "i_Split_Ratio                       =0.77                                          #Ratio of stator bore\n",
    "p_Slot_Depth_Ratio                  =1                                             #Ratio_SlotDepth_ParallelTooth\" )   ## Fixed\n",
    "#i_MinBackIronThickness                                                    #Abosolute be user-defined with Y to T ratio\n",
    "i_Tooth_Width_Ratio                 =0.6                                           #Ratio_ToothWidth\" ) \n",
    "u_YtoT                              =2.5                                           #ratio user defined YtoT \n",
    "#[success,i_Tooth_Width]             =invoke(mcad,'GetVariable',\"Tooth_Width\" )  \n",
    "ex, i_Tooth_Width                   = mcApp.GetVariable(\"Tooth_Width\")        # Absolute Tooth_Width\n",
    "\n",
    "i_Tooth_Width                                                                      #get absolute value from ratio\n",
    "i_MinBackIronThickness             =u_YtoT*i_Tooth_Width                           \n",
    "i_Slot_Op_Ratio                    =0.8                                                     #Ratio_SlotOpening_ParallelTooth\" ) \n",
    "    \n",
    "# Set Variable\n",
    "mcApp.SetVariable('Ratio_Bore'                              , i_Split_Ratio          )        #Ratio of stator bore     \n",
    "mcApp.SetVariable(\"Ratio_SlotDepth_ParallelTooth\"           , p_Slot_Depth_Ratio     )        #Ratio_SlotDepth_ParallelTooth\" )   ## Fixed     \n",
    "mcApp.SetVariable('MinBackIronThickness'                    , i_MinBackIronThickness )        #Abosolute be user-defined with Y to T ratio     \n",
    "mcApp.SetVariable(\"Ratio_ToothWidth\"                        , i_Tooth_Width_Ratio    )        #Ratio_ToothWidth\" )      \n",
    "mcApp.SetVariable(\"Ratio_SlotOpening_ParallelTooth\"         , i_Slot_Op_Ratio        )        #Ratio_SlotOpening_ParallelTooth\" )      \n",
    "       "
   ]
  },
  {
   "attachments": {},
   "cell_type": "markdown",
   "metadata": {},
   "source": [
    "## Rotor"
   ]
  },
  {
   "attachments": {},
   "cell_type": "markdown",
   "metadata": {},
   "source": [
    "### Absoulute Input (left table)"
   ]
  },
  {
   "cell_type": "code",
   "execution_count": 6,
   "metadata": {},
   "outputs": [
    {
     "data": {
      "text/plain": [
       "0"
      ]
     },
     "execution_count": 6,
     "metadata": {},
     "output_type": "execute_result"
    }
   ],
   "source": [
    " # Predefine Variable\n",
    "\n",
    " # Notch_Depth=0;\n",
    "Magnet_Layers=2;\n",
    "\n",
    " # # Layer 1 - insider\n",
    "L1_Magnet_Thickness     =5.2;\n",
    "L1_Bridge_Thickness     =1.8;\n",
    "L1_Pole_V_angle         =112;\n",
    "L1_Magnet_Post          =1.5;\n",
    "L1_Magnet_Separation    =6.2;\n",
    "L1_Magnet_Segments      =1;\n",
    " # L1 Mag Gap Inner\n",
    " # L1 Mag Gap Outer\n",
    "\n",
    " # # Layer 2\n",
    "L2_Magnet_Thickness      =5.4;\n",
    "L2_Bridge_Thickness      =1.5;\n",
    "L2_Pole_V_angle          =180;\n",
    "L2_Magnet_Post           =0;\n",
    "L2_Magnet_Separation     =0;\n",
    "L2_Magnet_Segments       =1;\n",
    "\n",
    "# Set Variable\n",
    "\n",
    "mcApp.SetArrayVariable(\"MagnetThickness_Array\"                , 0, L1_Magnet_Thickness)            # Layer 1 Magnet thickness\n",
    "mcApp.SetArrayVariable(\"MagnetThickness_Array\"                , 1, L2_Magnet_Thickness)            # Layer 2 Magnet thickness\n",
    "                \n",
    "mcApp.SetArrayVariable('BridgeThickness_Array'                , 0, L1_Bridge_Thickness)            # Layer 1 Bridge thickness \n",
    "mcApp.SetArrayVariable('BridgeThickness_Array'                , 1, L2_Bridge_Thickness)            # Layer 2 Bridge thickness \n",
    "    \n",
    "mcApp.SetArrayVariable(\"PoleVAngle_Array\"                     , 0, L1_Pole_V_angle)                # Layer 1 V-shape layer angle\n",
    "mcApp.SetArrayVariable(\"PoleVAngle_Array\"                     , 1, L2_Pole_V_angle)                # Layer 2 V-shape layer angle\n",
    "\n",
    "mcApp.SetArrayVariable(\"VShapeMagnetPost_Array\"               , 0, L1_Magnet_Post)                 # Layer 1 Magnet post\n",
    "mcApp.SetArrayVariable(\"VShapeMagnetPost_Array\"               , 1, L2_Magnet_Post)                 # Layer 2 Magnet post\n",
    "\n",
    "mcApp.SetArrayVariable(\"MagnetSeparation_Array\"               , 0, L1_Magnet_Separation)           # Layer 1 Magnet_Separation\n",
    "mcApp.SetArrayVariable(\"MagnetSeparation_Array\"               , 1, L2_Magnet_Separation)           # Layer 2 Magnet_Separation\n",
    "\n",
    "mcApp.SetArrayVariable(\"VShapeMagnetSegments_Array\"           , 0, L1_Magnet_Segments)             # Layer 1 Magnet_Segments\n",
    "mcApp.SetArrayVariable(\"VShapeMagnetSegments_Array\"           , 1, L2_Magnet_Segments)             # Layer 2 Magnet_Segments"
   ]
  },
  {
   "attachments": {},
   "cell_type": "markdown",
   "metadata": {},
   "source": [
    "### Ratio  (Rotor w Hierachy)\n"
   ]
  },
  {
   "cell_type": "code",
   "execution_count": 7,
   "metadata": {},
   "outputs": [
    {
     "data": {
      "text/plain": [
       "0"
      ]
     },
     "execution_count": 7,
     "metadata": {},
     "output_type": "execute_result"
    }
   ],
   "source": [
    "# Predefine Variable\n",
    "\n",
    "L1_Pole_Arc                            = 0.90       ;   \n",
    "L1_Web_Thickness                   = 0.15       ;   \n",
    "L1_Magnet_Bar_Width            = 0.92       ;   \n",
    "L1_Web_Length              = 0.104      ;   \n",
    "L2_Pole_Arc                        = 0.25       ;   \n",
    "L2_Web_Thickness               = 0.69       ;   \n",
    "L2_Magnet_Bar_Width        = 0.8        ;    \n",
    "L2_Web_Length          = 0.064      ;\n",
    "\n",
    "# Set Variable\n",
    "\n",
    "mcApp.SetArrayVariable(    'RatioArray_PoleArc'                    ,0,L1_Pole_Arc            )         # #Layer 1     RatioArray_PoleArc\n",
    "mcApp.SetArrayVariable(    'RatioArray_PoleArc'                    ,1,L2_Pole_Arc            )         # #Layer 2     RatioArray_PoleArc\n",
    "\n",
    "mcApp.SetArrayVariable(    'RatioArray_WebThickness'               ,0,L1_Pole_Arc            )         # #Layer 1     RatioArray_WebThickness\n",
    "mcApp.SetArrayVariable(    'RatioArray_WebThickness'               ,1,L2_Pole_Arc            )         # #Layer 2     RatioArray_WebThickness\n",
    "\n",
    "mcApp.SetArrayVariable(    'RatioArray_VWebBarWidth'               ,0,L1_Magnet_Bar_Width    )         # #Layer 1     RatioArray_VWebBarWidth\n",
    "mcApp.SetArrayVariable(    'RatioArray_VWebBarWidth'               ,1,L2_Magnet_Bar_Width    )         # #Layer 2     RatioArray_VWebBarWidth\n",
    "\n",
    "mcApp.SetArrayVariable(    'RatioArray_WebLength'                  ,0,L1_Web_Length          )         # #Layer 1     RatioArray_WebLength\n",
    "mcApp.SetArrayVariable(    'RatioArray_WebLength'                  ,1,L2_Web_Length          )         # #Layer 2     RatioArray_WebLength            \n",
    "\n"
   ]
  },
  {
   "attachments": {},
   "cell_type": "markdown",
   "metadata": {},
   "source": [
    "## Array Test"
   ]
  },
  {
   "cell_type": "code",
   "execution_count": 16,
   "metadata": {},
   "outputs": [],
   "source": [
    "\n",
    "\n",
    "mcApp.DoWeightCalculation()                                            # Weight calculation\n",
    "ex, o_Weight_Mag       = mcApp.GetVariable(\"Weight_Calc_Magnet\")       # Magnet's mass \n",
    "ex, o_Weight_Wdg       = mcApp.GetVariable(\"Weight_Calc_Copper_Total\") # Winding's mass \n",
    "ex, o_Weight_Stat_Core = mcApp.GetVariable(\"Weight_Calc_Stator_Lam\")   # Stator core's mass  \n",
    "ex, o_Weight_Rot_Core  = mcApp.GetVariable(\"Weight_Calc_Rotor_Lam\")    # Rotor core's mass\n",
    "ex, Weight_Shaft       = mcApp.GetVariable(\"Weight_Shaft_Active\")      # Shaft's mass  \n",
    "ex, Weight_Act         = mcApp.GetVariable(\"Weight_Calc_Total\")        # Active mass\n",
    "\n",
    "# mcApp.SetVariable('Slot_Number', p_Stator_Slots)                           # Stator slots\n",
    "# mcApp.SetVariable('Stator_Lam_Dia', p_Stator_OD)                           # Stator OD\n",
    "# mcApp.SetVariable('Ratio_Bore', i_Split_Ratio)                             # Split ratio\n",
    "mag_array= np.array([500., 5000.])          # Speeds for continuous performance calculation\n",
    "i_Mag_Thick=5.2\n",
    "mcApp.SetArrayVariable(\"MagnetThickness_Array\", 0, i_Mag_Thick)            # Layer 1 Magnet thickness\n",
    "mcApp.SetArrayVariable(\"MagnetThickness_Array\", 1, i_Mag_Thick)            # Layer 2 Magnet thickness\n",
    "\n",
    "\n",
    "ex, i_Mag_Thick         = mcApp.GetVariable(\"MagnetThickness_Array\")        # Active mass\n",
    "\n",
    "# mcApp.SetVariable(\"SpeedDemand_MotorLAB\", p_Speed_Cont_Array[i])# Set operating speed\n",
    "ex, p_Speed_Cont_Array         = mcApp.GetVariable(\"SpeedDemand_MotorLAB\")        # Active mass\n"
   ]
  },
  {
   "cell_type": "code",
   "execution_count": 17,
   "metadata": {},
   "outputs": [
    {
     "data": {
      "text/plain": [
       "118.61626591940502"
      ]
     },
     "execution_count": 17,
     "metadata": {},
     "output_type": "execute_result"
    }
   ],
   "source": [
    "Weight_Act"
   ]
  },
  {
   "attachments": {},
   "cell_type": "markdown",
   "metadata": {},
   "source": [
    "# Cogging Torque 셋업"
   ]
  },
  {
   "attachments": {},
   "cell_type": "markdown",
   "metadata": {},
   "source": [
    "코깅 토크 계산을 수행할 때 충분히 상세한 에어갭 메쉬가 사용되는지 확인하는 것이 중요합니다.\n",
    "부적절한 공극 메시는 부정확한 결과를 초래할 수 있으며 E-Magnetic 모델을 해석할 때 다음과 같은 경고 메시지를 표시합니다.\n",
    "\n",
    "'경고: 코깅 각도 = 0.75 MDeg는 공극 메쉬 각도 = 1 MDeg보다 작습니다.'\n",
    "\n",
    "1) 코깅 기간 계산\n",
    "\n",
    "코깅 기간은 코깅 계산의 한 사이클에서 스윕된 기계적 각도입니다. 다음과 같이 계산됩니다.\n",
    "여기서 np는 극 수, ns는 슬롯 수, GCD는 최대 공약수 함수입니다. 코깅 기간은 E-Magnetics 출력 데이터 시트에 보고됩니다.\n",
    "\n",
    "Cogging period $=\\frac{360 * G C D\\left(n_p, n_s\\right)}{n_p * n_s}$"
   ]
  },
  {
   "cell_type": "code",
   "execution_count": 28,
   "metadata": {},
   "outputs": [
    {
     "data": {
      "text/plain": [
       "5.0"
      ]
     },
     "execution_count": 28,
     "metadata": {},
     "output_type": "execute_result"
    }
   ],
   "source": [
    "p_Pole_Pair            = 6   # Number of rotor poles\n",
    "p_Stator_Slots           = 72   # Number of stator slots\n",
    "p_CoggingPointsPerCycle  =30\n",
    "\n",
    "gcd_ps=np.gcd(2*p_Pole_Pair,p_Stator_Slots)\n",
    "cogging_period=360*gcd_ps/(2*p_Pole_Pair*p_Stator_Slots)\n",
    "cogging_period # in mech [deg] "
   ]
  },
  {
   "attachments": {},
   "cell_type": "markdown",
   "metadata": {},
   "source": [
    "\n",
    "2) 코깅 회전 단계 계산\n",
    "\n",
    "코깅 계산의 각 단계에서 회전 각도는 코깅 주기를 코깅 토크 계산을 위해 지정된 주기당 포인트 수로 나눈 값입니다(계산[BPM, SYNC, SRM] 참조).\n",
    "\n",
    "Rotation angle $=\\frac{\\text { Cogging period }}{\\text { points per cycle }}$\n"
   ]
  },
  {
   "cell_type": "code",
   "execution_count": 29,
   "metadata": {},
   "outputs": [
    {
     "data": {
      "text/plain": [
       "0.16666666666666666"
      ]
     },
     "execution_count": 29,
     "metadata": {},
     "output_type": "execute_result"
    }
   ],
   "source": [
    "Rotation_angle_perpoint=cogging_period/p_CoggingPointsPerCycle\n",
    "Rotation_angle_perpoint # in [deg]"
   ]
  },
  {
   "attachments": {},
   "cell_type": "markdown",
   "metadata": {},
   "source": [
    "3) 에어갭 포인트 수 계산\n",
    "\n",
    "\n",
    "계산에는 회전 단계당 메쉬 요소의 정수가 필요합니다. 따라서 다음 방정식을 사용하여 에어갭 포인트 수를 설정합니다.\n",
    "\n",
    "\n",
    "Airgap points $=N \\times \\frac{360}{\\text { Rotation angle }}$\n",
    "\n",
    "여기서 $N$은 회전 단계당 메쉬 요소의 수이며 정수 값일 수 있습니다. N 값이 높을수록 시뮬레이션이 더 정확해지지만 계산 시간도 늘어납니다. N은 에어갭 포인트의 수가 360 이상이 되도록 선택해야 합니다.\n",
    "이것은 입력 매개변수 Airgap 내부 포인트 및 Airgap 표면 포인트에 사용되어야 하는 값입니다(계산[BPM, SYNC, SRM] 참조).\n",
    "\n",
    "\n",
    "\n",
    "모든 결과를 종합하면 단순히\n",
    "그런 다음 Airgap Mesh Control에서 Airgap 포인트 수를 조정할 수 있습니다(계산 설정 참조).\n",
    "\n",
    "$\\text { Airgap points }=N \\times \\frac{n_p n_s \\times \\text { Points per cycle }}{\\operatorname{GCD}\\left(n_p, n_s\\right)}$"
   ]
  },
  {
   "cell_type": "code",
   "execution_count": 38,
   "metadata": {},
   "outputs": [
    {
     "data": {
      "text/plain": [
       "(2160.0, 2160.0)"
      ]
     },
     "execution_count": 38,
     "metadata": {},
     "output_type": "execute_result"
    }
   ],
   "source": [
    "N = 1\n",
    "Airgap_points1= N*360/Rotation_angle_perpoint \n",
    "Airgap_points2= N*2*p_Pole_Pair*p_Stator_Slots*p_CoggingPointsPerCycle/gcd_ps\n",
    "Airgap_points1,  Airgap_points2\n",
    "\n"
   ]
  },
  {
   "attachments": {},
   "cell_type": "markdown",
   "metadata": {},
   "source": [
    "# BEMF setup\n",
    "과도 토크 또는 백 EMF 계산을 수행할 때 충분히 상세한 공극 메시가 사용되는지 확인하는 것이 중요합니다. 기본값인 360 메쉬 포인트는 일반적으로 잘 작동하지만 모델 정확도를 높이기 위해(예: 자기 손실에서 더 높은 고조파의 영향을 조사하기 위해) 때로는 메쉬 밀도를 높이는 것이 유용할 수 있습니다. 이 경우 다음 규칙을 준수해야 합니다."
   ]
  },
  {
   "attachments": {},
   "cell_type": "markdown",
   "metadata": {},
   "source": [
    "## 1) 시뮬레이션 기간 계산\n",
    "Period $=\\frac{360}{\\left(n_p / 2\\right)}$"
   ]
  },
  {
   "cell_type": "code",
   "execution_count": 39,
   "metadata": {},
   "outputs": [
    {
     "data": {
      "text/plain": [
       "60.0"
      ]
     },
     "execution_count": 39,
     "metadata": {},
     "output_type": "execute_result"
    }
   ],
   "source": [
    "simu_Period=360/p_Pole_Pair\n",
    "simu_Period                 # in mech [deg] for one Elec period"
   ]
  },
  {
   "attachments": {},
   "cell_type": "markdown",
   "metadata": {},
   "source": [
    "2) 회전 단계 계산\n",
    "\n",
    "각 계산 단계의 회전 각도는 기간을 계산에 지정된 주기당 포인트 수로 나눈 값입니다(계산[BPM, SYNC, SRM] 참조). 이는 토크 또는 백 EMF 계산에서 다를 수 있습니다.\n",
    "\n",
    "Rotation angle $=\\frac{\\text { Period }}{\\text { Points per cycle }}$\n"
   ]
  },
  {
   "cell_type": "code",
   "execution_count": 40,
   "metadata": {},
   "outputs": [
    {
     "data": {
      "text/plain": [
       "0.5"
      ]
     },
     "execution_count": 40,
     "metadata": {},
     "output_type": "execute_result"
    }
   ],
   "source": [
    "p_BackEMFPointsPerCycle = 120\n",
    "Rotation_angle_BEMF_perpoint=simu_Period/p_BackEMFPointsPerCycle\n",
    "Rotation_angle_BEMF_perpoint # in mech [deg]"
   ]
  },
  {
   "attachments": {},
   "cell_type": "markdown",
   "metadata": {},
   "source": [
    "## 3) 에어갭 포인트 수 계산\n",
    "\n",
    "계산에는 회전 단계당 메쉬 요소의 정수가 필요합니다. 따라서 다음 방정식을 사용하여 에어갭 포인트 수를 설정합니다.\n",
    "\n",
    "여기서 N은 회전 단계당 메쉬 요소의 수이며 정수 값이어야 합니다. N 값이 높을수록 시뮬레이션이 더 정확해지지만 계산 시간도 늘어납니다. N은 에어갭 포인트의 수가 360 이상이 되도록 선택해야 합니다.\n",
    "\n",
    " Airgap points $=N \\times \\frac{360}{\\text { Rotation angle }}$\n",
    "\n",
    "이것은 입력 매개변수 Airgap 내부 포인트 및 Airgap 표면 포인트에 사용되어야 하는 값입니다(계산[BPM, SYNC, SRM] 참조).\n",
    "\n",
    " \n",
    "\n",
    " \n",
    "\n",
    "모든 결과를 종합하면\n",
    "\n",
    "Airgap points $=N \\times \\frac{n_p \\times \\text { Points per cycle }}{2}$\n",
    "\n",
    "그런 다음 Airgap Mesh Control에서 Airgap 포인트 수를 조정할 수 있습니다(계산 설정 참조).\n"
   ]
  },
  {
   "cell_type": "code",
   "execution_count": 41,
   "metadata": {},
   "outputs": [
    {
     "data": {
      "text/plain": [
       "(720.0, 720)"
      ]
     },
     "execution_count": 41,
     "metadata": {},
     "output_type": "execute_result"
    }
   ],
   "source": [
    "Airgap_points_EMF1= N*360/Rotation_angle_BEMF_perpoint \n",
    "Airgap_points_EMF2= N*p_Pole_Pair*p_BackEMFPointsPerCycle\n",
    "\n",
    "Airgap_points_EMF1, Airgap_points_EMF2"
   ]
  },
  {
   "attachments": {},
   "cell_type": "markdown",
   "metadata": {},
   "source": [
    "Rain Flow Counting Method에 의해서 BEMF계산할때 Airgap 포인트가 바뀜"
   ]
  },
  {
   "attachments": {},
   "cell_type": "markdown",
   "metadata": {},
   "source": [
    "# # 1)EMag context"
   ]
  },
  {
   "cell_type": "code",
   "execution_count": null,
   "metadata": {},
   "outputs": [],
   "source": [
    "mcApp = win32com.client.Dispatch(\"MotorCAD.AppAutomation\")  # Launch Motor-CAD application\n",
    "\n",
    "mcApp.ShowMagneticContext()          \n",
    "mcApp.DisplayScreen('Scripting')     # Switch to a tab where no parameter is adjusted "
   ]
  },
  {
   "cell_type": "code",
   "execution_count": null,
   "metadata": {},
   "outputs": [],
   "source": [
    "\n",
    "  # Settings\n",
    "\n",
    "mcApp.SetVariable(\"BackEMFCalculation\", True)            # Torque calculation\n",
    "mcApp.SetVariable(\"CoggingTorqueCalculation\", True)            # Torque calculation\n",
    "# mcApp.SetVariable(\"TorqueCalculation\", False)            # Torque calculation\n",
    "# mcApp.SetVariable(\"TorquePointsPerCycle\", p_Torque_Pts) # Number of points to be used for each cycle  \n",
    "\n",
    "mcApp.SetVariable(\"AirgapMeshPoints_layers\", Airgap_points1)      # Number of mesh points in the airgap\n",
    "mcApp.SetVariable(\"AirgapMeshPoints_mesh\", Airgap_points1)        # Number of mesh points at the airgap surface\n",
    "\n",
    "# mcApp.SetVariable(\"MagnetMeshLength\", 0.5)      \n",
    "     \n",
    "mcApp.SetVariable(\"MagneticSolver\", 0)                  # Reduced multi-static solver\n",
    "mcApp.SetVariable(\"ShaftSpeed\", 5000)                  # Reduced multi-static solver\n",
    "# mcApp.SetVariable(\"Simple_Transient_Number_Points\", 2)                  # Reduced multi-static solver\n",
    "mcApp.SetVariable(\"BackEMFPointsPerCycle\", p_CoggingPointsPerCycle)                  # Reduced multi-static solver\n",
    "mcApp.SetVariable(\"CoggingPointsPerCycle\", p_CoggingPointsPerCycle)                  # Reduced multi-static solver\n",
    "mcApp.DoMagneticCalculation()\n"
   ]
  },
  {
   "cell_type": "code",
   "execution_count": 46,
   "metadata": {},
   "outputs": [
    {
     "data": {
      "text/plain": [
       "(1, 60, 1, 96)"
      ]
     },
     "execution_count": 46,
     "metadata": {},
     "output_type": "execute_result"
    }
   ],
   "source": [
    "ex, CoggingPointsPerCycle       = mcApp.GetVariable(\"CoggingPointsPerCycle\")       # Magnet's mass \n",
    "ex, CoggingNumberCycles         = mcApp.GetVariable(\"CoggingNumberCycles\")       # Magnet's mass \n",
    "\n",
    "\n",
    "ex, BackEMFPointsPerCycle       = mcApp.GetVariable(\"BackEMFPointsPerCycle\")       # Magnet's mass \n",
    "ex, BackEMFNumberCycles         = mcApp.GetVariable(\"BackEMFNumberCycles\")       # Magnet's mass \n",
    "BackEMFNumberCycles, BackEMFPointsPerCycle, CoggingNumberCycles, CoggingPointsPerCycle"
   ]
  },
  {
   "cell_type": "code",
   "execution_count": 57,
   "metadata": {},
   "outputs": [
    {
     "data": {
      "text/plain": [
       "(97,\n",
       " array([0., 0., 0., 0., 0., 0., 0., 0., 0., 0., 0., 0., 0., 0., 0., 0., 0.,\n",
       "        0., 0., 0., 0., 0., 0., 0., 0., 0., 0., 0., 0., 0., 0., 0., 0., 0.,\n",
       "        0., 0., 0., 0., 0., 0., 0., 0., 0., 0., 0., 0., 0., 0., 0., 0., 0.,\n",
       "        0., 0., 0., 0., 0., 0., 0., 0., 0., 0., 0., 0., 0., 0., 0., 0., 0.,\n",
       "        0., 0., 0., 0., 0., 0., 0., 0., 0., 0., 0., 0., 0., 0., 0., 0., 0.,\n",
       "        0., 0., 0., 0., 0., 0., 0., 0., 0., 0., 0., 0.]),\n",
       " array([0., 0., 0., 0., 0., 0., 0., 0., 0., 0., 0., 0., 0., 0., 0., 0., 0.,\n",
       "        0., 0., 0., 0., 0., 0., 0., 0., 0., 0., 0., 0., 0., 0., 0., 0., 0.,\n",
       "        0., 0., 0., 0., 0., 0., 0., 0., 0., 0., 0., 0., 0., 0., 0., 0., 0.,\n",
       "        0., 0., 0., 0., 0., 0., 0., 0., 0., 0., 0., 0., 0., 0., 0., 0., 0.,\n",
       "        0., 0., 0., 0., 0., 0., 0., 0., 0., 0., 0., 0., 0., 0., 0., 0., 0.,\n",
       "        0., 0., 0., 0., 0., 0., 0., 0., 0., 0., 0., 0.]))"
      ]
     },
     "execution_count": 57,
     "metadata": {},
     "output_type": "execute_result"
    }
   ],
   "source": [
    "NumTorquePoints = (CoggingPointsPerCycle * CoggingNumberCycles) + 1;\n",
    "RotorPosition = np.zeros(NumTorquePoints);\n",
    "CoggingTorqueVW = np.zeros(NumTorquePoints);\n",
    "NumTorquePoints,RotorPosition, CoggingTorqueVW"
   ]
  },
  {
   "cell_type": "code",
   "execution_count": 61,
   "metadata": {},
   "outputs": [
    {
     "data": {
      "text/plain": [
       "0.0"
      ]
     },
     "execution_count": 61,
     "metadata": {},
     "output_type": "execute_result"
    }
   ],
   "source": []
  },
  {
   "cell_type": "code",
   "execution_count": 62,
   "metadata": {},
   "outputs": [],
   "source": [
    "for loop in range(NumTorquePoints-1):\n",
    "    ex, x, Yv =mcApp.GetMagneticGraphPoint('CoggingTorqueVW', loop)\n",
    "    RotorPosition[loop+1]=x\n",
    "    CoggingTorqueVW[loop+1]=Yv\n"
   ]
  },
  {
   "cell_type": "code",
   "execution_count": 88,
   "metadata": {},
   "outputs": [
    {
     "data": {
      "image/png": "[encoded data removed]",
      "text/plain": [
       "<Figure size 432x288 with 1 Axes>"
      ]
     },
     "metadata": {
      "needs_background": "light"
     },
     "output_type": "display_data"
    }
   ],
   "source": [
    "\n",
    "# Data for plotting\n",
    "OSL_DESIGN_NAME = 'Design0001'\n",
    "fig, ax = plt.subplots()\n",
    "ax.plot(RotorPosition, CoggingTorqueVW)\n",
    "screenname='CoggingTorqueVW'\n",
    "ax.set(xlabel='Rotor Position (Mdeg)', ylabel='CoggingTorqueVW [Nm]',\n",
    "       title='CoggingTorqueVW')\n",
    "ax.grid()\n",
    "wdir='Z:/Thesis/Motorcad_Optislang/IPM_HDEV_1/OPD\\HDEV_Thesis1.opd/HDEV__Thesis1/'\n",
    "savedir=join(wdir, 'Design0001' + '/' +  '_Pic_' + screenname )\n",
    "fig.savefig(join(savedir+'png'))\n",
    "plt.show()\n",
    "data_array=[np.transpose(RotorPosition), np.transpose(CoggingTorqueVW)]\n",
    "io.savemat(join(savedir+'.mat'),{\"CoggingTorqueVW\":data_array})"
   ]
  },
  {
   "cell_type": "code",
   "execution_count": null,
   "metadata": {},
   "outputs": [],
   "source": [
    "PeakBackEMFLine\n",
    "PeakBackEMFLine_Fundamental\n",
    "PeakBackEMFPhase\n",
    "\n",
    "\n",
    "# TerminalVoltage1 = zeros(NumTorquePoints, 1);\n",
    "# PhaseCurrent1 = zeros(NumTorquePoints, 1);\n",
    "# TerminalVoltage2 = zeros(NumTorquePoints, 1);\n",
    "# PhaseCurrent2 = zeros(NumTorquePoints, 1);\n",
    "# TerminalVoltage3 = zeros(NumTorquePoints, 1);\n",
    "# PhaseCurrent3 = zeros(NumTorquePoints, 1);\n"
   ]
  },
  {
   "cell_type": "code",
   "execution_count": null,
   "metadata": {},
   "outputs": [],
   "source": [
    "\n",
    "### Change to ratio mode to edit the geometry\n",
    "mcApp.SetVariable('GeometryParameterisation', 1)   # Ratio mode in Motor-CAD \n",
    "\n",
    "### Assign geometry parameters\n",
    "#i_Tooth_Width_Ratio = 0.6\n",
    "#i_Slot_Depth_Ratio=0.56\n",
    "#p_Parallel_Path=4\n",
    "#p_Turns_Coil=5\n",
    "\n",
    "### Assign geometry parameters\n",
    "mcApp.SetVariable('Slot_Number', p_Stator_Slots)                           # Stator slots\n",
    "mcApp.SetVariable('Stator_Lam_Dia', p_Stator_OD)                           # Stator OD\n",
    "mcApp.SetVariable('Ratio_Bore', i_Split_Ratio)                             # Split ratio\n",
    "mcApp.SetVariable('Ratio_ToothWidth', i_Tooth_Width_Ratio)                 # Tooth width ratio\n",
    "mcApp.SetVariable('Ratio_SlotDepth_ParallelTooth', i_Slot_Depth_Ratio)     # Slot depth ratio\n",
    "mcApp.SetVariable('Ratio_SlotDepth_ParallelSlot', i_Slot_Depth_Ratio)     # Slot depth ratio\n",
    "\n",
    "mcApp.SetVariable('Tooth_Tip_Depth', p_Tooth_Tip_Depth)                    # Tooth tip depth\n",
    "mcApp.SetVariable('Ratio_SlotOpening_ParallelTooth', i_Slot_Op_Ratio)      # Slot opening width ratio \n",
    "mcApp.SetVariable('Tooth_Tip_Angle', p_Tooth_Tip_Angle)                    # Tooth tip angle\n",
    "mcApp.SetVariable('Pole_Number', 2*p_Pole_Pair)                            # Rotor poles\n",
    "mcApp.SetVariable('Airgap', p_Airgap_Mecha)                                # Mechanical airgap\n",
    "mcApp.SetArrayVariable(\"RatioArray_MagnetVWidth\", 0, i_Pole_Arc_Ratio)     # Pole arc ratio\n",
    "mcApp.SetArrayVariable(\"RatioArray_MagnetBarWidth\", 0, p_Mag_Width_Ratio)  # Magnet width ratio\n",
    "mcApp.SetArrayVariable('BridgeThickness_Array', 0, i_Bridge_Thick)         # Bridge thickness \n",
    "mcApp.SetArrayVariable(\"VShapeMagnetClearance_Array\", 0, p_Mag_Clear)      # Magnet clearance\n",
    "mcApp.SetArrayVariable(\"MagnetThickness_Array\", 0, i_Mag_Thick)            # Magnet thickness\n",
    "mcApp.SetArrayVariable(\"PoleVAngle_Array\", 0, i_Pole_V_Angle)              # V-shape layer angle\n",
    "mcApp.SetArrayVariable(\"VSimpleMagnetPost_Array\", 0, i_Mag_Post)           # Magnet post  \n",
    "mcApp.SetArrayVariable(\"VSimpleEndRegion_Outer_Array\", 0, Air_Pocket)      # Air pocket extensions (outer)\n",
    "mcApp.SetArrayVariable(\"VSimpleEndRegion_Inner_Array\", 0, Air_Pocket)      #                       (inner)\n",
    "mcApp.SetVariable('MinVMagnetAspectRatio', p_Mag_AspectRatio_Min)          # Minimum magnet aspect ratio\n",
    "mcApp.SetVariable('MinMagnetSeparation', p_Mag_Separation_Min)             # Minimum separation between magnet poles  \n",
    "mcApp.SetVariable('MinShaftSeparation', p_Shaft_Separation_Min)            # Minimum separation between shaft and magnets\n",
    "mcApp.SetVariable(\"Ratio_ShaftD\", p_Shaft_OD_Ratio)                        # Shaft OD ratio\n",
    "mcApp.SetVariable('Motor_Length', Machine_Length)                          # Machine length\n",
    "mcApp.SetVariable('Stator_Lam_Length', i_Active_Length)                    # Stator lamination pack length\n",
    "mcApp.SetVariable('Rotor_Lam_Length', i_Active_Length)                     # Rotor lamination pack length\n",
    "mcApp.SetVariable('Magnet_Length', i_Active_Length)                        # Magnet length\n",
    "mcApp.SetVariable('EWdg_Overhang_[R]', p_Wdg_Overhang)                     # End winding overhang (rear)\n",
    "mcApp.SetVariable('EWdg_Overhang_[F]', p_Wdg_Overhang)                     #                      (front)\n",
    "\n",
    "### Check the geometry is valid\n",
    "success = mcApp.CheckIfGeometryIsValid(0)\n",
    "\n",
    "if success == 0:\n",
    "    # If not valid, generate zero outputs instead of getting an error message in optiSLang\n",
    "    o_Cont_Torque_1krpm  = 0.  \n",
    "    o_Cont_Torque_5krpm  = 0.\n",
    "    o_Peak_Power_3krpm   = 0.\n",
    "    o_Peak_Power_6rpm    = 0.\n",
    "    o_Peak_Torque_500rpm = 0.\n",
    "    o_WLTP3_Eff          = 0.\n",
    "    o_Current_Density    = 0.\n",
    "    o_Torque_Density     = 0.\n",
    "    o_Torque_Ripples     = 0.\n",
    "    o_Weight_Act         = 0.\n",
    "    o_Weight_Mag         = 0.\n",
    "    o_Weight_Rot_Core    = 0.\n",
    "    o_Weight_Stat_Core   = 0.\n",
    "    o_Weight_Wdg         = 0.\n",
    "    o_Stress_Safety      = 0.\n",
    "    if run_mode in ['OSL_run']:\n",
    "        o_Sig_Peak_Torque    = list_list_2_variant_signal([[0]*Speed_Lab_Len], Speed_Lab) \n",
    "        o_Sig_Peak_Power     = list_list_2_variant_signal([[0]*Speed_Lab_Len], Speed_Lab) \n",
    "        o_Sig_Torque_Ripples = list_list_2_variant_signal([[0]*(p_Torque_Pts+1)], [0]*(p_Torque_Pts+1)) \n",
    "    mcApp.SaveToFile(mot_file_new_path)  # Save design   \n",
    "    mcApp.Quit()                         # Close Motor-CAD\n",
    "    mcApp = 0                            # Reset mcApp variable  \n",
    "    time.sleep(0.5)                      # Frozen for 0.5s\n",
    "    raise Exception('[ERROR] {}: geometry not valid'.format(OSL_DESIGN_NAME))\n",
    "    \n",
    "### Assign winding parameters\n",
    "mcApp.SetVariable('WindingLayers', p_Coils_Slot)                # Coils passing through a slot\n",
    "mcApp.SetVariable('MagTurnsConductor', p_Turns_Coil)            # Turns per coil\n",
    "mcApp.SetVariable('ParallelPaths', p_Parallel_Path)             # Parallel paths per phase\n",
    "mcApp.SetVariable('RequestedGrossSlotFillFactor', p_Slot_Fill)  # Slot fill factor\n",
    "\n",
    "### Assign initial calculation settings\n",
    "mcApp.SetVariable(\"BackEMFCalculation\", False)               # OC calculations deactivated\n",
    "mcApp.SetVariable(\"CoggingTorqueCalculation\", False)         # Cogging torque calculation deactivated\n",
    "mcApp.SetVariable(\"TorqueCalculation\", False)                # Torque calculations deactivated\n",
    "mcApp.SetVariable(\"TorqueSpeedCalculation\", False)           # Torque speed curve calculation deactivated\n",
    "mcApp.SetVariable(\"DemagnetizationCalc\", False)              # Demagnetisation test deactivated\n",
    "mcApp.SetVariable(\"InductanceCalc\", False)                   # Inductance calculation deactivated\n",
    "mcApp.SetVariable(\"BPMShortCircuitCalc\", False)              # Transient short circuit calculation deactivated\n",
    "mcApp.SetVariable(\"ElectromagneticForcesCalc_OC\", False)     # Maxwell forces calculation deactivated (OC)\n",
    "mcApp.SetVariable(\"ElectromagneticForcesCalc_Load\", False)   # Maxwell forces calculation deactivated (OL)\n",
    "mcApp.SetVariable(\"MagneticSolver\", 0)                       # Transient calculation enabled\n",
    "mcApp.SetVariable(\"Lab_Threads_Enabled\", True)      \n",
    "\n",
    "### Extract active weights\n",
    "mcApp.DoWeightCalculation()                                            # Weight calculation\n",
    "ex, o_Weight_Mag       = mcApp.GetVariable(\"Weight_Calc_Magnet\")       # Magnet's mass \n",
    "ex, o_Weight_Wdg       = mcApp.GetVariable(\"Weight_Calc_Copper_Total\") # Winding's mass \n",
    "ex, o_Weight_Stat_Core = mcApp.GetVariable(\"Weight_Calc_Stator_Lam\")   # Stator core's mass  \n",
    "ex, o_Weight_Rot_Core  = mcApp.GetVariable(\"Weight_Calc_Rotor_Lam\")    # Rotor core's mass\n",
    "ex, Weight_Shaft       = mcApp.GetVariable(\"Weight_Shaft_Active\")      # Shaft's mass  \n",
    "ex, Weight_Act         = mcApp.GetVariable(\"Weight_Calc_Total\")        # Active mass\n",
    "o_Weight_Act           = Weight_Act - Weight_Shaft                     # Shaft's mass retrieved\n"
   ]
  },
  {
   "cell_type": "markdown",
   "metadata": {},
   "source": [
    "#### Export Snapshots"
   ]
  },
  {
   "cell_type": "code",
   "execution_count": null,
   "metadata": {},
   "outputs": [],
   "source": [
    "### Export snapshots\n",
    "if Pic_Export:\n",
    "    for screenname in ['Radial', 'Axial', 'StatorWinding']:\n",
    "        mcApp.SaveScreenToFile(screenname, join(wdir, Design_Name + '_' + OSL_DESIGN_NAME + '_Pic_' + screenname + '.png'))\n",
    "mcApp.DisplayScreen('Scripting')   \n"
   ]
  },
  {
   "cell_type": "code",
   "execution_count": null,
   "metadata": {},
   "outputs": [],
   "source": [
    "### Save design\n",
    "mcApp.SaveToFile(mot_file_new_path)"
   ]
  },
  {
   "cell_type": "markdown",
   "metadata": {},
   "source": [
    "### 2)Lab: model Build tab  319\n",
    "Shows automatically after assigning options for the saturation & loss models)\n",
    "\n"
   ]
  },
  {
   "cell_type": "code",
   "execution_count": 31,
   "metadata": {},
   "outputs": [],
   "source": [
    "mcApp = win32com.client.Dispatch(\"MotorCAD.AppAutomation\")  # Launch Motor-CAD application\n",
    "\n",
    "i_Gear_Ratio=7\n",
    "mcApp.SetVariable('N_d_MotorLAB', i_Gear_Ratio)                     # Gear Ratio\n",
    "mcApp.SetVariable(\"DutyCycleType_Lab\", 1)                 # Automotive drive cyle\n",
    "mcApp.SetVariable(\"DrivCycle_MotorLAB\", \"WLTP Class 3\")   # WLTP3 drive cycle\n",
    "mcApp.SetVariable(\"LabThermalCoupling_DutyCycle\", 0)      # No coupling with Thermal\n",
    "mcApp.CalculateDutyCycle_Lab()                                                # Run calculation\n",
    "ex, o_WLTP3_Eff = mcApp.GetVariable(\"DutyCycleAverageEfficiency_EnergyUse\")   # Get efficiency value \n",
    "   "
   ]
  },
  {
   "attachments": {},
   "cell_type": "markdown",
   "metadata": {},
   "source": [
    "Lab Calculation Type\n"
   ]
  },
  {
   "attachments": {
    "image-2.png": {
     "image/png": "[encoded data removed]"
    },
    "image.png": {
     "image/png": "[encoded data removed]"
    }
   },
   "cell_type": "markdown",
   "metadata": {},
   "source": [
    "'Lab ThermalCoupling_DutyCycle'\n",
    "\n",
    "![image.png](attachment:image.png)\n",
    "'Lab ThermalCoupling'\n",
    "'LabMagneticCoupling'\n",
    "![image.png](attachment:image-2.png)\n"
   ]
  },
  {
   "cell_type": "code",
   "execution_count": null,
   "metadata": {},
   "outputs": [],
   "source": [
    "'Lab ThermalCoupling'\n",
    "'Lab ThermalCoupling_DutyCycle'\n",
    "'LabMagneticCoupling'"
   ]
  },
  {
   "cell_type": "code",
   "execution_count": 32,
   "metadata": {},
   "outputs": [
    {
     "data": {
      "text/plain": [
       "0"
      ]
     },
     "execution_count": 32,
     "metadata": {},
     "output_type": "execute_result"
    }
   ],
   "source": [
    "### Lab: model Build tab \n",
    "# mcApp.ClearModelBuild_Lab()  # Clear existing models\n",
    "\n",
    "mcApp.SetVariable(\"ModelType_MotorLAB\", 2)       # Saturation model type: Full Cycle\n",
    "mcApp.SetVariable(\"SatModelPoints_MotorLAB\", 0)  # Saturation model: coarse resolution (15 points)    \n",
    "mcApp.SetVariable(\"LossModel_LAB\", 0)            # Loss model type: neglect\n",
    "mcApp.SetMotorLABContext()                       # Lab context\n",
    "mcApp.SetVariable(\"BuildSatModel_MotorLAB\", 1)   # Activate saturation model   \n",
    "\n",
    "# mcApp.SetVariable(\"MaxModelCurrent_RMS_MotorLAB\", p_Line_Current_RMS)       # Max line current (rms)\n",
    "# mcApp.SetVariable(\"MaxModelCurrent_MotorLAB\", p_Line_Current_RMS*sqrt(2))   # Max line current (peak)\n",
    "# mcApp.SetVariable('ModelBuildSpeed_MotorLAB', p_Speed_Max)                  # Maximum operating speed\n",
    "mcApp.BuildModel_Lab() "
   ]
  },
  {
   "cell_type": "code",
   "execution_count": 21,
   "metadata": {},
   "outputs": [
    {
     "ename": "NameError",
     "evalue": "name 'run_mode' is not defined",
     "output_type": "error",
     "traceback": [
      "\u001b[1;31m---------------------------------------------------------------------------\u001b[0m",
      "\u001b[1;31mNameError\u001b[0m                                 Traceback (most recent call last)",
      "\u001b[1;32mC:\\Users\\KDH201~1\\AppData\\Local\\Temp/ipykernel_57056/3597273193.py\u001b[0m in \u001b[0;36m<module>\u001b[1;34m\u001b[0m\n\u001b[0;32m      1\u001b[0m \u001b[1;31m### Lab: model Build tab\u001b[0m\u001b[1;33m\u001b[0m\u001b[1;33m\u001b[0m\u001b[1;33m\u001b[0m\u001b[0m\n\u001b[0;32m      2\u001b[0m \u001b[0mmcApp\u001b[0m\u001b[1;33m.\u001b[0m\u001b[0mClearModelBuild_Lab\u001b[0m\u001b[1;33m(\u001b[0m\u001b[1;33m)\u001b[0m  \u001b[1;31m# Clear existing models\u001b[0m\u001b[1;33m\u001b[0m\u001b[1;33m\u001b[0m\u001b[0m\n\u001b[1;32m----> 3\u001b[1;33m \u001b[1;32mif\u001b[0m \u001b[0mrun_mode\u001b[0m \u001b[1;32min\u001b[0m \u001b[1;33m[\u001b[0m\u001b[1;34m'IDE_run'\u001b[0m\u001b[1;33m]\u001b[0m\u001b[1;33m:\u001b[0m\u001b[1;33m\u001b[0m\u001b[1;33m\u001b[0m\u001b[0m\n\u001b[0m\u001b[0;32m      4\u001b[0m     \u001b[0mmcApp\u001b[0m\u001b[1;33m.\u001b[0m\u001b[0mSetVariable\u001b[0m\u001b[1;33m(\u001b[0m\u001b[1;34m\"ModelType_MotorLAB\"\u001b[0m\u001b[1;33m,\u001b[0m \u001b[1;36m2\u001b[0m\u001b[1;33m)\u001b[0m       \u001b[1;31m# Saturation model type: Full Cycle\u001b[0m\u001b[1;33m\u001b[0m\u001b[1;33m\u001b[0m\u001b[0m\n\u001b[0;32m      5\u001b[0m     \u001b[0mmcApp\u001b[0m\u001b[1;33m.\u001b[0m\u001b[0mSetVariable\u001b[0m\u001b[1;33m(\u001b[0m\u001b[1;34m\"SatModelPoints_MotorLAB\"\u001b[0m\u001b[1;33m,\u001b[0m \u001b[1;36m0\u001b[0m\u001b[1;33m)\u001b[0m  \u001b[1;31m# Saturation model: coarse resolution (15 points)\u001b[0m\u001b[1;33m\u001b[0m\u001b[1;33m\u001b[0m\u001b[0m\n",
      "\u001b[1;31mNameError\u001b[0m: name 'run_mode' is not defined"
     ]
    }
   ],
   "source": [
    "### Lab: model Build tab \n",
    "mcApp.ClearModelBuild_Lab()  # Clear existing models\n",
    "if run_mode in ['IDE_run']:\n",
    "    mcApp.SetVariable(\"ModelType_MotorLAB\", 2)       # Saturation model type: Full Cycle\n",
    "    mcApp.SetVariable(\"SatModelPoints_MotorLAB\", 0)  # Saturation model: coarse resolution (15 points)    \n",
    "    mcApp.SetVariable(\"LossModel_LAB\", 0)            # Loss model type: neglect\n",
    "    mcApp.SetMotorLABContext()                       # Lab context\n",
    "    mcApp.SetVariable(\"BuildSatModel_MotorLAB\", 1)   # Activate saturation model   \n",
    "else: \n",
    "    mcApp.SetVariable(\"ModelType_MotorLAB\", 2)       # Saturation model type: Full Cycle\n",
    "    mcApp.SetVariable(\"SatModelPoints_MotorLAB\", 1)  # Saturation model: fine resolution (30 points)  \n",
    "    mcApp.SetVariable(\"LossModel_Lab\", 1)            # Loss model type: FEA\n",
    "    mcApp.SetMotorLABContext()                       # Lab context\n",
    "    mcApp.SetVariable(\"BuildSatModel_MotorLAB\", 1)   # Activate saturation model  \n",
    "    mcApp.SetVariable(\"BuildLossModel_MotorLAB\", 1)  # Activate loss model  \n",
    "\n",
    "mcApp.SetVariable(\"MaxModelCurrent_RMS_MotorLAB\", p_Line_Current_RMS)       # Max line current (rms)\n",
    "mcApp.SetVariable(\"MaxModelCurrent_MotorLAB\", p_Line_Current_RMS*sqrt(2))   # Max line current (peak)\n",
    "mcApp.SetVariable('ModelBuildSpeed_MotorLAB', p_Speed_Max)                  # Maximum operating speed\n",
    "mcApp.BuildModel_Lab()                                                      # Build activated models\n",
    "            "
   ]
  },
  {
   "cell_type": "markdown",
   "metadata": {},
   "source": [
    "#### Lab: peak performance"
   ]
  },
  {
   "cell_type": "code",
   "execution_count": 38,
   "metadata": {},
   "outputs": [],
   "source": [
    "p_Line_Current_RMS = 500.    # Maximum RMS line current\n",
    "mot_file_dir='Z:\\Thesis\\Motorcad_Optislang\\IPM using Integrated Export\\OPD\\IPM_tuto.opd\\IPM__tuto2\\Design0001\\IPM_tuto_Design0001'\n",
    "mcApp.SetVariable(\"OperatingMode_Lab\", 0)                      # Motoring mode\n",
    "mcApp.SetVariable(\"EmagneticCalcType_Lab\", 0)                  # Peak performance\n",
    "mcApp.SetVariable('SpeedMax_MotorLAB', p_Speed_Max)            # Maximum speed\n",
    "mcApp.SetVariable('Speedinc_MotorLAB', p_Speed_Lab_Step)       # Speed step\n",
    "mcApp.SetVariable('Imax_RMS_MotorLAB', p_Line_Current_RMS)     # Max line current (rms)\n",
    "mcApp.SetVariable('Imax_MotorLAB', p_Line_Current_RMS*sqrt(2)) # Max line current (peak) \n",
    "\n",
    "# Calculation & Data management\n",
    "mcApp.CalculateMagnetic_Lab()                                 # Run calculation\n",
    "Mat_File_Name     = 'MotorLAB_elecdata.mat'                   # *.mat file automatically generated by Motor-CAD\n",
    "Mat_File_Path     = join(mot_file_dir, 'Lab', Mat_File_Name)  # Point to the *.mat file\n",
    "Mat_File_Data     = loadmat(Mat_File_Path)                    # Load data from the *.mat file\n",
    "Mat_File_Speed    = Mat_File_Data['Speed']                    # Load speed data\n",
    "Mat_File_Torque   = Mat_File_Data['Shaft_Torque']             # Load shaft torque data    \n",
    "Mat_File_Power    = Mat_File_Data['Shaft_Power']              # Load shaft power data\n",
    "Mat_File_Torque   = Mat_File_Torque.flatten()                 # Necessary to be read by list_2_list_variant()\n",
    "Mat_File_Power    = Mat_File_Power.flatten()  \n",
    "Mat_File_Speed    = Mat_File_Speed.flatten()\n",
    "\n",
    "# Extract specific values\n",
    "Peak_Power_Array = np.zeros(len(p_Speed_Peak_Array))   # Peak power array initialisation\n",
    "Peak_Torque_Array = np.zeros(len(p_Speed_Peak_Array))  # Peak power array initialisation\n",
    "for i in range(len(p_Speed_Peak_Array)):\n",
    "    Ind_Speed = (np.abs(Mat_File_Speed - p_Speed_Peak_Array[i])).argmin()   # Index corresponding to the required speed\n",
    "    Peak_Power_Array[i]  = Mat_File_Power[Ind_Speed]                        # Peak power at the required speed \n",
    "    Peak_Torque_Array[i] = Mat_File_Torque[Ind_Speed]                       # Peak torque at the required speed \n",
    "o_Peak_Torque_500rpm    = Peak_Torque_Array[0]      # In [Nm] \n",
    "o_Peak_Power_3krpm      = Peak_Power_Array[1]       # In [kW]    \n",
    "o_Peak_Power_6rpm       = Peak_Power_Array[2]       # In [kW]\n",
    "\n",
    "# Raise exception if wrong performance data\n",
    "if (o_Peak_Torque_500rpm or o_Peak_Power_3krpm or o_Peak_Power_6rpm) < 0:\n",
    "    mcApp.SaveToFile(mot_file_new_path)  # Save design   \n",
    "    mcApp.Quit()                         # Close Motor-CAD\n",
    "    mcApp = 0                            # Reset mcApp variable  \n",
    "    time.sleep(0.5)                      # Frozen for 0.5s\n",
    "    raise Exception('[ERROR] {}: peak performance calculation failed'.format(OSL_DESIGN_NAME))\n"
   ]
  },
  {
   "cell_type": "markdown",
   "metadata": {},
   "source": [
    "  ##### Key performance indicators"
   ]
  },
  {
   "cell_type": "code",
   "execution_count": 39,
   "metadata": {},
   "outputs": [
    {
     "ename": "NameError",
     "evalue": "name 'fun_Torque_Density' is not defined",
     "output_type": "error",
     "traceback": [
      "\u001b[1;31m---------------------------------------------------------------------------\u001b[0m",
      "\u001b[1;31mNameError\u001b[0m                                 Traceback (most recent call last)",
      "\u001b[1;32mC:\\Users\\KDH201~1\\AppData\\Local\\Temp/ipykernel_57056/3414411065.py\u001b[0m in \u001b[0;36m<module>\u001b[1;34m\u001b[0m\n\u001b[1;32m----> 1\u001b[1;33m \u001b[0mo_Torque_Density\u001b[0m \u001b[1;33m=\u001b[0m \u001b[0mfun_Torque_Density\u001b[0m\u001b[1;33m(\u001b[0m\u001b[0mo_Peak_Torque_500rpm\u001b[0m\u001b[1;33m,\u001b[0m \u001b[0mActive_Volume\u001b[0m\u001b[1;33m)\u001b[0m  \u001b[1;31m# Torque density [Nm/L]\u001b[0m\u001b[1;33m\u001b[0m\u001b[1;33m\u001b[0m\u001b[0m\n\u001b[0m",
      "\u001b[1;31mNameError\u001b[0m: name 'fun_Torque_Density' is not defined"
     ]
    }
   ],
   "source": [
    "\n",
    "o_Torque_Density = fun_Torque_Density(o_Peak_Torque_500rpm, Active_Volume)  # Torque density [Nm/L]"
   ]
  },
  {
   "cell_type": "markdown",
   "metadata": {},
   "source": [
    "  ##### Signals to be read in OSL "
   ]
  },
  {
   "cell_type": "code",
   "execution_count": 40,
   "metadata": {},
   "outputs": [
    {
     "ename": "ModuleNotFoundError",
     "evalue": "No module named 'pyvariant'",
     "output_type": "error",
     "traceback": [
      "\u001b[1;31m---------------------------------------------------------------------------\u001b[0m",
      "\u001b[1;31mModuleNotFoundError\u001b[0m                       Traceback (most recent call last)",
      "\u001b[1;32mC:\\Users\\KDH201~1\\AppData\\Local\\Temp/ipykernel_57056/3982229771.py\u001b[0m in \u001b[0;36m<module>\u001b[1;34m\u001b[0m\n\u001b[0;32m      1\u001b[0m \u001b[1;31m##Exract\u001b[0m\u001b[1;33m\u001b[0m\u001b[1;33m\u001b[0m\u001b[1;33m\u001b[0m\u001b[0m\n\u001b[0;32m      2\u001b[0m     \u001b[1;31m# if run_mode in ['OSL_run']:\u001b[0m\u001b[1;33m\u001b[0m\u001b[1;33m\u001b[0m\u001b[1;33m\u001b[0m\u001b[0m\n\u001b[1;32m----> 3\u001b[1;33m \u001b[1;32mfrom\u001b[0m \u001b[0mpyvariant\u001b[0m \u001b[1;32mimport\u001b[0m \u001b[0mlist_list_2_variant_signal\u001b[0m\u001b[1;33m\u001b[0m\u001b[1;33m\u001b[0m\u001b[0m\n\u001b[0m\u001b[0;32m      4\u001b[0m \u001b[1;33m\u001b[0m\u001b[0m\n\u001b[0;32m      5\u001b[0m \u001b[0mList_Speed\u001b[0m        \u001b[1;33m=\u001b[0m \u001b[0mMat_File_Speed\u001b[0m\u001b[1;33m.\u001b[0m\u001b[0mtolist\u001b[0m\u001b[1;33m(\u001b[0m\u001b[1;33m)\u001b[0m     \u001b[1;31m# Convert to list\u001b[0m\u001b[1;33m\u001b[0m\u001b[1;33m\u001b[0m\u001b[0m\n",
      "\u001b[1;31mModuleNotFoundError\u001b[0m: No module named 'pyvariant'"
     ]
    }
   ],
   "source": [
    "##Exract\n",
    "    # if run_mode in ['OSL_run']:\n",
    "from pyvariant import list_list_2_variant_signal\n",
    "\n",
    "List_Speed        = Mat_File_Speed.tolist()     # Convert to list \n",
    "List_Peak_Torque  = Mat_File_Torque.tolist()\n",
    "List_Peak_Power   = Mat_File_Power.tolist()\n",
    "o_Sig_Peak_Torque = list_list_2_variant_signal([List_Peak_Torque], List_Speed)\n",
    "o_Sig_Peak_Power  = list_list_2_variant_signal([List_Peak_Power], List_Speed)\n",
    "  "
   ]
  },
  {
   "cell_type": "markdown",
   "metadata": {},
   "source": [
    "#### Lab: efficiency over WLTP-3 drive cycle"
   ]
  },
  {
   "cell_type": "code",
   "execution_count": null,
   "metadata": {},
   "outputs": [],
   "source": [
    "# Settings\n",
    "mcApp.SetVariable(\"DutyCycleType_Lab\", 1)                 # Automotive drive cycle\n",
    "mcApp.SetVariable(\"DrivCycle_MotorLAB\", \"WLTP Class 3\")   # WLTP3 drive cycle\n",
    "mcApp.SetVariable(\"LabThermalCoupling_DutyCycle\", 0)      # No coupling with Thermal\n"
   ]
  },
  {
   "cell_type": "code",
   "execution_count": null,
   "metadata": {},
   "outputs": [],
   "source": [
    "# Calculation & Post processing ##Exract\n",
    "\n",
    "mcApp.CalculateDutyCycle_Lab()                                                # Run calculation\n",
    "ex, o_WLTP3_Eff = mcApp.GetVariable(\"DutyCycleAverageEfficiency_EnergyUse\")   # Get efficiency value \n",
    "    "
   ]
  },
  {
   "cell_type": "code",
   "execution_count": null,
   "metadata": {},
   "outputs": [],
   "source": [
    "print(o_WLTP3_Eff)"
   ]
  },
  {
   "cell_type": "code",
   "execution_count": null,
   "metadata": {},
   "outputs": [],
   "source": [
    "# Raise exception if wrong performance data\n",
    "if o_WLTP3_Eff < 0:\n",
    "    mcApp.SaveToFile(mot_file_new_path)  # Save design   \n",
    "    mcApp.Quit()                         # Close Motor-CAD\n",
    "    mcApp = 0                            # Reset mcApp variable  \n",
    "    time.sleep(0.5)                      # Frozen for 0.5s\n",
    "    raise Exception('[ERROR] {}: drive cycle performance calculation failed'.format(OSL_DESIGN_NAME))\n"
   ]
  },
  {
   "cell_type": "code",
   "execution_count": 42,
   "metadata": {},
   "outputs": [],
   "source": [
    "\n",
    "mcApp.SetVariable(\"EmagneticCalcType_Lab\", 0)                  # Peak performance\n",
    "# mcApp.SetVariable('Imax_MotorLAB', 800) # Max line current (peak) \n",
    "mcApp.SetVariable(\"LabThermalCoupling\", 0)                         # Coupling with Thermal\n",
    "mcApp.SetVariable(\"OpPointSpec_MotorLAB\", 0)                       # Max temperature definition\n",
    "mcApp.CalculateOperatingPoint_Lab()                             # Operating point calculation          \n",
    "ex, LabOpPoint_ShaftTorque = mcApp.GetVariable(\"LabOpPoint_ShaftTorque\")    # Get shaft torque value\n",
    "ex, LabOpPoint_StatorCurrent_Line_Peak = mcApp.GetVariable(\"LabOpPoint_StatorCurrent_Line_Peak\")    # Get shaft torque value\n",
    "\n"
   ]
  },
  {
   "attachments": {},
   "cell_type": "markdown",
   "metadata": {},
   "source": [
    "#### Lab: continuous performance Thermal\n"
   ]
  },
  {
   "cell_type": "code",
   "execution_count": null,
   "metadata": {},
   "outputs": [],
   "source": [
    "# Settings Thermal\n",
    "mcApp.SetVariable(\"LabThermalCoupling\", 0)                         # Coupling with Thermal\n",
    "mcApp.SetVariable(\"OpPointSpec_MotorLAB\", 2)                       # Max temperature definition\n",
    "mcApp.SetVariable(\"StatorTempDemand_Lab\", p_Temp_Wdg_Max)          # Max winding temperature\n",
    "mcApp.SetVariable(\"RotorTempDemand_Lab\", p_Temp_Mag_Max)           # Max magnet temperature\n",
    "mcApp.SetVariable(\"ThermMaxCurrentLim_MotorLAB\", 0)                # Useful?\n",
    "mcApp.SetVariable(\"Iest_MotorLAB\", p_Line_Current_RMS*sqrt(2)*0.3) # Initial line current (rms)\n",
    "mcApp.SetVariable(\"Iest_RMS_MotorLAB\", p_Line_Current_RMS*0.3)     # Initial line current (peak)        \n"
   ]
  },
  {
   "cell_type": "code",
   "execution_count": null,
   "metadata": {},
   "outputs": [],
   "source": [
    "# Calculation & Post processing ##Exract\n",
    "\n",
    "Cont_Torque_Array  = np.zeros(len(p_Speed_Cont_Array))              # Contiuous torque array initialisation\n",
    "for i in range(len(p_Speed_Cont_Array)):                            # Calculation between Lab and Thermal\n",
    "    mcApp.SetVariable(\"SpeedDemand_MotorLAB\", p_Speed_Cont_Array[i])# Set operating speed\n",
    "    mcApp.CalculateOperatingPoint_Lab()                             # Operating point calculation          \n",
    "    ex, ContTorque = mcApp.GetVariable(\"LabOpPoint_ShaftTorque\")    # Get shaft torque value\n",
    "    Cont_Torque_Array[i] = ContTorque\n",
    "o_Cont_Torque_1700rpm = Cont_Torque_Array[0]                          # Assigning array variables\n",
    "o_Cont_Torque_4krpm = Cont_Torque_Array[1]\n"
   ]
  },
  {
   "cell_type": "markdown",
   "metadata": {},
   "source": [
    "### 3)Mech after Lab(Force Calculation) \n",
    " SCREENSHOTS"
   ]
  },
  {
   "cell_type": "code",
   "execution_count": null,
   "metadata": {},
   "outputs": [],
   "source": [
    "### Extract operating point for Force calculation in Mecha\n",
    "# Settings\n",
    "mcApp.SetVariable(\"OpPointSpec_MotorLAB\", 1)                             # Max Current definition    \n",
    "mcApp.SetVariable(\"StatorCurrentDemand_Lab\", p_Line_Current_RMS*sqrt(2)) # Line current (rms)\n",
    "mcApp.SetVariable(\"StatorCurrentDemand_RMS_Lab\", p_Line_Current_RMS)     # Line current (peak)\n",
    "mcApp.SetVariable(\"SpeedDemand_MotorLAB\", 500)                           # Operating speed        \n",
    "mcApp.SetVariable(\"LabThermalCoupling\", 0)                               # No coupling with Thermal\n",
    "mcApp.SetVariable(\"LabMagneticCoupling\", 1)                              # Coupling with EMag\n",
    "mcApp.CalculateOperatingPoint_Lab()                                      # Export to EMag\n",
    "# Calculation & Post processing\n",
    "mcApp.DoMechanicalCalculation()\n",
    "mcApp.CalculateTorqueEnvelope()\n",
    "mcApp.CalculateTorquePoints()\n",
    "mcApp.DoMultiForceCalculation()\n",
    "\n",
    "## Force 후처리코드 \n",
    "mcApp.UpdateForceAnalysisResults(FFTDataType)\n",
    "mcApp.LoadMultiForceLoadPointToAnalyse()\n",
    "mcApp.ExportNVHResultsData(filename)\n",
    "MultiForceLoadPointDefinition=20\n",
    "mcApp.ExportMultiForceData('D:\\KDH\\Thesis\\Rotem_HDEV\\Rotem_Design0001.txt')\n",
    "# mcApp.ExportNVHResultsData('D:\\KDH\\Thesis\\Rotem_HDEV\\Rotem_Design0001.csv')\n",
    "\n",
    "Export\n",
    "# Signal\n",
    "List_Pos = []\n",
    "List_TorqueVW_500rpm = []\n",
    "for i in range(p_Torque_Pts+1):\n",
    "    ex, Pos, Torque = mcApp.GetMagneticGraphPoint('TorqueVW', i)\n",
    "    List_Pos.append(Pos)\n",
    "    List_TorqueVW_500rpm.append(Torque)\n",
    "if run_mode in ['OSL_run']:\n",
    "    Pos_List_Len = len(List_Pos)\n",
    "    o_Sig_Torque_Ripples = list_list_2_variant_signal([List_TorqueVW_500rpm], List_Pos)\n",
    "\n",
    "##- force campbell diagram 추출코드가 필요함\n",
    "\n",
    "### Current density\n",
    "    o_Current_Density = mcApp.GetVariable('ArmatureConductorCurrentDensity')\n",
    "    o_Current_Density = o_Current_Density[1]\n"
   ]
  },
  {
   "cell_type": "markdown",
   "metadata": {},
   "source": [
    "### 4)Mech: centrifugal stress calculation\n"
   ]
  },
  {
   "cell_type": "code",
   "execution_count": null,
   "metadata": {},
   "outputs": [],
   "source": [
    "### Mechanical context\n",
    "\n",
    "mcApp.ShowMechanicalContext()\n",
    "mcApp.DisplayScreen('Scripting')\n",
    "\n",
    "\n",
    "# Settings\n",
    "mcApp.SetVariable(\"MechanicalOption_Magnets\", 1)              # Magnets included\n",
    "mcApp.SetVariable(\"MechanicalMeshLength_RotorLam\", 0.25)      # Rotor lamination mesh size\n",
    "mcApp.SetVariable(\"MechanicalMeshLength_Magnets\", 0.5)        # Mesh size for magnets\n",
    "mcApp.SetVariable(\"MechanicalMeshLength_RotorVoids\", 0.2)     # Mesh size for flux barriers   \n",
    "mcApp.SetVariable(\"Current_Shaft_Speed_RPM\", 1.2*p_Speed_Max) # Rotational speed\n",
    "mcApp.SetVariable(\"Shaft_Speed_[RPM]\", 1.2*p_Speed_Max) \n",
    "    \n",
    "# Calculation\n",
    "mcApp.DoMechanicalCalculation()\n",
    "ex, Stress_Max  = mcApp.GetVariable('MaxStress_RotorLam')        # Peak stress\n",
    "o_Stress_Safety = fun_Stress_Safety(p_Yield_Rotor, Stress_Max)   # Safety factor\n",
    "\n",
    "### Close Motor-CAD (necessary when running designs in parallel)\n",
    "mcApp.SaveToFile(mot_file_new_path)  # Save model\n",
    "#mcApp.Quit()                         # Close Motor-CAD\n",
    "#mcApp = 0                            # Reset mcApp variable  \n",
    "#time.sleep(0.5)                      # Freeze for 0.5s"
   ]
  },
  {
   "cell_type": "markdown",
   "metadata": {},
   "source": [
    " #  Responses to be drag and drop during 'OSL_setup' mode  INITIALISATION (END) "
   ]
  },
  {
   "cell_type": "code",
   "execution_count": null,
   "metadata": {},
   "outputs": [],
   "source": [
    " ----------------------------------------------         ------------------------------------------------\n",
    "\n",
    "### \n",
    "else:\n",
    "    \n",
    "  # Scalars\n",
    "    o_Cont_Torque_1krpm  = 0.\n",
    "    o_Cont_Torque_5krpm  = 0.\n",
    "    o_Peak_Power_3krpm   = 0.\n",
    "    o_Peak_Power_6rpm    = 0.\n",
    "    o_Peak_Torque_500rpm = 0.\n",
    "    o_WLTP3_Eff          = 0.\n",
    "    o_Current_Density    = 0.\n",
    "    o_Torque_Density     = 0.\n",
    "    o_Torque_Ripples     = 0.\n",
    "    o_Weight_Act         = 0.\n",
    "    o_Weight_Mag         = 0.\n",
    "    o_Weight_Rot_Core    = 0.\n",
    "    o_Weight_Stat_Core   = 0.\n",
    "    o_Weight_Wdg         = 0.\n",
    "    o_Stress_Safety      = 0.\n",
    "\n",
    "  # Signals\n",
    "    o_Sig_Peak_Torque    = list_list_2_variant_signal([[0]*Speed_Lab_Len], Speed_Lab) \n",
    "    o_Sig_Peak_Power     = list_list_2_variant_signal([[0]*Speed_Lab_Len], Speed_Lab) \n",
    "    o_Sig_Torque_Ripples = list_list_2_variant_signal([[0]*(p_Torque_Pts+1)], [0]*(p_Torque_Pts+1))\n"
   ]
  }
 ],
 "metadata": {
  "kernelspec": {
   "display_name": "py38_smoot",
   "language": "python",
   "name": "python3"
  },
  "language_info": {
   "codemirror_mode": {
    "name": "ipython",
    "version": 3
   },
   "file_extension": ".py",
   "mimetype": "text/x-python",
   "name": "python",
   "nbconvert_exporter": "python",
   "pygments_lexer": "ipython3",
   "version": "3.8.8"
  },
  "orig_nbformat": 4,
  "vscode": {
   "interpreter": {
    "hash": "d487badb63ce73b3eacef9820b00a9d3abd1487d86ad24432e2eabc8cb8d621c"
   }
  }
 },
 "nbformat": 4,
 "nbformat_minor": 2
}
