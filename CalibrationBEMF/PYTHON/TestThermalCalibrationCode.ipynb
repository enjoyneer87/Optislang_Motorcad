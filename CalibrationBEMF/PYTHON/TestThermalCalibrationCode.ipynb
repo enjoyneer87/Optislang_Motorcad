{
 "cells": [
  {
   "cell_type": "code",
   "execution_count": 1,
   "metadata": {},
   "outputs": [],
   "source": [
    "import win32com.client"
   ]
  },
  {
   "cell_type": "code",
   "execution_count": 2,
   "metadata": {},
   "outputs": [
    {
     "data": {
      "text/plain": [
       "0"
      ]
     },
     "execution_count": 2,
     "metadata": {},
     "output_type": "execute_result"
    }
   ],
   "source": [
    "app = win32com.client.Dispatch(\"MotorCAD.AppAutomation\")  # Launch Motor-CAD application\n",
    "app.DoWeightCalculation()\n",
    " "
   ]
  },
  {
   "cell_type": "code",
   "execution_count": null,
   "metadata": {},
   "outputs": [],
   "source": [
    "success,p_EMF_Pts=app.GetVariable('BackEMFPointsPerCycle')\n",
    "p_EMF_Pts\n",
    "\n",
    "import os\n",
    "import numpy as np\n",
    "import matplotlib.pyplot as plt"
   ]
  },
  {
   "cell_type": "code",
   "execution_count": null,
   "metadata": {},
   "outputs": [],
   "source": [
    "\n",
    "# Signal\n",
    "List_Pos = []\n",
    "List_PhaseEMF = []\n",
    "for i in range(p_EMF_Pts+1):\n",
    "    ex, Pos, PhaseEMF = app.GetMagneticGraphPoint('BackEMFPh1', i)\n",
    "    List_Pos.append(Pos)\n",
    "    List_PhaseEMF.append(PhaseEMF)"
   ]
  },
  {
   "cell_type": "code",
   "execution_count": null,
   "metadata": {},
   "outputs": [],
   "source": [
    "List_Pos=List_Pos[0:120]\n",
    "List_PhaseEMF=List_PhaseEMF[0:120]\n",
    "plt.plot(List_Pos[0:120], List_PhaseEMF[0:120])\n"
   ]
  },
  {
   "cell_type": "code",
   "execution_count": null,
   "metadata": {},
   "outputs": [],
   "source": [
    "def compare_fft(data1, data2):\n",
    "    # FFT 계산\n",
    "    fft_data1 = np.fft.fft(data1)\n",
    "    fft_data2 = np.fft.fft(data2)\n",
    "\n",
    "    # FFT 결과 추출\n",
    "    abs_fft_data1 = 2.0 / len(data1) * np.abs(fft_data1)\n",
    "    abs_fft_data2 = 2.0 / len(data2) * np.abs(fft_data2)\n",
    "\n",
    "    # 주파수 성분 크기의 차이 계산\n",
    "    diff = abs_fft_data1 - abs_fft_data2\n",
    "\n",
    "    # 차이의 제곱합의 제곱근을 오차로 정의\n",
    "    error = np.sqrt(np.sum(np.power(diff, 2)))\n",
    "\n",
    "    return diff,error\n"
   ]
  },
  {
   "cell_type": "code",
   "execution_count": null,
   "metadata": {},
   "outputs": [],
   "source": [
    "def zeroOut3ncoeffs(signal):\n",
    "    # 입력 시그널의 길이 계산\n",
    "    n = len(signal)\n",
    "    # 입력 시그널의 FFT 계산\n",
    "    signal_fft = np.fft.fft(signal)\n",
    "    # 0차를 가운데로 두기 위해 fftshift 함수를 사용합니다.\n",
    "    signal_fft = np.fft.fftshift(signal_fft)\n",
    "    # 3의 배수에 해당하는 성분 제거\n",
    "    for j in range(n//12):\n",
    "        signal_fft[n//2-3*(j+1)]=0\n",
    "        signal_fft[n//2+3*(j+1)]=0\n",
    "    # inverse FFT를 수행하여 filtering된 시그널 계산\n",
    "    filtered_signal = np.fft.ifft(np.fft.ifftshift(signal_fft))\n",
    "    return filtered_signal\n"
   ]
  },
  {
   "cell_type": "code",
   "execution_count": null,
   "metadata": {},
   "outputs": [],
   "source": [
    "MeasuredData = np.loadtxt('Z:/Thesis/Optislang_Motorcad/CalibrationBEMF/coMeasuredEMF.csv', delimiter=',')\n",
    "List_PhaseEMFwo3rd=zeroOut3ncoeffs(List_PhaseEMF)\n",
    "\n",
    "List_PhaseEMFwo3rd = List_PhaseEMFwo3rd.tolist()"
   ]
  },
  {
   "cell_type": "code",
   "execution_count": null,
   "metadata": {},
   "outputs": [],
   "source": [
    "diff, o_error=compare_fft(MeasuredData,List_PhaseEMFwo3rd)\n"
   ]
  },
  {
   "cell_type": "code",
   "execution_count": null,
   "metadata": {},
   "outputs": [],
   "source": [
    "o_error\n",
    "len(MeasuredData)\n",
    "len(List_PhaseEMFwo3rd)\n",
    "ShiftedX=29\n",
    "ShiftedX2=0\n",
    "\n",
    "EMFsignal1=np.concatenate((MeasuredData[ShiftedX:], MeasuredData[:ShiftedX]))\n",
    "EMFsignal2=np.concatenate((List_PhaseEMFwo3rd[ShiftedX2:], List_PhaseEMFwo3rd[:ShiftedX2]))\n",
    "\n",
    "\n",
    "plt.plot(EMFsignal1)\n",
    "plt.plot(EMFsignal2)\n",
    "# plt.plot(List_PhaseEMFwo3rd)\n",
    "plt.savefig('PhaseEMFwaveform.png')    "
   ]
  },
  {
   "cell_type": "code",
   "execution_count": null,
   "metadata": {},
   "outputs": [],
   "source": [
    "def euclidean_norm(signal1, signal2):\n",
    "    # 제곱 차이 계산\n",
    "    diff = signal1 - signal2\n",
    "    square_diff = np.power(diff, 2)\n",
    "    \n",
    "    # 제곱 차이의 합 계산\n",
    "    sum_square_diff = np.sum(square_diff)\n",
    "    \n",
    "    # 제곱 차이의 합의 제곱근 계산\n",
    "    norm = np.sqrt(sum_square_diff)\n",
    "    \n",
    "    return norm\n",
    "\n",
    "def rmse(y_true, y_pred):\n",
    "    # 실제값과 예측값의 차이 계산\n",
    "    diff = y_true - y_pred\n",
    "    # 차이 제곱 계산\n",
    "    square_diff = np.power(diff, 2)\n",
    "    # 차이 제곱의 평균 계산\n",
    "    mean_square_diff = np.mean(square_diff)\n",
    "    # RMSE 계산\n",
    "    rmse = np.sqrt(mean_square_diff)\n",
    "    return rmse\n",
    "\n",
    "def min_max_normalize(data):\n",
    "    # 데이터의 최소값과 최대값 계산\n",
    "    min_val = np.min(data)\n",
    "    max_val = np.max(data)\n",
    "    # 최소값으로 뺀 후, 최대값에서 최소값을 나누어서 0~1 사이의 값으로 정규화\n",
    "    norm_data = (data - min_val) / (max_val - min_val)\n",
    "    return norm_data"
   ]
  },
  {
   "cell_type": "code",
   "execution_count": null,
   "metadata": {},
   "outputs": [],
   "source": [
    "normalEMFsignal1 = min_max_normalize(MeasuredData)\n",
    "normalEMFsignal2 = min_max_normalize(List_PhaseEMFwo3rd)\n",
    "diff_FFT,o_normalDataError=compare_fft(normalEMFsignal1,normalEMFsignal2)\n",
    "diff_FFT,o_error=compare_fft(MeasuredData,List_PhaseEMFwo3rd)\n",
    "\n",
    "normalRmse=rmse(normalEMFsignal1, normalEMFsignal2)\n"
   ]
  },
  {
   "cell_type": "code",
   "execution_count": null,
   "metadata": {},
   "outputs": [],
   "source": [
    "normalEMFsignal1 = min_max_normalize(EMFsignal1)\n",
    "normalEMFsignal2 = min_max_normalize(EMFsignal2)\n",
    "\n",
    "norm = euclidean_norm(EMFsignal1, EMFsignal2)\n",
    "normNormal=euclidean_norm(normalEMFsignal1, normalEMFsignal2)\n",
    "rmsesignal = rmse(EMFsignal1, EMFsignal2)\n",
    "normalRmse=rmse(normalEMFsignal1, normalEMFsignal2)\n",
    "norm = np.abs(norm) # 복소수의 크기 계산\n",
    "normNormal = np.abs(normNormal) # 복소수의 크기 계산\n",
    "rmsesignal = np.abs(rmsesignal) # 복소수의 크기 계산\n",
    "normalRmse = np.abs(normalRmse) # 복소수의 크기 계산\n",
    "\n",
    "print(norm,normNormal,rmsesignal,normalRmse) # 33.5832713275385\n"
   ]
  },
  {
   "cell_type": "code",
   "execution_count": null,
   "metadata": {},
   "outputs": [],
   "source": [
    "x = np.array([1, 2, 3, 4, 5])\n",
    "y = np.array([1, 2, 3, 5, 6])\n",
    "\n",
    "norm = euclidean_norm(x, y)\n",
    "print(norm) # 1.0\n"
   ]
  },
  {
   "cell_type": "code",
   "execution_count": null,
   "metadata": {},
   "outputs": [],
   "source": [
    "# 입력 데이터 생성\n",
    "data =List_PhaseEMF\n",
    "\n",
    "# zeroOut3ncoeffs 함수를 통한 필터링\n",
    "filtered_signal = zeroOut3ncoeffs(data)\n",
    "\n",
    "# fft 계산\n",
    "fft_data = np.fft.fft(data)\n",
    "fft_filtered = np.fft.fft(filtered_signal)\n",
    "\n",
    "# 0차 성분이 가운데로 위치하게 shift\n",
    "fft_data = np.fft.fftshift(fft_data)\n",
    "fft_filtered = np.fft.fftshift(fft_filtered)\n",
    "\n",
    "abs_fft_data1 = 2.0 / len(fft_data) * np.abs(fft_data)\n",
    "abs_fft_data2 = 2.0 / len(fft_filtered) * np.abs(fft_filtered)\n",
    "\n",
    "# x축 라벨 생성\n",
    "n = len(fft_data)\n",
    "\n",
    "# bar plot 그리기\n",
    "\n",
    "plt.figure(figsize=(20, 6))\n",
    "plt.bar(range(len(fft_data)),abs_fft_data1, width=0.8, label='original')\n",
    "plt.bar(range(len(fft_data)),abs_fft_data2, width=0.4, label='filtered')\n",
    "plt.xlabel('order')\n",
    "plt.legend()\n",
    "xticklabels=np.arange(-n//2, (n+1)//2,3).tolist()\n",
    "xticks=np.arange(0,len(fft_data),3)\n",
    "plt.xticks(xticks,xticklabels)\n",
    "plt.show()"
   ]
  },
  {
   "cell_type": "code",
   "execution_count": null,
   "metadata": {},
   "outputs": [],
   "source": [
    "import numpy as np\n",
    "import matplotlib.pyplot as plt\n",
    "\n",
    "\n",
    "\n",
    "# 데이터 읽기\n",
    "# FFT 계산\n",
    "data1=MeasuredData\n",
    "data2=List_PhaseEMFwo3rd\n",
    "# FFT 계산\n",
    "fft_data1 = np.fft.fft(data1)\n",
    "fft_data2 = np.fft.fft(data2)\n",
    "\n",
    "# fft 계산\n",
    "fft_data = np.fft.fft(data1)\n",
    "fft_filtered = np.fft.fft(data2)\n",
    "\n",
    "# 0차 성분이 가운데로 위치하게 shift\n",
    "fft_data = np.fft.fftshift(fft_data)\n",
    "fft_filtered = np.fft.fftshift(fft_filtered)\n",
    "\n",
    "abs_fft_data1 = 2.0 / len(fft_data) * np.abs(fft_data)\n",
    "abs_fft_data2 = 2.0 / len(fft_filtered) * np.abs(fft_filtered)\n",
    "\n",
    "# x축 라벨 생성\n",
    "n = len(fft_data)\n",
    "\n",
    "# 그래프 그리기\n",
    "plt.figure(figsize=(20, 6))\n",
    "plt.bar(range(len(fft_data)),abs_fft_data1, width=0.8, label='original')\n",
    "plt.bar(range(len(fft_data)),abs_fft_data2, width=0.4, label='Simulation')\n",
    "plt.bar(range(len(fft_data)),abs_fft_data1-abs_fft_data2, width=0.4, label='Difference')\n",
    "plt.xlabel('order')\n",
    "plt.legend()\n",
    "xticklabels=np.arange(-n//2, (n+1)//2,3).tolist()\n",
    "xticks=np.arange(0,len(fft_data),3)\n",
    "plt.xticks(xticks,xticklabels)\n",
    "plt.show()"
   ]
  }
 ],
 "metadata": {
  "kernelspec": {
   "display_name": "Python 3",
   "language": "python",
   "name": "python3"
  },
  "language_info": {
   "codemirror_mode": {
    "name": "ipython",
    "version": 3
   },
   "file_extension": ".py",
   "mimetype": "text/x-python",
   "name": "python",
   "nbconvert_exporter": "python",
   "pygments_lexer": "ipython3",
   "version": "3.8.10"
  },
  "orig_nbformat": 4
 },
 "nbformat": 4,
 "nbformat_minor": 2
}
